{
 "cells": [
  {
   "cell_type": "markdown",
   "metadata": {},
   "source": [
    "# Comparing the performance of Neural networks and Gradient boosted trees  , and a stacked ensemble of both in MHC class I binding prediction\n",
    "\n",
    "\n",
    "---\n",
    "### Background\n",
    "\n",
    "The prediction of MHC peptide binding is an important method in immunology. Data driven methods give best performance for this task because of complexity of the MHC molecules and the binding process. The most successful machine learning models were Neural networks in this area.  I have seen articles describing SVM models, but nobody has tried gradient boosted trees (as far as I know).\n",
    "\n",
    "\n",
    "In the last years the vast majority of Data science competitions were won with a framework called Gradient Boosted Trees. These models very frequently outperform neural networks in gereal machine learning tasks. \n",
    "\n",
    "These facts gave me the idea to compare the perfomance of  Neural networks  and Gradient boosted trees and in MHC class I peptide binding prediction.\n",
    "\n",
    "Also Neural networks and Gradient boosted trees are very different models, therefore ensembling them can give a really big boost to performance. So I tried to ensemble these models.\n",
    "\n",
    "\n",
    "----\n",
    "### Data\n",
    "\n",
    "#### Source\n",
    "I have downloaded MHC class I peptide binding data which has been used in this benchmark article ( http://www.ncbi.nlm.nih.gov/pubmed/25017736)  from the IEDB website.\n",
    "\n",
    "\n",
    "#### Encoding \n",
    "\n",
    "Input data is very simply coded as the folowing:\n",
    "- zero padded sequences to the longest peptide length\n",
    "- amino acids are encoded in a one hot scheme\n",
    "- species are encoded in a one hot scheme\n",
    "- HLA types are encoded in a one-hot scheme\n",
    "- HLA loci are encoded in a one-hot scheme\n",
    "- HLA serotypes are encoded in a one-hot scheme\n",
    "- peptide lengths are included\n",
    "\n",
    "#### Target \n",
    "\n",
    "I predicted binary binding labels based on the IC > 500nM threshold.\n",
    "\n",
    "\n",
    "---\n",
    "\n",
    "### Models\n",
    "\n",
    "#### Neural network\n",
    "\n",
    "I used a neural network architecture similar to the one used in NetMHCpan.\n",
    "- 1 hidden layer\n",
    "- 60 units in the hidden layer\n",
    "\n",
    "I used the Keras software library. http://keras.io\n",
    "\n",
    "\n",
    "#### Gradient boosted trees\n",
    "Some resources about the model:\n",
    "- http://xgboost.readthedocs.org/en/latest/model.html\n",
    "- http://homes.cs.washington.edu/~tqchen/pdf/BoostedTree.pdf\n",
    "    \n",
    "I used the XGBoost software library. http://xgboost.readthedocs.org/en/latest/\n",
    "\n",
    "\n",
    "#### Ensembling\n",
    "\n",
    "\n",
    "\n",
    "I used a stacking approach for ensembling. I used original features, and probabilities predicted by base models as input for the meta estimator. The same folds are used in both step to prevent label leakage.\n",
    "\n",
    "Original article about stacking.\n",
    "- http://www.sciencedirect.com/science/article/pii/S0893608005800231\n",
    "\n",
    "\n",
    "\n",
    "\n",
    "---\n",
    "\n",
    "### Methods\n",
    "\n",
    "\n",
    "I made 5-fold cross validation evaluations, with AUC for all the measurements. All models can use early stopping on validation data so 3:1:1 scheme was used in each fold: 3 subsets for training 1 for validation and 1 for only prediction.\n",
    "\n",
    "The folds used were defined in the benchmark article as the group similarity (cv_gs) folds.\n",
    "\n",
    "\n",
    "\n",
    "--- \n",
    "\n",
    "### Conclusions\n",
    "\n",
    "\n",
    "Gradient boosted trees significantly outperform neural networks in this task. The ensemble of neural networks and gradient boosted trees gives further improvement over the base models. NetMHCPan performs better than the ensemble model on this dataset.\n",
    "\n",
    "\n",
    "Method | 5 fold CV\n",
    "--- | --- \n",
    "NN | 0.907\n",
    "Gradient boosted trees | 0.919\n",
    "Ensemble of Gradient boosted trees + NN | 0.923\n",
    "NetMHCpan | **0.934**\n",
    "\n",
    "\n",
    "The ensemble has better results than NetMHCpan on peptide length 8, but please note that these NetMHCpan results from the article were obtained with the L-mer approximation, not the newest representation on peptids of different length.\n",
    "\n",
    "---\n",
    "\n",
    "\n",
    "### Future Work\n",
    "\n",
    "#### Training on similar data than NetMHCpan\n",
    "\n",
    "The ensemble model performs worse than NetMHCpan which is considered to be the state of the art model in MHC class I prediction. \n",
    "\n",
    "But NetMHCpan uses sophsticated encoding of the MHC molecules with pseudo sequences, a sophisticated way for predicting different length peptides and it is an ensemble of many models trained on different representations. \n",
    "\n",
    "**I think that Gradient Boosted trees trained on the same data used for NetMHCpan training, and using ensembling trees and neural networks could significanlty improve the current state of the art.**\n",
    "\n",
    "\n",
    "\n",
    "----\n",
    "#### Notes\n",
    "\n",
    "- To run this notebook you need to \n",
    "    - download the dataset\n",
    "    - export the MHC_DATA variable\n",
    "    - and have keras,theno,xgboost,sklearn,pandas,numpy installed.\n",
    "    \n",
    "    \n",
    "- This notebook can be run as it is. Just click run all. \n",
    "    - It takes some time but on a stronger computer it should be less than 30 minutes.\n",
    "\n",
    "\n",
    "----\n",
    "\n",
    "\n",
    "This notebook was created by Dezso Ribli"
   ]
  },
  {
   "cell_type": "markdown",
   "metadata": {},
   "source": [
    "### Load modules"
   ]
  },
  {
   "cell_type": "code",
   "execution_count": 1,
   "metadata": {
    "collapsed": false
   },
   "outputs": [
    {
     "name": "stderr",
     "output_type": "stream",
     "text": [
      "Using Theano backend.\n",
      "/home/ribli/tools/anaconda2/lib/python2.7/site-packages/matplotlib/__init__.py:872: UserWarning: axes.color_cycle is deprecated and replaced with axes.prop_cycle; please use the latter.\n",
      "  warnings.warn(self.msg_depr % (key, alt_key))\n"
     ]
    }
   ],
   "source": [
    "import numpy as np\n",
    "import pandas as pd\n",
    "from sklearn.preprocessing import LabelBinarizer\n",
    "from sklearn.cross_validation import KFold\n",
    "from sklearn.cross_validation import train_test_split\n",
    "import xgboost as xgb\n",
    "from keras.callbacks import ModelCheckpoint,EarlyStopping\n",
    "from keras.models import Sequential\n",
    "from keras.layers import Dense\n",
    "from sklearn.metrics import roc_auc_score\n",
    "import glob\n",
    "import matplotlib.pyplot as plt\n",
    "import seaborn as sns\n",
    "%matplotlib inline\n",
    "\n",
    "#go to working dir\n",
    "import os\n",
    "os.chdir(os.environ['MHC_DIR'])"
   ]
  },
  {
   "cell_type": "markdown",
   "metadata": {},
   "source": [
    "### Data Loader functions"
   ]
  },
  {
   "cell_type": "code",
   "execution_count": 2,
   "metadata": {
    "collapsed": true
   },
   "outputs": [],
   "source": [
    "def load_data():\n",
    "    \"\"\"Load train/blind test data as in the benchmark.\"\"\"\n",
    "    \n",
    "    #load the cross validation data\n",
    "    dataf='benchmark_mhci_reliability/binding/bd2009.1/bdata.2009.mhci.public.1.cv_gs.txt'\n",
    "    data=pd.read_csv(dataf,sep='\\t')\n",
    "    \n",
    "    #select only with length 8-12, anyway only those will be evauated\n",
    "    data=data[(data.peptide_length >=8) & (data.peptide_length <=12)]\n",
    "     \n",
    "    #encode hla,species,amino acids,in a one hot scheme\n",
    "    X_hla=one_hot_encode(data.mhc.values,data.mhc.values)\n",
    "    X_hla_loci=encode_hla_loci(data.mhc.values,data.mhc.values)\n",
    "    X_hla_sero=encode_hla_sero(data.mhc.values,data.mhc.values)\n",
    "    X_species=one_hot_encode(data.species.values,data.species.values)\n",
    "    X_seq=encode_seq(data.sequence.values,data.sequence.values)\n",
    "    \n",
    "    #stack columns\n",
    "    X=np.column_stack([X_species,\n",
    "                       X_hla,\n",
    "                       X_hla_loci,\n",
    "                       X_hla_sero,\n",
    "                       X_seq,\n",
    "                       data.peptide_length.values])\n",
    "    \n",
    "    #make binding class labels\n",
    "    y=np.ones(len(data.meas))\n",
    "    y[data.meas.values>=500]=0\n",
    "\n",
    "    #permute arrays as they are ordered!!!\n",
    "    rng=np.random.RandomState(42)\n",
    "    perm=rng.permutation(len(X))\n",
    "    X,y,data=X[perm],y[perm],data.iloc[perm,:]\n",
    "    \n",
    "    return X,y,data\n",
    "\n",
    "\n",
    "def one_hot_encode(x_all,x_in):\n",
    "    \"\"\"One hot encode categorical variable.\"\"\"\n",
    "    lb = LabelBinarizer()\n",
    "    lb.fit(x_all)\n",
    "    x_out=lb.transform( x_in )\n",
    "    return x_out\n",
    "\n",
    "\n",
    "def encode_seq(x_all,x_in):\n",
    "    \"\"\"Encode string amino acid sequences to numbers.\"\"\"\n",
    "    #zero pad peptids to equal length\n",
    "    maxlen=np.max(map(len,x_all))\n",
    "    x_temp_all=np.array([list(x.zfill(maxlen)) for x in x_all])\n",
    "    x_temp_in=np.array([list(x.zfill(maxlen)) for x in x_in])\n",
    "    \n",
    "    lb = LabelBinarizer()\n",
    "    lb.fit(x_temp_all.flatten())\n",
    "    x_out=np.column_stack([lb.transform(x_temp_in[:,i]) for i in range(maxlen)])\n",
    "\n",
    "    return x_out\n",
    "\n",
    "\n",
    "def encode_hla_loci(x_all,x_in):\n",
    "    \"\"\"Encode string HLA loci to numbers.\"\"\"\n",
    "    #get 1st subtype\n",
    "    new_x_all=[x.split('-')[1][0] for x in x_all]\n",
    "    new_x_in=[x.split('-')[1][0] for x in x_in]\n",
    "    \n",
    "    return one_hot_encode(new_x_all,new_x_in)\n",
    "\n",
    "\n",
    "def get_serotype(hla_type):\n",
    "    \"\"\"Parse serotype from hla type.\"\"\"\n",
    "    if len(hla_type.split('-'))<3:\n",
    "        return '0'\n",
    "    else:\n",
    "        return hla_type.split('-')[2][:2]\n",
    "\n",
    "    \n",
    "def encode_hla_sero(x_all,x_in):\n",
    "    \"\"\"Encode string HLA serotype to numbers.\"\"\"\n",
    "    #get 1st subtype\n",
    "    new_x_all=[get_serotype(x) for x in x_all]\n",
    "    new_x_in=[get_serotype(x) for x in x_in]\n",
    "    \n",
    "    return one_hot_encode(new_x_all,new_x_in)"
   ]
  },
  {
   "cell_type": "markdown",
   "metadata": {},
   "source": [
    "----\n",
    "\n",
    "\n",
    "### Cross validation scheme for both models\n"
   ]
  },
  {
   "cell_type": "code",
   "execution_count": 3,
   "metadata": {
    "collapsed": true
   },
   "outputs": [],
   "source": [
    "def cv_gs(fitter,model_spec,X,y,data):\n",
    "    \"\"\"Evaluate XGB model with cross validation.\"\"\"\n",
    "    #result\n",
    "    y_pred=np.zeros(len(y))\n",
    "    #loop folds\n",
    "    for i in xrange(5):\n",
    "        #select folds\n",
    "        train_index,test_index=data.cv.values!=i,data.cv.values==i\n",
    "        #train and predict\n",
    "        y_pred[test_index]=fitter(model_spec,X[train_index],y[train_index],X[test_index])\n",
    "    return y_pred\n",
    "\n",
    "\n",
    "def keras_fit_predict(get_model,X_train,y_train,X_test,\n",
    "                      validation_split=0.1,patience=1,nb_epoch=100,**kwargs):\n",
    "    \"\"\"Fit model on train test set with early stopping.\"\"\"\n",
    "    #get model\n",
    "    model=get_model(X_train.shape[1])\n",
    "    \n",
    "    #callbacks\n",
    "    best_model=ModelCheckpoint('best_model',save_best_only=True,verbose=2)\n",
    "    early_stop=EarlyStopping(patience=patience,verbose=2)\n",
    "    \n",
    "    #train it\n",
    "    model.fit(X_train,y_train,nb_epoch = nb_epoch,validation_split=validation_split,\n",
    "              callbacks=[best_model,early_stop],verbose=2,**kwargs)\n",
    "    \n",
    "    #load best model and predict\n",
    "    model.load_weights('best_model')\n",
    "    y_pred_test=model.predict(X_test).ravel()\n",
    "    \n",
    "    return y_pred_test\n",
    "\n",
    "def xgb_fit_predict(params,X_train,y_train,X_test,num_boost_round=5000,verbose_eval=500,\n",
    "                    early_stopping_rounds=200,validation_size=0.1):\n",
    "    \"\"\"Fit model on train test set with early stopping.\"\"\"\n",
    "    #split validation data for early stopping\n",
    "    X_train, X_valid, y_train, y_valid = train_test_split(X_train, y_train, test_size=validation_size)\n",
    "    \n",
    "    #convert to data format for xgb\n",
    "    dtrain = xgb.DMatrix( X_train, label=y_train)\n",
    "    dvalid = xgb.DMatrix( X_valid, label=y_valid)\n",
    "    dtest = xgb.DMatrix( X_test )\n",
    "    \n",
    "    #define printed evaluations\n",
    "    evallist  = [(dtrain,'train'),(dvalid,'eval')]\n",
    "\n",
    "    #lets train\n",
    "    bst = xgb.train(params,dtrain,evals=evallist,\n",
    "                    num_boost_round=num_boost_round,\n",
    "                    early_stopping_rounds=early_stopping_rounds,\n",
    "                    verbose_eval=verbose_eval)\n",
    "    \n",
    "    #make predictions\n",
    "    y_pred_test=bst.predict(dtest)\n",
    "    \n",
    "    return y_pred_test"
   ]
  },
  {
   "cell_type": "markdown",
   "metadata": {},
   "source": [
    "### Load data"
   ]
  },
  {
   "cell_type": "code",
   "execution_count": 4,
   "metadata": {
    "collapsed": false
   },
   "outputs": [],
   "source": [
    "X,y,data=load_data()"
   ]
  },
  {
   "cell_type": "markdown",
   "metadata": {},
   "source": [
    "### Train NN in a CV scheme"
   ]
  },
  {
   "cell_type": "code",
   "execution_count": 5,
   "metadata": {
    "collapsed": false,
    "scrolled": true
   },
   "outputs": [
    {
     "name": "stdout",
     "output_type": "stream",
     "text": [
      "Train on 96615 samples, validate on 10735 samples\n",
      "Epoch 1/100\n",
      "Epoch 00000: val_loss improved from inf to 0.39393, saving model to best_model\n",
      "2s - loss: 0.4591 - val_loss: 0.3939\n",
      "Epoch 2/100\n",
      "Epoch 00001: val_loss improved from 0.39393 to 0.34497, saving model to best_model\n",
      "2s - loss: 0.3623 - val_loss: 0.3450\n",
      "Epoch 3/100\n",
      "Epoch 00002: val_loss improved from 0.34497 to 0.32244, saving model to best_model\n",
      "2s - loss: 0.3226 - val_loss: 0.3224\n",
      "Epoch 4/100\n",
      "Epoch 00003: val_loss improved from 0.32244 to 0.31602, saving model to best_model\n",
      "2s - loss: 0.2986 - val_loss: 0.3160\n",
      "Epoch 5/100\n",
      "Epoch 00004: val_loss improved from 0.31602 to 0.30347, saving model to best_model\n",
      "2s - loss: 0.2823 - val_loss: 0.3035\n",
      "Epoch 6/100\n",
      "Epoch 00005: val_loss did not improve\n",
      "2s - loss: 0.2702 - val_loss: 0.3062\n",
      "Epoch 7/100\n",
      "Epoch 00006: val_loss did not improve\n",
      "Epoch 00006: early stopping\n",
      "2s - loss: 0.2607 - val_loss: 0.3063\n",
      "Train on 96639 samples, validate on 10738 samples\n",
      "Epoch 1/100\n",
      "Epoch 00000: val_loss improved from inf to 0.38041, saving model to best_model\n",
      "2s - loss: 0.4550 - val_loss: 0.3804\n",
      "Epoch 2/100\n",
      "Epoch 00001: val_loss improved from 0.38041 to 0.33706, saving model to best_model\n",
      "2s - loss: 0.3536 - val_loss: 0.3371\n",
      "Epoch 3/100\n",
      "Epoch 00002: val_loss improved from 0.33706 to 0.31773, saving model to best_model\n",
      "2s - loss: 0.3144 - val_loss: 0.3177\n",
      "Epoch 4/100\n",
      "Epoch 00003: val_loss improved from 0.31773 to 0.31022, saving model to best_model\n",
      "2s - loss: 0.2927 - val_loss: 0.3102\n",
      "Epoch 5/100\n",
      "Epoch 00004: val_loss improved from 0.31022 to 0.30743, saving model to best_model\n",
      "2s - loss: 0.2768 - val_loss: 0.3074\n",
      "Epoch 6/100\n",
      "Epoch 00005: val_loss improved from 0.30743 to 0.30066, saving model to best_model\n",
      "2s - loss: 0.2635 - val_loss: 0.3007\n",
      "Epoch 7/100\n",
      "Epoch 00006: val_loss improved from 0.30066 to 0.30053, saving model to best_model\n",
      "2s - loss: 0.2515 - val_loss: 0.3005\n",
      "Epoch 8/100\n",
      "Epoch 00007: val_loss did not improve\n",
      "2s - loss: 0.2414 - val_loss: 0.3066\n",
      "Epoch 9/100\n",
      "Epoch 00008: val_loss did not improve\n",
      "Epoch 00008: early stopping\n",
      "2s - loss: 0.2338 - val_loss: 0.3079\n",
      "Train on 96804 samples, validate on 10757 samples\n",
      "Epoch 1/100\n",
      "Epoch 00000: val_loss improved from inf to 0.40271, saving model to best_model\n",
      "2s - loss: 0.4600 - val_loss: 0.4027\n",
      "Epoch 2/100\n",
      "Epoch 00001: val_loss improved from 0.40271 to 0.35400, saving model to best_model\n",
      "2s - loss: 0.3633 - val_loss: 0.3540\n",
      "Epoch 3/100\n",
      "Epoch 00002: val_loss improved from 0.35400 to 0.32289, saving model to best_model\n",
      "2s - loss: 0.3208 - val_loss: 0.3229\n",
      "Epoch 4/100\n",
      "Epoch 00003: val_loss improved from 0.32289 to 0.31270, saving model to best_model\n",
      "2s - loss: 0.2967 - val_loss: 0.3127\n",
      "Epoch 5/100\n",
      "Epoch 00004: val_loss improved from 0.31270 to 0.30722, saving model to best_model\n",
      "2s - loss: 0.2804 - val_loss: 0.3072\n",
      "Epoch 6/100\n",
      "Epoch 00005: val_loss improved from 0.30722 to 0.30695, saving model to best_model\n",
      "2s - loss: 0.2679 - val_loss: 0.3069\n",
      "Epoch 7/100\n",
      "Epoch 00006: val_loss improved from 0.30695 to 0.30512, saving model to best_model\n",
      "2s - loss: 0.2577 - val_loss: 0.3051\n",
      "Epoch 8/100\n",
      "Epoch 00007: val_loss did not improve\n",
      "2s - loss: 0.2491 - val_loss: 0.3052\n",
      "Epoch 9/100\n",
      "Epoch 00008: val_loss did not improve\n",
      "Epoch 00008: early stopping\n",
      "2s - loss: 0.2418 - val_loss: 0.3089\n",
      "Train on 96778 samples, validate on 10754 samples\n",
      "Epoch 1/100\n",
      "Epoch 00000: val_loss improved from inf to 0.39270, saving model to best_model\n",
      "2s - loss: 0.4592 - val_loss: 0.3927\n",
      "Epoch 2/100\n",
      "Epoch 00001: val_loss improved from 0.39270 to 0.35655, saving model to best_model\n",
      "2s - loss: 0.3547 - val_loss: 0.3566\n",
      "Epoch 3/100\n",
      "Epoch 00002: val_loss improved from 0.35655 to 0.31890, saving model to best_model\n",
      "2s - loss: 0.3137 - val_loss: 0.3189\n",
      "Epoch 4/100\n",
      "Epoch 00003: val_loss improved from 0.31890 to 0.30759, saving model to best_model\n",
      "2s - loss: 0.2893 - val_loss: 0.3076\n",
      "Epoch 5/100\n",
      "Epoch 00004: val_loss improved from 0.30759 to 0.30540, saving model to best_model\n",
      "2s - loss: 0.2717 - val_loss: 0.3054\n",
      "Epoch 6/100\n",
      "Epoch 00005: val_loss improved from 0.30540 to 0.30046, saving model to best_model\n",
      "2s - loss: 0.2582 - val_loss: 0.3005\n",
      "Epoch 7/100\n",
      "Epoch 00006: val_loss did not improve\n",
      "2s - loss: 0.2472 - val_loss: 0.3029\n",
      "Epoch 8/100\n",
      "Epoch 00007: val_loss did not improve\n",
      "Epoch 00007: early stopping\n",
      "2s - loss: 0.2375 - val_loss: 0.3105\n",
      "Train on 96948 samples, validate on 10772 samples\n",
      "Epoch 1/100\n",
      "Epoch 00000: val_loss improved from inf to 0.39139, saving model to best_model\n",
      "2s - loss: 0.4569 - val_loss: 0.3914\n",
      "Epoch 2/100\n",
      "Epoch 00001: val_loss improved from 0.39139 to 0.33720, saving model to best_model\n",
      "2s - loss: 0.3582 - val_loss: 0.3372\n",
      "Epoch 3/100\n",
      "Epoch 00002: val_loss improved from 0.33720 to 0.31638, saving model to best_model\n",
      "2s - loss: 0.3175 - val_loss: 0.3164\n",
      "Epoch 4/100\n",
      "Epoch 00003: val_loss improved from 0.31638 to 0.30598, saving model to best_model\n",
      "2s - loss: 0.2949 - val_loss: 0.3060\n",
      "Epoch 5/100\n",
      "Epoch 00004: val_loss improved from 0.30598 to 0.29615, saving model to best_model\n",
      "2s - loss: 0.2799 - val_loss: 0.2962\n",
      "Epoch 6/100\n",
      "Epoch 00005: val_loss did not improve\n",
      "2s - loss: 0.2672 - val_loss: 0.2964\n",
      "Epoch 7/100\n",
      "Epoch 00006: val_loss did not improve\n",
      "Epoch 00006: early stopping\n",
      "2s - loss: 0.2564 - val_loss: 0.2962\n"
     ]
    }
   ],
   "source": [
    "#create a very simple NN model\n",
    "def get_model(input_dim,n_dense=60):\n",
    "    \"\"\"Creates Keras model.\"\"\"\n",
    "    model = Sequential()\n",
    "    model.add(Dense(n_dense, input_dim=input_dim,activation='relu'))\n",
    "    model.add(Dense(1,activation='sigmoid'))\n",
    "    model.compile(loss='binary_crossentropy', optimizer='adam')\n",
    "    return model\n",
    "\n",
    "nn_cv_pred=cv_gs(keras_fit_predict,get_model,X,y,data)"
   ]
  },
  {
   "cell_type": "markdown",
   "metadata": {},
   "source": [
    "### Train gradient boosted trees in a CV scheme"
   ]
  },
  {
   "cell_type": "code",
   "execution_count": 6,
   "metadata": {
    "collapsed": false,
    "scrolled": false
   },
   "outputs": [
    {
     "name": "stderr",
     "output_type": "stream",
     "text": [
      "Will train until eval error hasn't decreased in 200 rounds.\n",
      "[0]\ttrain-auc:0.673551\teval-auc:0.662120\n",
      "[500]\ttrain-auc:0.982431\teval-auc:0.926281\n",
      "[1000]\ttrain-auc:0.994821\teval-auc:0.932801\n",
      "[1500]\ttrain-auc:0.998210\teval-auc:0.933407\n",
      "Stopping. Best iteration:\n",
      "[1557]\ttrain-auc:0.998411\teval-auc:0.933542\n",
      "\n",
      "Will train until eval error hasn't decreased in 200 rounds.\n",
      "[0]\ttrain-auc:0.736811\teval-auc:0.724721\n",
      "[500]\ttrain-auc:0.982172\teval-auc:0.927016\n",
      "[1000]\ttrain-auc:0.994579\teval-auc:0.934814\n",
      "[1500]\ttrain-auc:0.998029\teval-auc:0.935543\n",
      "Stopping. Best iteration:\n",
      "[1316]\ttrain-auc:0.997179\teval-auc:0.935781\n",
      "\n",
      "Will train until eval error hasn't decreased in 200 rounds.\n",
      "[0]\ttrain-auc:0.703013\teval-auc:0.701939\n",
      "[500]\ttrain-auc:0.981852\teval-auc:0.923706\n",
      "[1000]\ttrain-auc:0.994454\teval-auc:0.931753\n",
      "[1500]\ttrain-auc:0.998009\teval-auc:0.933191\n",
      "[2000]\ttrain-auc:0.999267\teval-auc:0.933423\n",
      "Stopping. Best iteration:\n",
      "[1841]\ttrain-auc:0.998992\teval-auc:0.933598\n",
      "\n",
      "Will train until eval error hasn't decreased in 200 rounds.\n",
      "[0]\ttrain-auc:0.697061\teval-auc:0.691229\n",
      "[500]\ttrain-auc:0.982266\teval-auc:0.928570\n",
      "[1000]\ttrain-auc:0.994620\teval-auc:0.935595\n",
      "[1500]\ttrain-auc:0.998165\teval-auc:0.936918\n",
      "Stopping. Best iteration:\n",
      "[1606]\ttrain-auc:0.998523\teval-auc:0.937157\n",
      "\n",
      "Will train until eval error hasn't decreased in 200 rounds.\n",
      "[0]\ttrain-auc:0.740400\teval-auc:0.736290\n",
      "[500]\ttrain-auc:0.982400\teval-auc:0.932795\n",
      "[1000]\ttrain-auc:0.994568\teval-auc:0.938937\n",
      "[1500]\ttrain-auc:0.998048\teval-auc:0.940335\n",
      "Stopping. Best iteration:\n",
      "[1586]\ttrain-auc:0.998370\teval-auc:0.940361\n",
      "\n"
     ]
    }
   ],
   "source": [
    "#model params\n",
    "params = {'max_depth':10,\n",
    "         'eta':0.1,\n",
    "         'min_child_weight':1,\n",
    "         'colsample_bytree':0.66,\n",
    "         'subsample':0.86,\n",
    "         'silent':1,\n",
    "         'objective': \"binary:logistic\",\n",
    "         'eval_metric': 'auc',\n",
    "         'nthread':4}\n",
    "\n",
    "xgb_cv_pred=cv_gs(xgb_fit_predict,params,X,y,data)"
   ]
  },
  {
   "cell_type": "markdown",
   "metadata": {},
   "source": [
    "### Create a stacked ensemble of my NN and boosted tree models"
   ]
  },
  {
   "cell_type": "code",
   "execution_count": 7,
   "metadata": {
    "collapsed": false,
    "scrolled": false
   },
   "outputs": [
    {
     "name": "stderr",
     "output_type": "stream",
     "text": [
      "Will train until eval error hasn't decreased in 200 rounds.\n",
      "[0]\ttrain-auc:0.895892\teval-auc:0.893767\n",
      "Stopping. Best iteration:\n",
      "[76]\ttrain-auc:0.924876\teval-auc:0.924048\n",
      "\n",
      "Will train until eval error hasn't decreased in 200 rounds.\n",
      "[0]\ttrain-auc:0.892204\teval-auc:0.892649\n",
      "Stopping. Best iteration:\n",
      "[199]\ttrain-auc:0.923410\teval-auc:0.922424\n",
      "\n",
      "Will train until eval error hasn't decreased in 200 rounds.\n",
      "[0]\ttrain-auc:0.894367\teval-auc:0.892701\n",
      "Stopping. Best iteration:\n",
      "[237]\ttrain-auc:0.924612\teval-auc:0.921945\n",
      "\n",
      "Will train until eval error hasn't decreased in 200 rounds.\n",
      "[0]\ttrain-auc:0.894268\teval-auc:0.898414\n",
      "Stopping. Best iteration:\n",
      "[265]\ttrain-auc:0.925020\teval-auc:0.925656\n",
      "\n",
      "Will train until eval error hasn't decreased in 200 rounds.\n",
      "[0]\ttrain-auc:0.893927\teval-auc:0.893995\n",
      "Stopping. Best iteration:\n",
      "[273]\ttrain-auc:0.924904\teval-auc:0.923598\n",
      "\n"
     ]
    }
   ],
   "source": [
    "#create stacked input\n",
    "X_stacked=np.column_stack([xgb_cv_pred,nn_cv_pred])\n",
    "\n",
    "#new params\n",
    "params = {'max_depth':2,\n",
    "         'eta':0.1,\n",
    "         'min_child_weight':1,\n",
    "         'colsample_bytree':1,\n",
    "         'subsample':0.86,\n",
    "         'silent':1,\n",
    "         'objective': \"binary:logistic\",\n",
    "         'eval_metric': 'auc',\n",
    "         'nthread':4}\n",
    "\n",
    "stacked_cv_pred=cv_gs(xgb_fit_predict,params,X_stacked,y,data)"
   ]
  },
  {
   "cell_type": "markdown",
   "metadata": {},
   "source": [
    "### Load NetMHCpan predictions"
   ]
  },
  {
   "cell_type": "code",
   "execution_count": 8,
   "metadata": {
    "collapsed": true
   },
   "outputs": [],
   "source": [
    "def all_from_fname(fname):\n",
    "    \"\"\"Get allele from the filename\"\"\"\n",
    "    # a bit convoluted naming\n",
    "    return '_'.join(os.path.basename(fname).split('cv_gs.')[-1].split('.')[0].split('-')[:-1])\n",
    "\n",
    "def load_allele_table(fname,allele):\n",
    "    \"\"\"Load a result table and annotate with allele\"\"\"\n",
    "    #note they are .xls but csv files...\n",
    "    tmp_table=pd.read_csv(fname,sep='\\t')\n",
    "    tmp_table['mhc']=allele.replace('_','-')\n",
    "    tmp_table['peptide_length']=[len(x) for x in tmp_table.sequence]\n",
    "    tmp_table['label']=(tmp_table.meas <= np.log10(500)).astype('int')\n",
    "    return tmp_table\n",
    "\n",
    "def load_all_tables(path):\n",
    "    \"\"\"Load all tables in directory and concat them into one big table\"\"\"\n",
    "    return pd.concat([load_allele_table(f,all_from_fname(f)) for f in glob.glob(path)])"
   ]
  },
  {
   "cell_type": "code",
   "execution_count": 9,
   "metadata": {
    "collapsed": true
   },
   "outputs": [],
   "source": [
    "X,y,data=load_data()"
   ]
  },
  {
   "cell_type": "code",
   "execution_count": 10,
   "metadata": {
    "collapsed": true
   },
   "outputs": [],
   "source": [
    "#load cv tables\n",
    "netmhc_cv_res=load_all_tables('benchmark_mhci_reliability/predictions/cv_gs/netmhcpan/*')"
   ]
  },
  {
   "cell_type": "markdown",
   "metadata": {},
   "source": [
    "### Evaluate all models"
   ]
  },
  {
   "cell_type": "code",
   "execution_count": 11,
   "metadata": {
    "collapsed": false,
    "scrolled": true
   },
   "outputs": [
    {
     "name": "stdout",
     "output_type": "stream",
     "text": [
      "NN AUC: 0.906871262424\n",
      "XGB AUC: 0.918686327175\n",
      "Ensemble AUC: 0.923001810391\n",
      "\n",
      "NetMHCpan AUC: 0.933901096487\n"
     ]
    }
   ],
   "source": [
    "data['nn_pred']=nn_cv_pred\n",
    "data['xgb_pred']=xgb_cv_pred\n",
    "data['stacked_pred']=stacked_cv_pred\n",
    "data['label']=y\n",
    "\n",
    "#the netmhc predictions is only a subset of all data (3k missing)\n",
    "# so only use the subset here\n",
    "data=data.merge(netmhc_cv_res[['sequence','mhc']],on=['sequence','mhc'])\n",
    "\n",
    "print \"NN AUC:\",roc_auc_score(data.label,data.nn_pred)\n",
    "print \"XGB AUC:\",roc_auc_score(data.label,data.xgb_pred)\n",
    "print \"Ensemble AUC:\",roc_auc_score(data.label,data.stacked_pred)\n",
    "print\n",
    "print \"NetMHCpan AUC:\", roc_auc_score(netmhc_cv_res.label,-netmhc_cv_res.pred)"
   ]
  },
  {
   "cell_type": "markdown",
   "metadata": {},
   "source": [
    "----\n",
    "\n",
    "### Aggregate results by alleles"
   ]
  },
  {
   "cell_type": "code",
   "execution_count": 12,
   "metadata": {
    "collapsed": true
   },
   "outputs": [],
   "source": [
    "\"\"\"\n",
    "A bit convoluted way to aggregate in pandas dataframes on multiple columns with different column names,\n",
    "but now it will be okay. I will look into this later maybe.\n",
    "\"\"\"\n",
    "\n",
    "def agg_auc_nn(group):\n",
    "    return agg_auc(group,'nn_pred')\n",
    "\n",
    "def agg_auc_xgb(group):\n",
    "    return agg_auc(group,'xgb_pred')\n",
    "\n",
    "def agg_auc_stacked(group):\n",
    "    return agg_auc(group,'stacked_pred')\n",
    "\n",
    "def agg_auc_netmhc(group):\n",
    "    y = group['label'].values\n",
    "    pred = -group['pred'].values\n",
    "    \n",
    "    if len(np.unique(y))==1:\n",
    "        return 1\n",
    "    else:\n",
    "        return roc_auc_score(y,pred)\n",
    "\n",
    "def agg_auc(group,col):\n",
    "    y = group['label'].values\n",
    "    pred = group[col].values\n",
    "    \n",
    "    if len(np.unique(y))==1:\n",
    "        return 1\n",
    "    else:\n",
    "        return roc_auc_score(y,pred)"
   ]
  },
  {
   "cell_type": "code",
   "execution_count": 13,
   "metadata": {
    "collapsed": false
   },
   "outputs": [],
   "source": [
    "## aggregate\n",
    "grouped=data.groupby('mhc',as_index=False)\n",
    "\n",
    "all_auc_df=grouped.agg(agg_auc_nn)[['mhc']]\n",
    "all_auc_df['counts']=grouped['mhc'].size().values\n",
    "all_auc_df['nn_auc']=grouped.agg(agg_auc_nn)[['cv']]\n",
    "all_auc_df['xgb_auc']=grouped.agg(agg_auc_xgb)[['cv']]\n",
    "all_auc_df['stacked_auc']=grouped.agg(agg_auc_stacked)[['cv']]\n",
    "\n",
    "netmhc_cv_res['netmhc_auc']=0\n",
    "netmhc_auc=netmhc_cv_res.groupby('mhc',as_index=False).agg(agg_auc_netmhc)[['mhc','netmhc_auc']]\n",
    "\n",
    "#merge results to one dataframe\n",
    "all_auc=netmhc_auc.merge(all_auc_df,on='mhc')"
   ]
  },
  {
   "cell_type": "code",
   "execution_count": 14,
   "metadata": {
    "collapsed": false,
    "scrolled": false
   },
   "outputs": [
    {
     "name": "stderr",
     "output_type": "stream",
     "text": [
      "/home/ribli/tools/anaconda2/lib/python2.7/site-packages/matplotlib/__init__.py:892: UserWarning: axes.color_cycle is deprecated and replaced with axes.prop_cycle; please use the latter.\n",
      "  warnings.warn(self.msg_depr % (key, alt_key))\n"
     ]
    },
    {
     "data": {
      "text/plain": [
       "<matplotlib.text.Text at 0x7f3f3ab83190>"
      ]
     },
     "execution_count": 14,
     "metadata": {},
     "output_type": "execute_result"
    },
    {
     "data": {
      "image/png": "[encoded data removed]",
      "text/plain": [
       "<matplotlib.figure.Figure at 0x7f3eb26ee750>"
      ]
     },
     "metadata": {},
     "output_type": "display_data"
    }
   ],
   "source": [
    "fig=plt.figure(figsize=(9,64))\n",
    "tmp=pd.melt(all_auc, id_vars=['mhc','counts'])\n",
    "sns.barplot(data=tmp,x='value',y='mhc',hue='variable')\n",
    "plt.xlim(xmax=1.3)\n",
    "plt.ylabel('HLA allele')\n",
    "plt.xlabel('AUC score')"
   ]
  },
  {
   "cell_type": "markdown",
   "metadata": {},
   "source": [
    "----\n",
    "\n",
    "\n",
    "### Aggregate results by peptide length"
   ]
  },
  {
   "cell_type": "code",
   "execution_count": 15,
   "metadata": {
    "collapsed": false
   },
   "outputs": [],
   "source": [
    "grouped=data.groupby('peptide_length',as_index=False)\n",
    "\n",
    "len_auc_df=grouped.agg(agg_auc_nn)[['peptide_length']]\n",
    "len_auc_df['counts']=grouped['peptide_length'].size().values\n",
    "len_auc_df['nn_auc']=grouped.agg(agg_auc_nn)[['cv']]\n",
    "len_auc_df['xgb_auc']=grouped.agg(agg_auc_xgb)[['cv']]\n",
    "len_auc_df['stacked_auc']=grouped.agg(agg_auc_stacked)[['cv']]\n",
    "\n",
    "\n",
    "netmhc_auc=netmhc_cv_res.groupby('peptide_length',as_index=False).agg(agg_auc_netmhc)[['peptide_length','netmhc_auc']]\n",
    "\n",
    "#merge results to one dataframe\n",
    "len_auc=netmhc_auc.merge(len_auc_df,on='peptide_length')"
   ]
  },
  {
   "cell_type": "code",
   "execution_count": 16,
   "metadata": {
    "collapsed": false
   },
   "outputs": [
    {
     "data": {
      "text/html": [
       "<div>\n",
       "<table border=\"1\" class=\"dataframe\">\n",
       "  <thead>\n",
       "    <tr style=\"text-align: right;\">\n",
       "      <th></th>\n",
       "      <th>peptide_length</th>\n",
       "      <th>netmhc_auc</th>\n",
       "      <th>counts</th>\n",
       "      <th>nn_auc</th>\n",
       "      <th>xgb_auc</th>\n",
       "      <th>stacked_auc</th>\n",
       "    </tr>\n",
       "  </thead>\n",
       "  <tbody>\n",
       "    <tr>\n",
       "      <th>0</th>\n",
       "      <td>8</td>\n",
       "      <td>0.892890</td>\n",
       "      <td>4940</td>\n",
       "      <td>0.869412</td>\n",
       "      <td>0.901799</td>\n",
       "      <td>0.899323</td>\n",
       "    </tr>\n",
       "    <tr>\n",
       "      <th>1</th>\n",
       "      <td>9</td>\n",
       "      <td>0.947303</td>\n",
       "      <td>99541</td>\n",
       "      <td>0.925915</td>\n",
       "      <td>0.935121</td>\n",
       "      <td>0.938970</td>\n",
       "    </tr>\n",
       "    <tr>\n",
       "      <th>2</th>\n",
       "      <td>10</td>\n",
       "      <td>0.891327</td>\n",
       "      <td>26954</td>\n",
       "      <td>0.843052</td>\n",
       "      <td>0.866469</td>\n",
       "      <td>0.871065</td>\n",
       "    </tr>\n",
       "    <tr>\n",
       "      <th>3</th>\n",
       "      <td>11</td>\n",
       "      <td>0.866204</td>\n",
       "      <td>2950</td>\n",
       "      <td>0.795346</td>\n",
       "      <td>0.819923</td>\n",
       "      <td>0.820756</td>\n",
       "    </tr>\n",
       "  </tbody>\n",
       "</table>\n",
       "</div>"
      ],
      "text/plain": [
       "   peptide_length  netmhc_auc  counts    nn_auc   xgb_auc  stacked_auc\n",
       "0               8    0.892890    4940  0.869412  0.901799     0.899323\n",
       "1               9    0.947303   99541  0.925915  0.935121     0.938970\n",
       "2              10    0.891327   26954  0.843052  0.866469     0.871065\n",
       "3              11    0.866204    2950  0.795346  0.819923     0.820756"
      ]
     },
     "execution_count": 16,
     "metadata": {},
     "output_type": "execute_result"
    }
   ],
   "source": [
    "len_auc"
   ]
  },
  {
   "cell_type": "code",
   "execution_count": 17,
   "metadata": {
    "collapsed": false
   },
   "outputs": [
    {
     "data": {
      "text/plain": [
       "<matplotlib.text.Text at 0x7f3ee76c25d0>"
      ]
     },
     "execution_count": 17,
     "metadata": {},
     "output_type": "execute_result"
    },
    {
     "data": {
      "image/png": "[encoded data removed]",
      "text/plain": [
       "<matplotlib.figure.Figure at 0x7f3eecf4ee50>"
      ]
     },
     "metadata": {},
     "output_type": "display_data"
    }
   ],
   "source": [
    "fig=plt.figure(figsize=(12,6))\n",
    "temp=pd.melt(len_auc,id_vars=['peptide_length','counts'])\n",
    "sns.barplot(data=temp,x='peptide_length',y='value',hue='variable')\n",
    "plt.ylim(0.75,1)\n",
    "plt.ylabel('AUC')\n",
    "plt.xlabel('peptide length')"
   ]
  }
 ],
 "metadata": {
  "kernelspec": {
   "display_name": "Python 2",
   "language": "python",
   "name": "python2"
  },
  "language_info": {
   "codemirror_mode": {
    "name": "ipython",
    "version": 2
   },
   "file_extension": ".py",
   "mimetype": "text/x-python",
   "name": "python",
   "nbconvert_exporter": "python",
   "pygments_lexer": "ipython2",
   "version": "2.7.12"
  }
 },
 "nbformat": 4,
 "nbformat_minor": 0
}
