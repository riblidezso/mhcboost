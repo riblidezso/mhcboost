{
 "cells": [
  {
   "cell_type": "markdown",
   "metadata": {},
   "source": [
    "# Comparing the performance of Neural networks and Gradient boosted trees  , and a stacked ensemble of both in MHC class I binding prediction\n",
    "\n",
    "\n",
    "---\n",
    "### Background\n",
    "\n",
    "The prediction of MHC peptide binding is an important method in immunology. Data driven methods give best performance for this task because of complexity of the MHC molecules and the binding process. The most successful machine learning models were Neural networks in this area.  I have seen articles describing SVM models, but nobody has tried gradient boosted trees (as far as I know).\n",
    "\n",
    "\n",
    "In the last years the vast majority of Data science competitions were won with a framework called Gradient Boosted Trees. These models very frequently outperform neural networks in gereal machine learning tasks. \n",
    "\n",
    "These facts gave me the idea to compare the perfomance of  Neural networks  and Gradient boosted trees and in MHC class I peptide binding prediction.\n",
    "\n",
    "Also Neural networks and Gradient boosted trees are very different models, therefore ensembling them can give a really big boost to performance. So I tried to ensemble these models.\n",
    "\n",
    "\n",
    "----\n",
    "### Data\n",
    "\n",
    "#### Source\n",
    "I have downloaded MHC class I peptide binding data which has been used in this benchmark article ( http://www.ncbi.nlm.nih.gov/pubmed/25017736)  from the IEDB website.\n",
    "\n",
    "\n",
    "#### Encoding \n",
    "\n",
    "Input data is very simply coded as the folowing:\n",
    "- zero padded sequences to the longest peptide length\n",
    "- amino acids are encoded in a one hot scheme\n",
    "- species are encoded in a one hot scheme\n",
    "- HLA types are encoded in a one-hot scheme\n",
    "- HLA loci are encoded in a one-hot scheme\n",
    "- HLA serotypes are encoded in a one-hot scheme\n",
    "- peptide lengths are included\n",
    "\n",
    "#### Target \n",
    "\n",
    "I predicted binary binding labels based on the IC > 500nM threshold.\n",
    "\n",
    "\n",
    "---\n",
    "\n",
    "### Models\n",
    "\n",
    "#### Neural network\n",
    "\n",
    "I used a neural network architecture similar to the one used in NetMHCpan.\n",
    "- 1 hidden layer\n",
    "- 60 units in the hidden layer\n",
    "\n",
    "I used the Keras software library. http://keras.io\n",
    "\n",
    "\n",
    "#### Gradient boosted trees\n",
    "Some resources about the model:\n",
    "- http://xgboost.readthedocs.org/en/latest/model.html\n",
    "- http://homes.cs.washington.edu/~tqchen/pdf/BoostedTree.pdf\n",
    "    \n",
    "I used the XGBoost software library. http://xgboost.readthedocs.org/en/latest/\n",
    "\n",
    "\n",
    "#### Ensembling\n",
    "\n",
    "\n",
    "\n",
    "I used a stacking approach for ensembling. I used original features, and probabilities predicted by base models as input for the meta estimator. The same folds are used in both step to prevent label leakage.\n",
    "\n",
    "Original article about stacking.\n",
    "- http://www.sciencedirect.com/science/article/pii/S0893608005800231\n",
    "\n",
    "\n",
    "\n",
    "\n",
    "---\n",
    "\n",
    "### Methods\n",
    "\n",
    "\n",
    "I made 5-fold cross validation evaluations, with AUC for all the measurements. All models can use early stopping on validation data so 3:1:1 scheme was used in each fold: 3 subsets for training 1 for validation and 1 for only prediction.\n",
    "\n",
    "\n",
    "\n",
    "--- \n",
    "\n",
    "### Conclusions\n",
    "\n",
    "\n",
    "Gradient boosted trees significantly outperform neural networks in this task. The ensemble of neural networks and gradient boosted trees gives significant improvement over the base models. NetMHCPan slightly outperforms my simple models.\n",
    "\n",
    "\n",
    "\n",
    "Method | 5 fold CV\n",
    "--- | --- \n",
    "NN | 0.9156\n",
    "Gradient boosted trees | 0.9340\n",
    "Ensemble of Gradient boosted trees + NN | 0.9374\n",
    "NetMHCpan | **0.9376**\n",
    "\n",
    "\n",
    "The ensemble has better results than NetMHCpan on peptide length 8,10,12, but please note that these NetMHCpan results from the article were obtained with the L-mer approximation, not the newest representation on peptids of different length.\n",
    "\n",
    "---\n",
    "\n",
    "\n",
    "### Future Work\n",
    "\n",
    "#### Training on similar data than NetMHCpan\n",
    "\n",
    "The nesemble model performs slitghly worse than NetMHCpan which is considered to be the state of the art model in MHC class I prediction. \n",
    "\n",
    "But NetMHCpan uses sophsticated encoding of the MHC molecules with pseudo sequences, a sophisticated way for predicting different length peptides and it is an ensemble of many models trained on different representations. \n",
    "\n",
    "**I think that Gradient Boosted trees trained on the same data used for NetMHCpan training, and using ensembling trees and neural networks could significanlty improve the current state of the art.**\n",
    "\n",
    "\n",
    "\n",
    "----\n",
    "#### Notes\n",
    "\n",
    "- To run this notebook you need to \n",
    "    - download the dataset\n",
    "    - export the MHC_DATA variable\n",
    "    - and have keras,theno,xgboost,sklearn,pandas,numpy installed.\n",
    "    \n",
    "    \n",
    "- This notebook can be run as it is. Just click run all. \n",
    "    - It takes some time but on a stronger computer it should be less than 30 minutes.\n",
    "\n",
    "\n",
    "----\n",
    "\n",
    "\n",
    "This notebook was created by Dezso Ribli"
   ]
  },
  {
   "cell_type": "markdown",
   "metadata": {},
   "source": [
    "### Load modules"
   ]
  },
  {
   "cell_type": "code",
   "execution_count": 1,
   "metadata": {
    "collapsed": false
   },
   "outputs": [
    {
     "name": "stderr",
     "output_type": "stream",
     "text": [
      "Using Theano backend.\n",
      "/home/ribli/tools/anaconda2/lib/python2.7/site-packages/matplotlib/__init__.py:872: UserWarning: axes.color_cycle is deprecated and replaced with axes.prop_cycle; please use the latter.\n",
      "  warnings.warn(self.msg_depr % (key, alt_key))\n"
     ]
    }
   ],
   "source": [
    "import numpy as np\n",
    "import pandas as pd\n",
    "from sklearn.preprocessing import LabelBinarizer\n",
    "from sklearn.cross_validation import KFold\n",
    "from sklearn.cross_validation import train_test_split\n",
    "import xgboost as xgb\n",
    "from keras.callbacks import ModelCheckpoint,EarlyStopping\n",
    "from keras.models import Sequential\n",
    "from keras.layers import Dense\n",
    "from sklearn.metrics import roc_auc_score\n",
    "import glob\n",
    "import matplotlib.pyplot as plt\n",
    "import seaborn as sns\n",
    "%matplotlib inline\n",
    "\n",
    "#go to working dir\n",
    "import os\n",
    "os.chdir(os.environ['MHC_DIR'])"
   ]
  },
  {
   "cell_type": "markdown",
   "metadata": {},
   "source": [
    "### Data Loader functions"
   ]
  },
  {
   "cell_type": "code",
   "execution_count": 2,
   "metadata": {
    "collapsed": true
   },
   "outputs": [],
   "source": [
    "def load_data():\n",
    "    \"\"\"Load train/blind test data as in the benchmark.\"\"\"\n",
    "    \n",
    "    #load the cross validation data\n",
    "    dataf='benchmark_mhci_reliability/binding/bd2009.1/bdata.2009.mhci.public.1.txt'\n",
    "    data=pd.read_csv(dataf,sep='\\t')\n",
    "     \n",
    "    #encode hla,species,amino acids,in a one hot scheme\n",
    "    X_hla=one_hot_encode(data.mhc.values,data.mhc.values)\n",
    "    X_hla_loci=encode_hla_loci(data.mhc.values,data.mhc.values)\n",
    "    X_hla_sero=encode_hla_sero(data.mhc.values,data.mhc.values)\n",
    "    X_species=one_hot_encode(data.species.values,data.species.values)\n",
    "    X_seq=encode_seq(data.sequence.values,data.sequence.values)\n",
    "    \n",
    "    #stack columns\n",
    "    X=np.column_stack([X_species,\n",
    "                       X_hla,\n",
    "                       X_hla_loci,\n",
    "                       X_hla_sero,\n",
    "                       X_seq,\n",
    "                       data.peptide_length.values])\n",
    "    \n",
    "    #make binding class labels\n",
    "    y=np.ones(len(data.meas))\n",
    "    y[data.meas.values>=500]=0\n",
    "\n",
    "    #permute arrays as they are ordered!!!\n",
    "    rng=np.random.RandomState(42)\n",
    "    perm=rng.permutation(len(X))\n",
    "    X,y,data=X[perm],y[perm],data.iloc[perm,:]\n",
    "    \n",
    "    return X,y,data\n",
    "\n",
    "\n",
    "def one_hot_encode(x_all,x_in):\n",
    "    \"\"\"One hot encode categorical variable.\"\"\"\n",
    "    lb = LabelBinarizer()\n",
    "    lb.fit(x_all)\n",
    "    x_out=lb.transform( x_in )\n",
    "    return x_out\n",
    "\n",
    "\n",
    "def encode_seq(x_all,x_in):\n",
    "    \"\"\"Encode string amino acid sequences to numbers.\"\"\"\n",
    "    #zero pad peptids to equal length\n",
    "    maxlen=np.max(map(len,x_all))\n",
    "    x_temp_all=np.array([list(x.zfill(maxlen)) for x in x_all])\n",
    "    x_temp_in=np.array([list(x.zfill(maxlen)) for x in x_in])\n",
    "    \n",
    "    lb = LabelBinarizer()\n",
    "    lb.fit(x_temp_all.flatten())\n",
    "    x_out=np.column_stack([lb.transform(x_temp_in[:,i]) for i in range(maxlen)])\n",
    "\n",
    "    return x_out\n",
    "\n",
    "\n",
    "def encode_hla_loci(x_all,x_in):\n",
    "    \"\"\"Encode string HLA loci to numbers.\"\"\"\n",
    "    #get 1st subtype\n",
    "    new_x_all=[x.split('-')[1][0] for x in x_all]\n",
    "    new_x_in=[x.split('-')[1][0] for x in x_in]\n",
    "    \n",
    "    return one_hot_encode(new_x_all,new_x_in)\n",
    "\n",
    "\n",
    "def get_serotype(hla_type):\n",
    "    \"\"\"Parse serotype from hla type.\"\"\"\n",
    "    if len(hla_type.split('-'))<3:\n",
    "        return '0'\n",
    "    else:\n",
    "        return hla_type.split('-')[2][:2]\n",
    "\n",
    "    \n",
    "def encode_hla_sero(x_all,x_in):\n",
    "    \"\"\"Encode string HLA serotype to numbers.\"\"\"\n",
    "    #get 1st subtype\n",
    "    new_x_all=[get_serotype(x) for x in x_all]\n",
    "    new_x_in=[get_serotype(x) for x in x_in]\n",
    "    \n",
    "    return one_hot_encode(new_x_all,new_x_in)"
   ]
  },
  {
   "cell_type": "markdown",
   "metadata": {},
   "source": [
    "----\n",
    "\n",
    "\n",
    "### Cross validation scheme for both models\n"
   ]
  },
  {
   "cell_type": "code",
   "execution_count": 3,
   "metadata": {
    "collapsed": true
   },
   "outputs": [],
   "source": [
    "def cv(fitter,model_spec,X,y,n_folds=5):\n",
    "    \"\"\"Evaluate XGB model with cross validation.\"\"\"\n",
    "    #result\n",
    "    y_pred=np.zeros(len(y))\n",
    "    #loop folds\n",
    "    for train_index,test_index in KFold(len(X),n_folds=n_folds):\n",
    "        #train and predict\n",
    "        y_pred[test_index]=fitter(model_spec,X[train_index],y[train_index],X[test_index])\n",
    "    return y_pred\n",
    "\n",
    "\n",
    "def keras_fit_predict(get_model,X_train,y_train,X_test,\n",
    "                      validation_split=0.1,patience=1,nb_epoch=100,**kwargs):\n",
    "    \"\"\"Fit model on train test set with early stopping.\"\"\"\n",
    "    #get model\n",
    "    model=get_model(X_train.shape[1])\n",
    "    \n",
    "    #callbacks\n",
    "    best_model=ModelCheckpoint('best_model',save_best_only=True,verbose=2)\n",
    "    early_stop=EarlyStopping(patience=patience,verbose=2)\n",
    "    \n",
    "    #train it\n",
    "    model.fit(X_train,y_train,nb_epoch = nb_epoch,validation_split=validation_split,\n",
    "              callbacks=[best_model,early_stop],verbose=2,**kwargs)\n",
    "    \n",
    "    #load best model and predict\n",
    "    model.load_weights('best_model')\n",
    "    y_pred_test=model.predict(X_test).ravel()\n",
    "    \n",
    "    return y_pred_test\n",
    "\n",
    "def xgb_fit_predict(params,X_train,y_train,X_test,num_boost_round=5000,verbose_eval=500,\n",
    "                    early_stopping_rounds=200,validation_size=0.1):\n",
    "    \"\"\"Fit model on train test set with early stopping.\"\"\"\n",
    "    #split validation data for early stopping\n",
    "    X_train, X_valid, y_train, y_valid = train_test_split(X_train, y_train, test_size=validation_size)\n",
    "    \n",
    "    #convert to data format for xgb\n",
    "    dtrain = xgb.DMatrix( X_train, label=y_train)\n",
    "    dvalid = xgb.DMatrix( X_valid, label=y_valid)\n",
    "    dtest = xgb.DMatrix( X_test )\n",
    "    \n",
    "    #define printed evaluations\n",
    "    evallist  = [(dtrain,'train'),(dvalid,'eval')]\n",
    "\n",
    "    #lets train\n",
    "    bst = xgb.train(params,dtrain,evals=evallist,\n",
    "                    num_boost_round=num_boost_round,\n",
    "                    early_stopping_rounds=early_stopping_rounds,\n",
    "                    verbose_eval=verbose_eval)\n",
    "    \n",
    "    #make predictions\n",
    "    y_pred_test=bst.predict(dtest)\n",
    "    \n",
    "    return y_pred_test"
   ]
  },
  {
   "cell_type": "markdown",
   "metadata": {},
   "source": [
    "### Load data"
   ]
  },
  {
   "cell_type": "code",
   "execution_count": 4,
   "metadata": {
    "collapsed": false
   },
   "outputs": [],
   "source": [
    "X,y,data=load_data()"
   ]
  },
  {
   "cell_type": "markdown",
   "metadata": {},
   "source": [
    "### Train NN in a CV scheme"
   ]
  },
  {
   "cell_type": "code",
   "execution_count": 5,
   "metadata": {
    "collapsed": false,
    "scrolled": true
   },
   "outputs": [
    {
     "name": "stdout",
     "output_type": "stream",
     "text": [
      "Train on 99110 samples, validate on 11013 samples\n",
      "Epoch 1/100\n",
      "Epoch 00000: val_loss improved from inf to 0.41206, saving model to best_model\n",
      "4s - loss: 0.4690 - val_loss: 0.4121\n",
      "Epoch 2/100\n",
      "Epoch 00001: val_loss improved from 0.41206 to 0.35679, saving model to best_model\n",
      "4s - loss: 0.3808 - val_loss: 0.3568\n",
      "Epoch 3/100\n",
      "Epoch 00002: val_loss improved from 0.35679 to 0.33389, saving model to best_model\n",
      "4s - loss: 0.3340 - val_loss: 0.3339\n",
      "Epoch 4/100\n",
      "Epoch 00003: val_loss improved from 0.33389 to 0.31576, saving model to best_model\n",
      "4s - loss: 0.3097 - val_loss: 0.3158\n",
      "Epoch 5/100\n",
      "Epoch 00004: val_loss did not improve\n",
      "4s - loss: 0.2934 - val_loss: 0.3278\n",
      "Epoch 6/100\n",
      "Epoch 00005: val_loss improved from 0.31576 to 0.31075, saving model to best_model\n",
      "4s - loss: 0.2823 - val_loss: 0.3108\n",
      "Epoch 7/100\n",
      "Epoch 00006: val_loss did not improve\n",
      "4s - loss: 0.2741 - val_loss: 0.3196\n",
      "Epoch 8/100\n",
      "Epoch 00007: val_loss did not improve\n",
      "Epoch 00007: early stopping\n",
      "5s - loss: 0.2666 - val_loss: 0.3175\n",
      "Train on 99110 samples, validate on 11013 samples\n",
      "Epoch 1/100\n",
      "Epoch 00000: val_loss improved from inf to 0.39939, saving model to best_model\n",
      "4s - loss: 0.4653 - val_loss: 0.3994\n",
      "Epoch 2/100\n",
      "Epoch 00001: val_loss improved from 0.39939 to 0.35556, saving model to best_model\n",
      "4s - loss: 0.3749 - val_loss: 0.3556\n",
      "Epoch 3/100\n",
      "Epoch 00002: val_loss improved from 0.35556 to 0.33283, saving model to best_model\n",
      "4s - loss: 0.3359 - val_loss: 0.3328\n",
      "Epoch 4/100\n",
      "Epoch 00003: val_loss improved from 0.33283 to 0.32190, saving model to best_model\n",
      "4s - loss: 0.3130 - val_loss: 0.3219\n",
      "Epoch 5/100\n",
      "Epoch 00004: val_loss improved from 0.32190 to 0.31791, saving model to best_model\n",
      "4s - loss: 0.2986 - val_loss: 0.3179\n",
      "Epoch 6/100\n",
      "Epoch 00005: val_loss improved from 0.31791 to 0.31257, saving model to best_model\n",
      "4s - loss: 0.2886 - val_loss: 0.3126\n",
      "Epoch 7/100\n",
      "Epoch 00006: val_loss improved from 0.31257 to 0.31162, saving model to best_model\n",
      "4s - loss: 0.2817 - val_loss: 0.3116\n",
      "Epoch 8/100\n",
      "Epoch 00007: val_loss improved from 0.31162 to 0.30961, saving model to best_model\n",
      "4s - loss: 0.2766 - val_loss: 0.3096\n",
      "Epoch 9/100\n",
      "Epoch 00008: val_loss did not improve\n",
      "4s - loss: 0.2709 - val_loss: 0.3137\n",
      "Epoch 10/100\n",
      "Epoch 00009: val_loss did not improve\n",
      "Epoch 00009: early stopping\n",
      "4s - loss: 0.2665 - val_loss: 0.3125\n",
      "Train on 99110 samples, validate on 11013 samples\n",
      "Epoch 1/100\n",
      "Epoch 00000: val_loss improved from inf to 0.41755, saving model to best_model\n",
      "3s - loss: 0.4684 - val_loss: 0.4175\n",
      "Epoch 2/100\n",
      "Epoch 00001: val_loss improved from 0.41755 to 0.35371, saving model to best_model\n",
      "4s - loss: 0.3753 - val_loss: 0.3537\n",
      "Epoch 3/100\n",
      "Epoch 00002: val_loss did not improve\n",
      "4s - loss: 0.3306 - val_loss: 0.3626\n",
      "Epoch 4/100\n",
      "Epoch 00003: val_loss improved from 0.35371 to 0.31646, saving model to best_model\n",
      "4s - loss: 0.3064 - val_loss: 0.3165\n",
      "Epoch 5/100\n",
      "Epoch 00004: val_loss improved from 0.31646 to 0.31528, saving model to best_model\n",
      "4s - loss: 0.2912 - val_loss: 0.3153\n",
      "Epoch 6/100\n",
      "Epoch 00005: val_loss did not improve\n",
      "4s - loss: 0.2797 - val_loss: 0.3251\n",
      "Epoch 7/100\n",
      "Epoch 00006: val_loss improved from 0.31528 to 0.31131, saving model to best_model\n",
      "4s - loss: 0.2713 - val_loss: 0.3113\n",
      "Epoch 8/100\n",
      "Epoch 00007: val_loss did not improve\n",
      "4s - loss: 0.2649 - val_loss: 0.3163\n",
      "Epoch 9/100\n",
      "Epoch 00008: val_loss did not improve\n",
      "Epoch 00008: early stopping\n",
      "4s - loss: 0.2587 - val_loss: 0.3235\n",
      "Train on 99110 samples, validate on 11013 samples\n",
      "Epoch 1/100\n",
      "Epoch 00000: val_loss improved from inf to 0.40214, saving model to best_model\n",
      "3s - loss: 0.4651 - val_loss: 0.4021\n",
      "Epoch 2/100\n",
      "Epoch 00001: val_loss improved from 0.40214 to 0.35872, saving model to best_model\n",
      "4s - loss: 0.3735 - val_loss: 0.3587\n",
      "Epoch 3/100\n",
      "Epoch 00002: val_loss improved from 0.35872 to 0.33373, saving model to best_model\n",
      "4s - loss: 0.3366 - val_loss: 0.3337\n",
      "Epoch 4/100\n",
      "Epoch 00003: val_loss did not improve\n",
      "4s - loss: 0.3144 - val_loss: 0.3469\n",
      "Epoch 5/100\n",
      "Epoch 00004: val_loss improved from 0.33373 to 0.32473, saving model to best_model\n",
      "4s - loss: 0.3001 - val_loss: 0.3247\n",
      "Epoch 6/100\n",
      "Epoch 00005: val_loss improved from 0.32473 to 0.31607, saving model to best_model\n",
      "4s - loss: 0.2896 - val_loss: 0.3161\n",
      "Epoch 7/100\n",
      "Epoch 00006: val_loss did not improve\n",
      "4s - loss: 0.2817 - val_loss: 0.3200\n",
      "Epoch 8/100\n",
      "Epoch 00007: val_loss did not improve\n",
      "Epoch 00007: early stopping\n",
      "4s - loss: 0.2757 - val_loss: 0.3180\n",
      "Train on 99111 samples, validate on 11013 samples\n",
      "Epoch 1/100\n",
      "Epoch 00000: val_loss improved from inf to 0.40291, saving model to best_model\n",
      "3s - loss: 0.4631 - val_loss: 0.4029\n",
      "Epoch 2/100\n",
      "Epoch 00001: val_loss improved from 0.40291 to 0.35030, saving model to best_model\n",
      "4s - loss: 0.3682 - val_loss: 0.3503\n",
      "Epoch 3/100\n",
      "Epoch 00002: val_loss improved from 0.35030 to 0.32793, saving model to best_model\n",
      "4s - loss: 0.3270 - val_loss: 0.3279\n",
      "Epoch 4/100\n",
      "Epoch 00003: val_loss improved from 0.32793 to 0.31709, saving model to best_model\n",
      "4s - loss: 0.3057 - val_loss: 0.3171\n",
      "Epoch 5/100\n",
      "Epoch 00004: val_loss did not improve\n",
      "4s - loss: 0.2898 - val_loss: 0.3202\n",
      "Epoch 6/100\n",
      "Epoch 00005: val_loss improved from 0.31709 to 0.31483, saving model to best_model\n",
      "4s - loss: 0.2780 - val_loss: 0.3148\n",
      "Epoch 7/100\n",
      "Epoch 00006: val_loss improved from 0.31483 to 0.31034, saving model to best_model\n",
      "4s - loss: 0.2682 - val_loss: 0.3103\n",
      "Epoch 8/100\n",
      "Epoch 00007: val_loss improved from 0.31034 to 0.30807, saving model to best_model\n",
      "4s - loss: 0.2605 - val_loss: 0.3081\n",
      "Epoch 9/100\n",
      "Epoch 00008: val_loss did not improve\n",
      "4s - loss: 0.2535 - val_loss: 0.3083\n",
      "Epoch 10/100\n",
      "Epoch 00009: val_loss did not improve\n",
      "Epoch 00009: early stopping\n",
      "4s - loss: 0.2478 - val_loss: 0.3081\n"
     ]
    }
   ],
   "source": [
    "#create a very simple NN model\n",
    "def get_model(input_dim,n_dense=60):\n",
    "    \"\"\"Creates Keras model.\"\"\"\n",
    "    model = Sequential()\n",
    "    model.add(Dense(n_dense, input_dim=input_dim,activation='relu'))\n",
    "    model.add(Dense(1,activation='sigmoid'))\n",
    "    model.compile(loss='binary_crossentropy', optimizer='adam')\n",
    "    return model\n",
    "\n",
    "nn_cv_pred=cv(keras_fit_predict,get_model,X,y)"
   ]
  },
  {
   "cell_type": "markdown",
   "metadata": {},
   "source": [
    "### Train gradient boosted trees in a CV scheme"
   ]
  },
  {
   "cell_type": "code",
   "execution_count": 7,
   "metadata": {
    "collapsed": false,
    "scrolled": false
   },
   "outputs": [
    {
     "name": "stderr",
     "output_type": "stream",
     "text": [
      "Will train until eval error hasn't decreased in 200 rounds.\n",
      "[0]\ttrain-auc:0.820750\teval-auc:0.765058\n",
      "[500]\ttrain-auc:0.999722\teval-auc:0.932500\n",
      "Stopping. Best iteration:\n",
      "[670]\ttrain-auc:0.999940\teval-auc:0.933224\n",
      "\n",
      "Will train until eval error hasn't decreased in 200 rounds.\n",
      "[0]\ttrain-auc:0.810852\teval-auc:0.775391\n",
      "[500]\ttrain-auc:0.999733\teval-auc:0.934344\n",
      "Stopping. Best iteration:\n",
      "[500]\ttrain-auc:0.999733\teval-auc:0.934344\n",
      "\n",
      "Will train until eval error hasn't decreased in 200 rounds.\n",
      "[0]\ttrain-auc:0.805726\teval-auc:0.776847\n",
      "[500]\ttrain-auc:0.999753\teval-auc:0.930215\n",
      "[1000]\ttrain-auc:0.999996\teval-auc:0.930769\n",
      "Stopping. Best iteration:\n",
      "[1201]\ttrain-auc:0.999999\teval-auc:0.930797\n",
      "\n",
      "Will train until eval error hasn't decreased in 200 rounds.\n",
      "[0]\ttrain-auc:0.806113\teval-auc:0.760989\n",
      "[500]\ttrain-auc:0.999693\teval-auc:0.935658\n",
      "[1000]\ttrain-auc:0.999998\teval-auc:0.935683\n",
      "Stopping. Best iteration:\n",
      "[856]\ttrain-auc:0.999990\teval-auc:0.935908\n",
      "\n",
      "Will train until eval error hasn't decreased in 200 rounds.\n",
      "[0]\ttrain-auc:0.831742\teval-auc:0.788376\n",
      "[500]\ttrain-auc:0.999752\teval-auc:0.935331\n",
      "Stopping. Best iteration:\n",
      "[591]\ttrain-auc:0.999900\teval-auc:0.935581\n",
      "\n"
     ]
    }
   ],
   "source": [
    "#model params\n",
    "params = {'max_depth':20,\n",
    "         'eta':0.1,\n",
    "         'min_child_weight':1,\n",
    "         'colsample_bytree':0.8,\n",
    "         'subsample':0.8,\n",
    "         'silent':1,\n",
    "         'objective': \"binary:logistic\",\n",
    "         'eval_metric': 'auc',\n",
    "         'nthread':4}\n",
    "\n",
    "xgb_cv_pred=cv(xgb_fit_predict,params,X,y)"
   ]
  },
  {
   "cell_type": "markdown",
   "metadata": {},
   "source": [
    "### Create a stacked ensemble of my NN and boosted tree models"
   ]
  },
  {
   "cell_type": "code",
   "execution_count": 8,
   "metadata": {
    "collapsed": false,
    "scrolled": false
   },
   "outputs": [
    {
     "name": "stderr",
     "output_type": "stream",
     "text": [
      "Will train until eval error hasn't decreased in 200 rounds.\n",
      "[0]\ttrain-auc:0.907114\teval-auc:0.908829\n",
      "Stopping. Best iteration:\n",
      "[85]\ttrain-auc:0.938281\teval-auc:0.939535\n",
      "\n",
      "Will train until eval error hasn't decreased in 200 rounds.\n",
      "[0]\ttrain-auc:0.909599\teval-auc:0.914228\n",
      "[500]\ttrain-auc:0.940189\teval-auc:0.938119\n",
      "Stopping. Best iteration:\n",
      "[308]\ttrain-auc:0.939343\teval-auc:0.938387\n",
      "\n",
      "Will train until eval error hasn't decreased in 200 rounds.\n",
      "[0]\ttrain-auc:0.909975\teval-auc:0.911303\n",
      "Stopping. Best iteration:\n",
      "[103]\ttrain-auc:0.938338\teval-auc:0.937924\n",
      "\n",
      "Will train until eval error hasn't decreased in 200 rounds.\n",
      "[0]\ttrain-auc:0.910551\teval-auc:0.906212\n",
      "Stopping. Best iteration:\n",
      "[67]\ttrain-auc:0.939164\teval-auc:0.935696\n",
      "\n",
      "Will train until eval error hasn't decreased in 200 rounds.\n",
      "[0]\ttrain-auc:0.912603\teval-auc:0.913385\n",
      "Stopping. Best iteration:\n",
      "[114]\ttrain-auc:0.938878\teval-auc:0.938906\n",
      "\n"
     ]
    }
   ],
   "source": [
    "#create stacked input\n",
    "X_stacked=np.column_stack([X,xgb_cv_pred,nn_cv_pred])\n",
    "\n",
    "#new params\n",
    "params = {'max_depth':2,\n",
    "         'eta':0.1,\n",
    "         'min_child_weight':1,\n",
    "         'colsample_bytree':1,\n",
    "         'subsample':0.8,\n",
    "         'silent':1,\n",
    "         'objective': \"binary:logistic\",\n",
    "         'eval_metric': 'auc',\n",
    "         'nthread':4}\n",
    "\n",
    "stacked_cv_pred=cv(xgb_fit_predict,params,X_stacked,y)"
   ]
  },
  {
   "cell_type": "markdown",
   "metadata": {},
   "source": [
    "### Load NetMHCpan predictions"
   ]
  },
  {
   "cell_type": "code",
   "execution_count": 9,
   "metadata": {
    "collapsed": true
   },
   "outputs": [],
   "source": [
    "def all_from_fname(fname):\n",
    "    \"\"\"Get allele from the filename\"\"\"\n",
    "    # a bit convoluted naming\n",
    "    return '_'.join(os.path.basename(fname).split('rnd.')[-1].split('.')[0].split('-')[:-1])\n",
    "\n",
    "def load_allele_table(fname,allele):\n",
    "    \"\"\"Load a result table and annotate with allele\"\"\"\n",
    "    #note they are .xls but csv files...\n",
    "    tmp_table=pd.read_csv(fname,sep='\\t')\n",
    "    tmp_table['mhc']=allele.replace('_','-')\n",
    "    tmp_table['peptide_length']=[len(x) for x in tmp_table.sequence]\n",
    "    tmp_table['label']=(tmp_table.meas <= np.log10(500)).astype('int')\n",
    "    return tmp_table\n",
    "\n",
    "def load_all_tables(path):\n",
    "    \"\"\"Load all tables in directory and concat them into one big table\"\"\"\n",
    "    return pd.concat([load_allele_table(f,all_from_fname(f)) for f in glob.glob(path)])"
   ]
  },
  {
   "cell_type": "code",
   "execution_count": 10,
   "metadata": {
    "collapsed": true
   },
   "outputs": [],
   "source": [
    "X,y,data=load_data()"
   ]
  },
  {
   "cell_type": "code",
   "execution_count": 11,
   "metadata": {
    "collapsed": true
   },
   "outputs": [],
   "source": [
    "#load cv tables\n",
    "netmhc_cv_res=load_all_tables('benchmark_mhci_reliability/predictions/cv_rnd/netmhcpan/*')"
   ]
  },
  {
   "cell_type": "markdown",
   "metadata": {},
   "source": [
    "### Evaluate all models"
   ]
  },
  {
   "cell_type": "code",
   "execution_count": 12,
   "metadata": {
    "collapsed": false,
    "scrolled": true
   },
   "outputs": [
    {
     "name": "stdout",
     "output_type": "stream",
     "text": [
      "NN AUC: 0.915606882809\n",
      "XGB AUC: 0.933963255663\n",
      "Ensemble AUC: 0.937442713474\n",
      "\n",
      "NetMHCpan AUC: 0.937599369962\n"
     ]
    }
   ],
   "source": [
    "data['nn_pred']=nn_cv_pred\n",
    "data['xgb_pred']=xgb_cv_pred\n",
    "data['stacked_pred']=stacked_cv_pred\n",
    "data['label']=y\n",
    "\n",
    "#the netmhc predictions is only a subset of all data (3k missing)\n",
    "# so only use the subset here\n",
    "data=data.merge(netmhc_cv_res[['sequence','mhc']],on=['sequence','mhc'])\n",
    "\n",
    "print \"NN AUC:\",roc_auc_score(data.label,data.nn_pred)\n",
    "print \"XGB AUC:\",roc_auc_score(data.label,data.xgb_pred)\n",
    "print \"Ensemble AUC:\",roc_auc_score(data.label,data.stacked_pred)\n",
    "print\n",
    "print \"NetMHCpan AUC:\", roc_auc_score(netmhc_cv_res.label,-netmhc_cv_res.pred)"
   ]
  },
  {
   "cell_type": "markdown",
   "metadata": {},
   "source": [
    "----\n",
    "\n",
    "### Aggregate results by alleles"
   ]
  },
  {
   "cell_type": "code",
   "execution_count": 13,
   "metadata": {
    "collapsed": true
   },
   "outputs": [],
   "source": [
    "\"\"\"\n",
    "A bit convoluted way to aggregate in pandas dataframes on multiple columns with different column names,\n",
    "but now it will be okay. I will look into this later maybe.\n",
    "\"\"\"\n",
    "\n",
    "def agg_auc_nn(group):\n",
    "    return agg_auc(group,'nn_pred')\n",
    "\n",
    "def agg_auc_xgb(group):\n",
    "    return agg_auc(group,'xgb_pred')\n",
    "\n",
    "def agg_auc_stacked(group):\n",
    "    return agg_auc(group,'stacked_pred')\n",
    "\n",
    "def agg_auc_netmhc(group):\n",
    "    y = group['label'].values\n",
    "    pred = -group['pred'].values\n",
    "    \n",
    "    if len(np.unique(y))==1:\n",
    "        return 1\n",
    "    else:\n",
    "        return roc_auc_score(y,pred)\n",
    "\n",
    "def agg_auc(group,col):\n",
    "    y = group['label'].values\n",
    "    pred = group[col].values\n",
    "    \n",
    "    if len(np.unique(y))==1:\n",
    "        return 1\n",
    "    else:\n",
    "        return roc_auc_score(y,pred)"
   ]
  },
  {
   "cell_type": "code",
   "execution_count": 14,
   "metadata": {
    "collapsed": false
   },
   "outputs": [],
   "source": [
    "## aggregate\n",
    "grouped=data.groupby('mhc',as_index=False)\n",
    "\n",
    "all_auc_df=grouped.agg(agg_auc_nn)[['mhc']]\n",
    "all_auc_df['counts']=grouped['mhc'].size().values\n",
    "all_auc_df['nn_auc']=grouped.agg(agg_auc_nn)[['cv']]\n",
    "all_auc_df['xgb_auc']=grouped.agg(agg_auc_xgb)[['cv']]\n",
    "all_auc_df['stacked_auc']=grouped.agg(agg_auc_stacked)[['cv']]\n",
    "\n",
    "netmhc_cv_res['netmhc_auc']=0\n",
    "netmhc_auc=netmhc_cv_res.groupby('mhc',as_index=False).agg(agg_auc_netmhc)[['mhc','netmhc_auc']]\n",
    "\n",
    "#merge results to one dataframe\n",
    "all_auc=netmhc_auc.merge(all_auc_df,on='mhc')"
   ]
  },
  {
   "cell_type": "code",
   "execution_count": 15,
   "metadata": {
    "collapsed": false,
    "scrolled": false
   },
   "outputs": [
    {
     "name": "stderr",
     "output_type": "stream",
     "text": [
      "/home/ribli/tools/anaconda2/lib/python2.7/site-packages/matplotlib/__init__.py:892: UserWarning: axes.color_cycle is deprecated and replaced with axes.prop_cycle; please use the latter.\n",
      "  warnings.warn(self.msg_depr % (key, alt_key))\n"
     ]
    },
    {
     "data": {
      "text/plain": [
       "<matplotlib.text.Text at 0x7f65ebe9c190>"
      ]
     },
     "execution_count": 15,
     "metadata": {},
     "output_type": "execute_result"
    },
    {
     "data": {
      "image/png": "[encoded data removed]",
      "text/plain": [
       "<matplotlib.figure.Figure at 0x7f659e2b2a50>"
      ]
     },
     "metadata": {},
     "output_type": "display_data"
    }
   ],
   "source": [
    "fig=plt.figure(figsize=(9,64))\n",
    "tmp=pd.melt(all_auc, id_vars=['mhc','counts'])\n",
    "sns.barplot(data=tmp,x='value',y='mhc',hue='variable')\n",
    "plt.xlim(xmax=1.3)\n",
    "plt.ylabel('HLA allele')\n",
    "plt.xlabel('AUC score')"
   ]
  },
  {
   "cell_type": "code",
   "execution_count": 16,
   "metadata": {
    "collapsed": false
   },
   "outputs": [
    {
     "data": {
      "text/html": [
       "<div>\n",
       "<table border=\"1\" class=\"dataframe\">\n",
       "  <thead>\n",
       "    <tr style=\"text-align: right;\">\n",
       "      <th></th>\n",
       "      <th>mhc</th>\n",
       "      <th>netmhc_auc</th>\n",
       "      <th>counts</th>\n",
       "      <th>nn_auc</th>\n",
       "      <th>xgb_auc</th>\n",
       "      <th>stacked_auc</th>\n",
       "    </tr>\n",
       "  </thead>\n",
       "  <tbody>\n",
       "    <tr>\n",
       "      <th>48</th>\n",
       "      <td>HLA-B-3801</td>\n",
       "      <td>0.984962</td>\n",
       "      <td>136</td>\n",
       "      <td>0.06391</td>\n",
       "      <td>0.323308</td>\n",
       "      <td>0.145363</td>\n",
       "    </tr>\n",
       "  </tbody>\n",
       "</table>\n",
       "</div>"
      ],
      "text/plain": [
       "           mhc  netmhc_auc  counts   nn_auc   xgb_auc  stacked_auc\n",
       "48  HLA-B-3801    0.984962     136  0.06391  0.323308     0.145363"
      ]
     },
     "execution_count": 16,
     "metadata": {},
     "output_type": "execute_result"
    }
   ],
   "source": [
    "# there is one allele when my models have completely failed, but mhcpan is very good\n",
    "all_auc[all_auc.mhc=='HLA-B-3801']"
   ]
  },
  {
   "cell_type": "markdown",
   "metadata": {},
   "source": [
    "----\n",
    "\n",
    "\n",
    "### Aggregate results by peptide length"
   ]
  },
  {
   "cell_type": "code",
   "execution_count": 17,
   "metadata": {
    "collapsed": false
   },
   "outputs": [],
   "source": [
    "grouped=data.groupby('peptide_length',as_index=False)\n",
    "\n",
    "len_auc_df=grouped.agg(agg_auc_nn)[['peptide_length']]\n",
    "len_auc_df['counts']=grouped['peptide_length'].size().values\n",
    "len_auc_df['nn_auc']=grouped.agg(agg_auc_nn)[['cv']]\n",
    "len_auc_df['xgb_auc']=grouped.agg(agg_auc_xgb)[['cv']]\n",
    "len_auc_df['stacked_auc']=grouped.agg(agg_auc_stacked)[['cv']]\n",
    "\n",
    "\n",
    "netmhc_auc=netmhc_cv_res.groupby('peptide_length',as_index=False).agg(agg_auc_netmhc)[['peptide_length','netmhc_auc']]\n",
    "\n",
    "#merge results to one dataframe\n",
    "len_auc=netmhc_auc.merge(len_auc_df,on='peptide_length')"
   ]
  },
  {
   "cell_type": "code",
   "execution_count": 18,
   "metadata": {
    "collapsed": false
   },
   "outputs": [
    {
     "data": {
      "text/html": [
       "<div>\n",
       "<table border=\"1\" class=\"dataframe\">\n",
       "  <thead>\n",
       "    <tr style=\"text-align: right;\">\n",
       "      <th></th>\n",
       "      <th>peptide_length</th>\n",
       "      <th>netmhc_auc</th>\n",
       "      <th>counts</th>\n",
       "      <th>nn_auc</th>\n",
       "      <th>xgb_auc</th>\n",
       "      <th>stacked_auc</th>\n",
       "    </tr>\n",
       "  </thead>\n",
       "  <tbody>\n",
       "    <tr>\n",
       "      <th>0</th>\n",
       "      <td>8</td>\n",
       "      <td>0.891307</td>\n",
       "      <td>4943</td>\n",
       "      <td>0.874650</td>\n",
       "      <td>0.909797</td>\n",
       "      <td>0.908021</td>\n",
       "    </tr>\n",
       "    <tr>\n",
       "      <th>1</th>\n",
       "      <td>9</td>\n",
       "      <td>0.951734</td>\n",
       "      <td>99700</td>\n",
       "      <td>0.931678</td>\n",
       "      <td>0.945717</td>\n",
       "      <td>0.948802</td>\n",
       "    </tr>\n",
       "    <tr>\n",
       "      <th>2</th>\n",
       "      <td>10</td>\n",
       "      <td>0.891497</td>\n",
       "      <td>26954</td>\n",
       "      <td>0.861777</td>\n",
       "      <td>0.895969</td>\n",
       "      <td>0.898795</td>\n",
       "    </tr>\n",
       "    <tr>\n",
       "      <th>3</th>\n",
       "      <td>11</td>\n",
       "      <td>0.873929</td>\n",
       "      <td>2950</td>\n",
       "      <td>0.834684</td>\n",
       "      <td>0.875327</td>\n",
       "      <td>0.870697</td>\n",
       "    </tr>\n",
       "    <tr>\n",
       "      <th>4</th>\n",
       "      <td>12</td>\n",
       "      <td>0.709414</td>\n",
       "      <td>90</td>\n",
       "      <td>0.720534</td>\n",
       "      <td>0.776130</td>\n",
       "      <td>0.762787</td>\n",
       "    </tr>\n",
       "  </tbody>\n",
       "</table>\n",
       "</div>"
      ],
      "text/plain": [
       "   peptide_length  netmhc_auc  counts    nn_auc   xgb_auc  stacked_auc\n",
       "0               8    0.891307    4943  0.874650  0.909797     0.908021\n",
       "1               9    0.951734   99700  0.931678  0.945717     0.948802\n",
       "2              10    0.891497   26954  0.861777  0.895969     0.898795\n",
       "3              11    0.873929    2950  0.834684  0.875327     0.870697\n",
       "4              12    0.709414      90  0.720534  0.776130     0.762787"
      ]
     },
     "execution_count": 18,
     "metadata": {},
     "output_type": "execute_result"
    }
   ],
   "source": [
    "len_auc"
   ]
  },
  {
   "cell_type": "code",
   "execution_count": 19,
   "metadata": {
    "collapsed": false
   },
   "outputs": [
    {
     "data": {
      "text/plain": [
       "<matplotlib.text.Text at 0x7f659f0afd10>"
      ]
     },
     "execution_count": 19,
     "metadata": {},
     "output_type": "execute_result"
    },
    {
     "data": {
      "image/png": "[encoded data removed]",
      "text/plain": [
       "<matplotlib.figure.Figure at 0x7f656ce577d0>"
      ]
     },
     "metadata": {},
     "output_type": "display_data"
    }
   ],
   "source": [
    "fig=plt.figure(figsize=(12,6))\n",
    "temp=pd.melt(len_auc,id_vars=['peptide_length','counts'])\n",
    "sns.barplot(data=temp,x='peptide_length',y='value',hue='variable')\n",
    "plt.ylim(0.5,1)\n",
    "plt.ylabel('AUC')\n",
    "plt.xlabel('peptide length')"
   ]
  }
 ],
 "metadata": {
  "kernelspec": {
   "display_name": "Python 2",
   "language": "python",
   "name": "python2"
  },
  "language_info": {
   "codemirror_mode": {
    "name": "ipython",
    "version": 2
   },
   "file_extension": ".py",
   "mimetype": "text/x-python",
   "name": "python",
   "nbconvert_exporter": "python",
   "pygments_lexer": "ipython2",
   "version": "2.7.12"
  }
 },
 "nbformat": 4,
 "nbformat_minor": 0
}
