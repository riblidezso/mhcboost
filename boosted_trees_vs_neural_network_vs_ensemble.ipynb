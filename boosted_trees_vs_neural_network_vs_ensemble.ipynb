{
 "cells": [
  {
   "cell_type": "markdown",
   "metadata": {},
   "source": [
    "# Comparing the performance of Neural networks and Gradient boosted trees  , and a stacked ensemble of both in MHC class I binding prediction\n",
    "\n",
    "\n",
    "---\n",
    "### Background\n",
    "\n",
    "The prediction of MHC peptide binding is an important method in immunology. Data driven methods give best performance for this task because of complexity of the MHC molecules and the binding process. The most successful machine learning models were Neural networks in this area.  I have seen articles describing SVM models, but nobody has tried gradient boosted trees (as far as I know).\n",
    "\n",
    "\n",
    "In the last years the vast majority of Data science competitions were won with a framework called Gradient Boosted Trees. These models very frequently outperform neural networks in gereal machine learning tasks. \n",
    "\n",
    "These facts gave me the idea to compare the perfomance of  Neural networks  and Gradient boosted trees and in MHC class I peptide binding prediction.\n",
    "\n",
    "Also Neural networks and Gradient boosted trees are very different models, therefore ensembling them can give a really big boost to performance. So I tried to ensemble these models.\n",
    "\n",
    "\n",
    "----\n",
    "### Data\n",
    "\n",
    "#### Source\n",
    "I have downloaded MHC class I peptide binding data which has been used in this benchmark article ( http://www.ncbi.nlm.nih.gov/pubmed/25017736)  from the IEDB website.\n",
    "\n",
    "\n",
    "#### Encoding \n",
    "\n",
    "Input data is very simply coded as the folowing:\n",
    "- zero padded sequences to the longest peptide length\n",
    "- amino acids are encoded in a one hot scheme\n",
    "- species are encoded in a one hot scheme\n",
    "- HLA types are encoded in a one-hot scheme\n",
    "- HLA loci are encoded in a one-hot scheme\n",
    "- HLA serotypes are encoded in a one-hot scheme\n",
    "- peptide lengths are included\n",
    "\n",
    "#### Target \n",
    "\n",
    "I predicted binary binding labels based on the IC > 500nM threshold.\n",
    "\n",
    "\n",
    "---\n",
    "\n",
    "### Models\n",
    "\n",
    "#### Neural network\n",
    "\n",
    "I used a neural network architecture similar to the one used in NetMHCpan.\n",
    "- 1 hidden layer\n",
    "- 60 units in the hidden layer\n",
    "\n",
    "I used the Keras software library. http://keras.io\n",
    "\n",
    "\n",
    "#### Gradient boosted trees\n",
    "Some resources about the model:\n",
    "- http://xgboost.readthedocs.org/en/latest/model.html\n",
    "- http://homes.cs.washington.edu/~tqchen/pdf/BoostedTree.pdf\n",
    "    \n",
    "I used the XGBoost software library. http://xgboost.readthedocs.org/en/latest/\n",
    "\n",
    "\n",
    "#### Ensembling\n",
    "\n",
    "\n",
    "\n",
    "I used a stacking approach for ensembling. I used original features, and probabilities predicted by base models as input for the meta estimator. The same folds are used in both step to prevent label leakage.\n",
    "\n",
    "Original article about stacking.\n",
    "- http://www.sciencedirect.com/science/article/pii/S0893608005800231\n",
    "\n",
    "\n",
    "\n",
    "\n",
    "---\n",
    "\n",
    "### Methods\n",
    "\n",
    "\n",
    "I made 5-fold cross validation evaluations, with AUC for all the measurements. All models can use early stopping on validation data so 3:1:1 scheme was used in each fold: 3 subsets for training 1 for validation and 1 for only prediction.\n",
    "\n",
    "\n",
    "\n",
    "--- \n",
    "\n",
    "### Conclusions\n",
    "\n",
    "\n",
    "Gradient boosted trees significantly outperform neural networks in this task. The ensemble of neural networks and gradient boosted trees gives further improvement over the base models. NetMHCPan performance is very similar to the ensemble model on this dataset.\n",
    "\n",
    "\n",
    "Method | 5 fold CV\n",
    "--- | --- \n",
    "NN | 0.9172\n",
    "Gradient boosted trees | 0.9355\n",
    "Ensemble of Gradient boosted trees + NN | 0.9377\n",
    "NetMHCpan | 0.9376\n",
    "\n",
    "\n",
    "The ensemble has better results than NetMHCpan on peptide length 8,10,11,12, but please note that these NetMHCpan results from the article were obtained with the L-mer approximation, not the newest representation on peptids of different length.\n",
    "\n",
    "---\n",
    "\n",
    "\n",
    "### Future Work\n",
    "\n",
    "#### Training on similar data than NetMHCpan\n",
    "\n",
    "The ensemble model performs comparably to NetMHCpan which is considered to be the state of the art model in MHC class I prediction. \n",
    "\n",
    "But NetMHCpan uses sophsticated encoding of the MHC molecules with pseudo sequences, a sophisticated way for predicting different length peptides and it is an ensemble of many models trained on different representations. \n",
    "\n",
    "**I think that Gradient Boosted trees trained on the same data used for NetMHCpan training, and using ensembling trees and neural networks could significanlty improve the current state of the art.**\n",
    "\n",
    "\n",
    "\n",
    "----\n",
    "#### Notes\n",
    "\n",
    "- To run this notebook you need to \n",
    "    - download the dataset\n",
    "    - export the MHC_DATA variable\n",
    "    - and have keras,theno,xgboost,sklearn,pandas,numpy installed.\n",
    "    \n",
    "    \n",
    "- This notebook can be run as it is. Just click run all. \n",
    "    - It takes some time but on a stronger computer it should be less than 30 minutes.\n",
    "\n",
    "\n",
    "----\n",
    "\n",
    "\n",
    "This notebook was created by Dezso Ribli"
   ]
  },
  {
   "cell_type": "markdown",
   "metadata": {},
   "source": [
    "### Load modules"
   ]
  },
  {
   "cell_type": "code",
   "execution_count": 1,
   "metadata": {
    "collapsed": false
   },
   "outputs": [
    {
     "name": "stderr",
     "output_type": "stream",
     "text": [
      "Using Theano backend.\n",
      "/home/ribli/tools/anaconda2/lib/python2.7/site-packages/matplotlib/__init__.py:872: UserWarning: axes.color_cycle is deprecated and replaced with axes.prop_cycle; please use the latter.\n",
      "  warnings.warn(self.msg_depr % (key, alt_key))\n"
     ]
    }
   ],
   "source": [
    "import numpy as np\n",
    "import pandas as pd\n",
    "from sklearn.preprocessing import LabelBinarizer\n",
    "from sklearn.cross_validation import KFold\n",
    "from sklearn.cross_validation import train_test_split\n",
    "import xgboost as xgb\n",
    "from keras.callbacks import ModelCheckpoint,EarlyStopping\n",
    "from keras.models import Sequential\n",
    "from keras.layers import Dense\n",
    "from sklearn.metrics import roc_auc_score\n",
    "import glob\n",
    "import matplotlib.pyplot as plt\n",
    "import seaborn as sns\n",
    "%matplotlib inline\n",
    "\n",
    "#go to working dir\n",
    "import os\n",
    "os.chdir(os.environ['MHC_DIR'])"
   ]
  },
  {
   "cell_type": "markdown",
   "metadata": {},
   "source": [
    "### Data Loader functions"
   ]
  },
  {
   "cell_type": "code",
   "execution_count": 2,
   "metadata": {
    "collapsed": true
   },
   "outputs": [],
   "source": [
    "def load_data():\n",
    "    \"\"\"Load train/blind test data as in the benchmark.\"\"\"\n",
    "    \n",
    "    #load the cross validation data\n",
    "    dataf='benchmark_mhci_reliability/binding/bd2009.1/bdata.2009.mhci.public.1.txt'\n",
    "    data=pd.read_csv(dataf,sep='\\t')\n",
    "     \n",
    "    #encode hla,species,amino acids,in a one hot scheme\n",
    "    X_hla=one_hot_encode(data.mhc.values,data.mhc.values)\n",
    "    X_hla_loci=encode_hla_loci(data.mhc.values,data.mhc.values)\n",
    "    X_hla_sero=encode_hla_sero(data.mhc.values,data.mhc.values)\n",
    "    X_species=one_hot_encode(data.species.values,data.species.values)\n",
    "    X_seq=encode_seq(data.sequence.values,data.sequence.values)\n",
    "    \n",
    "    #stack columns\n",
    "    X=np.column_stack([X_species,\n",
    "                       X_hla,\n",
    "                       X_hla_loci,\n",
    "                       X_hla_sero,\n",
    "                       X_seq,\n",
    "                       data.peptide_length.values])\n",
    "    \n",
    "    #make binding class labels\n",
    "    y=np.ones(len(data.meas))\n",
    "    y[data.meas.values>=500]=0\n",
    "\n",
    "    #permute arrays as they are ordered!!!\n",
    "    rng=np.random.RandomState(42)\n",
    "    perm=rng.permutation(len(X))\n",
    "    X,y,data=X[perm],y[perm],data.iloc[perm,:]\n",
    "    \n",
    "    return X,y,data\n",
    "\n",
    "\n",
    "def one_hot_encode(x_all,x_in):\n",
    "    \"\"\"One hot encode categorical variable.\"\"\"\n",
    "    lb = LabelBinarizer()\n",
    "    lb.fit(x_all)\n",
    "    x_out=lb.transform( x_in )\n",
    "    return x_out\n",
    "\n",
    "\n",
    "def encode_seq(x_all,x_in):\n",
    "    \"\"\"Encode string amino acid sequences to numbers.\"\"\"\n",
    "    #zero pad peptids to equal length\n",
    "    maxlen=np.max(map(len,x_all))\n",
    "    x_temp_all=np.array([list(x.zfill(maxlen)) for x in x_all])\n",
    "    x_temp_in=np.array([list(x.zfill(maxlen)) for x in x_in])\n",
    "    \n",
    "    lb = LabelBinarizer()\n",
    "    lb.fit(x_temp_all.flatten())\n",
    "    x_out=np.column_stack([lb.transform(x_temp_in[:,i]) for i in range(maxlen)])\n",
    "\n",
    "    return x_out\n",
    "\n",
    "\n",
    "def encode_hla_loci(x_all,x_in):\n",
    "    \"\"\"Encode string HLA loci to numbers.\"\"\"\n",
    "    #get 1st subtype\n",
    "    new_x_all=[x.split('-')[1][0] for x in x_all]\n",
    "    new_x_in=[x.split('-')[1][0] for x in x_in]\n",
    "    \n",
    "    return one_hot_encode(new_x_all,new_x_in)\n",
    "\n",
    "\n",
    "def get_serotype(hla_type):\n",
    "    \"\"\"Parse serotype from hla type.\"\"\"\n",
    "    if len(hla_type.split('-'))<3:\n",
    "        return '0'\n",
    "    else:\n",
    "        return hla_type.split('-')[2][:2]\n",
    "\n",
    "    \n",
    "def encode_hla_sero(x_all,x_in):\n",
    "    \"\"\"Encode string HLA serotype to numbers.\"\"\"\n",
    "    #get 1st subtype\n",
    "    new_x_all=[get_serotype(x) for x in x_all]\n",
    "    new_x_in=[get_serotype(x) for x in x_in]\n",
    "    \n",
    "    return one_hot_encode(new_x_all,new_x_in)"
   ]
  },
  {
   "cell_type": "markdown",
   "metadata": {},
   "source": [
    "----\n",
    "\n",
    "\n",
    "### Cross validation scheme for both models\n"
   ]
  },
  {
   "cell_type": "code",
   "execution_count": 3,
   "metadata": {
    "collapsed": true
   },
   "outputs": [],
   "source": [
    "def cv(fitter,model_spec,X,y,n_folds=5):\n",
    "    \"\"\"Evaluate XGB model with cross validation.\"\"\"\n",
    "    #result\n",
    "    y_pred=np.zeros(len(y))\n",
    "    #loop folds\n",
    "    for train_index,test_index in KFold(len(X),n_folds=n_folds):\n",
    "        #train and predict\n",
    "        y_pred[test_index]=fitter(model_spec,X[train_index],y[train_index],X[test_index])\n",
    "    return y_pred\n",
    "\n",
    "\n",
    "def keras_fit_predict(get_model,X_train,y_train,X_test,\n",
    "                      validation_split=0.1,patience=1,nb_epoch=100,**kwargs):\n",
    "    \"\"\"Fit model on train test set with early stopping.\"\"\"\n",
    "    #get model\n",
    "    model=get_model(X_train.shape[1])\n",
    "    \n",
    "    #callbacks\n",
    "    best_model=ModelCheckpoint('best_model',save_best_only=True,verbose=2)\n",
    "    early_stop=EarlyStopping(patience=patience,verbose=2)\n",
    "    \n",
    "    #train it\n",
    "    model.fit(X_train,y_train,nb_epoch = nb_epoch,validation_split=validation_split,\n",
    "              callbacks=[best_model,early_stop],verbose=2,**kwargs)\n",
    "    \n",
    "    #load best model and predict\n",
    "    model.load_weights('best_model')\n",
    "    y_pred_test=model.predict(X_test).ravel()\n",
    "    \n",
    "    return y_pred_test\n",
    "\n",
    "def xgb_fit_predict(params,X_train,y_train,X_test,num_boost_round=5000,verbose_eval=500,\n",
    "                    early_stopping_rounds=200,validation_size=0.1):\n",
    "    \"\"\"Fit model on train test set with early stopping.\"\"\"\n",
    "    #split validation data for early stopping\n",
    "    X_train, X_valid, y_train, y_valid = train_test_split(X_train, y_train, test_size=validation_size)\n",
    "    \n",
    "    #convert to data format for xgb\n",
    "    dtrain = xgb.DMatrix( X_train, label=y_train)\n",
    "    dvalid = xgb.DMatrix( X_valid, label=y_valid)\n",
    "    dtest = xgb.DMatrix( X_test )\n",
    "    \n",
    "    #define printed evaluations\n",
    "    evallist  = [(dtrain,'train'),(dvalid,'eval')]\n",
    "\n",
    "    #lets train\n",
    "    bst = xgb.train(params,dtrain,evals=evallist,\n",
    "                    num_boost_round=num_boost_round,\n",
    "                    early_stopping_rounds=early_stopping_rounds,\n",
    "                    verbose_eval=verbose_eval)\n",
    "    \n",
    "    #make predictions\n",
    "    y_pred_test=bst.predict(dtest)\n",
    "    \n",
    "    return y_pred_test"
   ]
  },
  {
   "cell_type": "markdown",
   "metadata": {},
   "source": [
    "### Load data"
   ]
  },
  {
   "cell_type": "code",
   "execution_count": 4,
   "metadata": {
    "collapsed": false
   },
   "outputs": [],
   "source": [
    "X,y,data=load_data()"
   ]
  },
  {
   "cell_type": "markdown",
   "metadata": {},
   "source": [
    "### Train NN in a CV scheme"
   ]
  },
  {
   "cell_type": "code",
   "execution_count": 5,
   "metadata": {
    "collapsed": false,
    "scrolled": true
   },
   "outputs": [
    {
     "name": "stdout",
     "output_type": "stream",
     "text": [
      "Train on 99110 samples, validate on 11013 samples\n",
      "Epoch 1/100\n",
      "Epoch 00000: val_loss improved from inf to 0.40351, saving model to best_model\n",
      "4s - loss: 0.4688 - val_loss: 0.4035\n",
      "Epoch 2/100\n",
      "Epoch 00001: val_loss improved from 0.40351 to 0.34621, saving model to best_model\n",
      "4s - loss: 0.3723 - val_loss: 0.3462\n",
      "Epoch 3/100\n",
      "Epoch 00002: val_loss improved from 0.34621 to 0.33477, saving model to best_model\n",
      "4s - loss: 0.3312 - val_loss: 0.3348\n",
      "Epoch 4/100\n",
      "Epoch 00003: val_loss improved from 0.33477 to 0.32292, saving model to best_model\n",
      "4s - loss: 0.3070 - val_loss: 0.3229\n",
      "Epoch 5/100\n",
      "Epoch 00004: val_loss improved from 0.32292 to 0.31832, saving model to best_model\n",
      "4s - loss: 0.2908 - val_loss: 0.3183\n",
      "Epoch 6/100\n",
      "Epoch 00005: val_loss did not improve\n",
      "4s - loss: 0.2789 - val_loss: 0.3210\n",
      "Epoch 7/100\n",
      "Epoch 00006: val_loss improved from 0.31832 to 0.31287, saving model to best_model\n",
      "4s - loss: 0.2699 - val_loss: 0.3129\n",
      "Epoch 8/100\n",
      "Epoch 00007: val_loss improved from 0.31287 to 0.30990, saving model to best_model\n",
      "4s - loss: 0.2618 - val_loss: 0.3099\n",
      "Epoch 9/100\n",
      "Epoch 00008: val_loss did not improve\n",
      "5s - loss: 0.2549 - val_loss: 0.3188\n",
      "Epoch 10/100\n",
      "Epoch 00009: val_loss did not improve\n",
      "Epoch 00009: early stopping\n",
      "5s - loss: 0.2490 - val_loss: 0.3242\n",
      "Train on 99110 samples, validate on 11013 samples\n",
      "Epoch 1/100\n",
      "Epoch 00000: val_loss improved from inf to 0.39644, saving model to best_model\n",
      "5s - loss: 0.4649 - val_loss: 0.3964\n",
      "Epoch 2/100\n",
      "Epoch 00001: val_loss improved from 0.39644 to 0.34934, saving model to best_model\n",
      "5s - loss: 0.3738 - val_loss: 0.3493\n",
      "Epoch 3/100\n",
      "Epoch 00002: val_loss improved from 0.34934 to 0.32873, saving model to best_model\n",
      "4s - loss: 0.3331 - val_loss: 0.3287\n",
      "Epoch 4/100\n",
      "Epoch 00003: val_loss improved from 0.32873 to 0.32054, saving model to best_model\n",
      "4s - loss: 0.3096 - val_loss: 0.3205\n",
      "Epoch 5/100\n",
      "Epoch 00004: val_loss improved from 0.32054 to 0.31624, saving model to best_model\n",
      "4s - loss: 0.2933 - val_loss: 0.3162\n",
      "Epoch 6/100\n",
      "Epoch 00005: val_loss did not improve\n",
      "4s - loss: 0.2828 - val_loss: 0.3187\n",
      "Epoch 7/100\n",
      "Epoch 00006: val_loss improved from 0.31624 to 0.31423, saving model to best_model\n",
      "4s - loss: 0.2735 - val_loss: 0.3142\n",
      "Epoch 8/100\n",
      "Epoch 00007: val_loss improved from 0.31423 to 0.31089, saving model to best_model\n",
      "4s - loss: 0.2638 - val_loss: 0.3109\n",
      "Epoch 9/100\n",
      "Epoch 00008: val_loss did not improve\n",
      "4s - loss: 0.2582 - val_loss: 0.3109\n",
      "Epoch 10/100\n",
      "Epoch 00009: val_loss did not improve\n",
      "Epoch 00009: early stopping\n",
      "4s - loss: 0.2519 - val_loss: 0.3117\n",
      "Train on 99110 samples, validate on 11013 samples\n",
      "Epoch 1/100\n",
      "Epoch 00000: val_loss improved from inf to 0.39668, saving model to best_model\n",
      "4s - loss: 0.4622 - val_loss: 0.3967\n",
      "Epoch 2/100\n",
      "Epoch 00001: val_loss improved from 0.39668 to 0.35481, saving model to best_model\n",
      "5s - loss: 0.3707 - val_loss: 0.3548\n",
      "Epoch 3/100\n",
      "Epoch 00002: val_loss improved from 0.35481 to 0.33740, saving model to best_model\n",
      "5s - loss: 0.3324 - val_loss: 0.3374\n",
      "Epoch 4/100\n",
      "Epoch 00003: val_loss improved from 0.33740 to 0.31828, saving model to best_model\n",
      "5s - loss: 0.3110 - val_loss: 0.3183\n",
      "Epoch 5/100\n",
      "Epoch 00004: val_loss improved from 0.31828 to 0.31825, saving model to best_model\n",
      "4s - loss: 0.2975 - val_loss: 0.3182\n",
      "Epoch 6/100\n",
      "Epoch 00005: val_loss improved from 0.31825 to 0.31663, saving model to best_model\n",
      "4s - loss: 0.2852 - val_loss: 0.3166\n",
      "Epoch 7/100\n",
      "Epoch 00006: val_loss did not improve\n",
      "4s - loss: 0.2769 - val_loss: 0.3195\n",
      "Epoch 8/100\n",
      "Epoch 00007: val_loss improved from 0.31663 to 0.31055, saving model to best_model\n",
      "4s - loss: 0.2695 - val_loss: 0.3106\n",
      "Epoch 9/100\n",
      "Epoch 00008: val_loss did not improve\n",
      "4s - loss: 0.2637 - val_loss: 0.3215\n",
      "Epoch 10/100\n",
      "Epoch 00009: val_loss did not improve\n",
      "Epoch 00009: early stopping\n",
      "4s - loss: 0.2581 - val_loss: 0.3194\n",
      "Train on 99110 samples, validate on 11013 samples\n",
      "Epoch 1/100\n",
      "Epoch 00000: val_loss improved from inf to 0.40783, saving model to best_model\n",
      "3s - loss: 0.4738 - val_loss: 0.4078\n",
      "Epoch 2/100\n",
      "Epoch 00001: val_loss improved from 0.40783 to 0.35553, saving model to best_model\n",
      "4s - loss: 0.3806 - val_loss: 0.3555\n",
      "Epoch 3/100\n",
      "Epoch 00002: val_loss improved from 0.35553 to 0.33411, saving model to best_model\n",
      "4s - loss: 0.3381 - val_loss: 0.3341\n",
      "Epoch 4/100\n",
      "Epoch 00003: val_loss improved from 0.33411 to 0.32347, saving model to best_model\n",
      "4s - loss: 0.3134 - val_loss: 0.3235\n",
      "Epoch 5/100\n",
      "Epoch 00004: val_loss improved from 0.32347 to 0.31905, saving model to best_model\n",
      "4s - loss: 0.2972 - val_loss: 0.3191\n",
      "Epoch 6/100\n",
      "Epoch 00005: val_loss improved from 0.31905 to 0.31635, saving model to best_model\n",
      "4s - loss: 0.2858 - val_loss: 0.3163\n",
      "Epoch 7/100\n",
      "Epoch 00006: val_loss improved from 0.31635 to 0.31360, saving model to best_model\n",
      "4s - loss: 0.2774 - val_loss: 0.3136\n",
      "Epoch 8/100\n",
      "Epoch 00007: val_loss did not improve\n",
      "4s - loss: 0.2702 - val_loss: 0.3207\n",
      "Epoch 9/100\n",
      "Epoch 00008: val_loss improved from 0.31360 to 0.31304, saving model to best_model\n",
      "4s - loss: 0.2646 - val_loss: 0.3130\n",
      "Epoch 10/100\n",
      "Epoch 00009: val_loss improved from 0.31304 to 0.31085, saving model to best_model\n",
      "4s - loss: 0.2603 - val_loss: 0.3109\n",
      "Epoch 11/100\n",
      "Epoch 00010: val_loss did not improve\n",
      "4s - loss: 0.2555 - val_loss: 0.3173\n",
      "Epoch 12/100\n",
      "Epoch 00011: val_loss did not improve\n",
      "Epoch 00011: early stopping\n",
      "4s - loss: 0.2517 - val_loss: 0.3183\n",
      "Train on 99111 samples, validate on 11013 samples\n",
      "Epoch 1/100\n",
      "Epoch 00000: val_loss improved from inf to 0.40334, saving model to best_model\n",
      "3s - loss: 0.4686 - val_loss: 0.4033\n",
      "Epoch 2/100\n",
      "Epoch 00001: val_loss improved from 0.40334 to 0.36160, saving model to best_model\n",
      "4s - loss: 0.3778 - val_loss: 0.3616\n",
      "Epoch 3/100\n",
      "Epoch 00002: val_loss improved from 0.36160 to 0.33611, saving model to best_model\n",
      "4s - loss: 0.3352 - val_loss: 0.3361\n",
      "Epoch 4/100\n",
      "Epoch 00003: val_loss improved from 0.33611 to 0.32148, saving model to best_model\n",
      "4s - loss: 0.3112 - val_loss: 0.3215\n",
      "Epoch 5/100\n",
      "Epoch 00004: val_loss improved from 0.32148 to 0.32007, saving model to best_model\n",
      "4s - loss: 0.2951 - val_loss: 0.3201\n",
      "Epoch 6/100\n",
      "Epoch 00005: val_loss improved from 0.32007 to 0.31270, saving model to best_model\n",
      "4s - loss: 0.2838 - val_loss: 0.3127\n",
      "Epoch 7/100\n",
      "Epoch 00006: val_loss improved from 0.31270 to 0.31109, saving model to best_model\n",
      "4s - loss: 0.2751 - val_loss: 0.3111\n",
      "Epoch 8/100\n",
      "Epoch 00007: val_loss did not improve\n",
      "4s - loss: 0.2688 - val_loss: 0.3217\n",
      "Epoch 9/100\n",
      "Epoch 00008: val_loss did not improve\n",
      "Epoch 00008: early stopping\n",
      "4s - loss: 0.2624 - val_loss: 0.3119\n"
     ]
    }
   ],
   "source": [
    "#create a very simple NN model\n",
    "def get_model(input_dim,n_dense=60):\n",
    "    \"\"\"Creates Keras model.\"\"\"\n",
    "    model = Sequential()\n",
    "    model.add(Dense(n_dense, input_dim=input_dim,activation='relu'))\n",
    "    model.add(Dense(1,activation='sigmoid'))\n",
    "    model.compile(loss='binary_crossentropy', optimizer='adam')\n",
    "    return model\n",
    "\n",
    "nn_cv_pred=cv(keras_fit_predict,get_model,X,y)"
   ]
  },
  {
   "cell_type": "markdown",
   "metadata": {},
   "source": [
    "### Train gradient boosted trees in a CV scheme"
   ]
  },
  {
   "cell_type": "code",
   "execution_count": 6,
   "metadata": {
    "collapsed": false,
    "scrolled": false
   },
   "outputs": [
    {
     "name": "stderr",
     "output_type": "stream",
     "text": [
      "Will train until eval error hasn't decreased in 200 rounds.\n",
      "[0]\ttrain-auc:0.716450\teval-auc:0.702855\n",
      "[500]\ttrain-auc:0.980630\teval-auc:0.929944\n",
      "[1000]\ttrain-auc:0.994033\teval-auc:0.935559\n",
      "[1500]\ttrain-auc:0.997843\teval-auc:0.936527\n",
      "Stopping. Best iteration:\n",
      "[1351]\ttrain-auc:0.997095\teval-auc:0.936653\n",
      "\n",
      "Will train until eval error hasn't decreased in 200 rounds.\n",
      "[0]\ttrain-auc:0.654358\teval-auc:0.651563\n",
      "[500]\ttrain-auc:0.980717\teval-auc:0.923031\n",
      "[1000]\ttrain-auc:0.994172\teval-auc:0.929486\n",
      "Stopping. Best iteration:\n",
      "[1172]\ttrain-auc:0.995935\teval-auc:0.930153\n",
      "\n",
      "Will train until eval error hasn't decreased in 200 rounds.\n",
      "[0]\ttrain-auc:0.739321\teval-auc:0.744585\n",
      "[500]\ttrain-auc:0.980609\teval-auc:0.928742\n",
      "[1000]\ttrain-auc:0.993977\teval-auc:0.935229\n",
      "[1500]\ttrain-auc:0.997863\teval-auc:0.936389\n",
      "Stopping. Best iteration:\n",
      "[1589]\ttrain-auc:0.998216\teval-auc:0.936535\n",
      "\n",
      "Will train until eval error hasn't decreased in 200 rounds.\n",
      "[0]\ttrain-auc:0.731353\teval-auc:0.718416\n",
      "[500]\ttrain-auc:0.980376\teval-auc:0.924777\n",
      "[1000]\ttrain-auc:0.993862\teval-auc:0.933645\n",
      "[1500]\ttrain-auc:0.997787\teval-auc:0.934308\n",
      "Stopping. Best iteration:\n",
      "[1333]\ttrain-auc:0.996940\teval-auc:0.934376\n",
      "\n",
      "Will train until eval error hasn't decreased in 200 rounds.\n",
      "[0]\ttrain-auc:0.721878\teval-auc:0.705652\n",
      "[500]\ttrain-auc:0.980682\teval-auc:0.926977\n",
      "[1000]\ttrain-auc:0.993948\teval-auc:0.933688\n",
      "[1500]\ttrain-auc:0.997869\teval-auc:0.934863\n",
      "Stopping. Best iteration:\n",
      "[1361]\ttrain-auc:0.997175\teval-auc:0.935155\n",
      "\n"
     ]
    }
   ],
   "source": [
    "#model params\n",
    "params = {'max_depth':10,\n",
    "         'eta':0.1,\n",
    "         'min_child_weight':1,\n",
    "         'colsample_bytree':0.66,\n",
    "         'subsample':0.86,\n",
    "         'silent':1,\n",
    "         'objective': \"binary:logistic\",\n",
    "         'eval_metric': 'auc',\n",
    "         'nthread':4}\n",
    "\n",
    "xgb_cv_pred=cv(xgb_fit_predict,params,X,y)"
   ]
  },
  {
   "cell_type": "markdown",
   "metadata": {},
   "source": [
    "### Create a stacked ensemble of my NN and boosted tree models"
   ]
  },
  {
   "cell_type": "code",
   "execution_count": 7,
   "metadata": {
    "collapsed": false,
    "scrolled": false
   },
   "outputs": [
    {
     "name": "stderr",
     "output_type": "stream",
     "text": [
      "Will train until eval error hasn't decreased in 200 rounds.\n",
      "[0]\ttrain-auc:0.911032\teval-auc:0.906512\n",
      "Stopping. Best iteration:\n",
      "[102]\ttrain-auc:0.939182\teval-auc:0.934216\n",
      "\n",
      "Will train until eval error hasn't decreased in 200 rounds.\n",
      "[0]\ttrain-auc:0.910572\teval-auc:0.906717\n",
      "Stopping. Best iteration:\n",
      "[75]\ttrain-auc:0.938726\teval-auc:0.933959\n",
      "\n",
      "Will train until eval error hasn't decreased in 200 rounds.\n",
      "[0]\ttrain-auc:0.911282\teval-auc:0.910841\n",
      "Stopping. Best iteration:\n",
      "[85]\ttrain-auc:0.938433\teval-auc:0.939928\n",
      "\n",
      "Will train until eval error hasn't decreased in 200 rounds.\n",
      "[0]\ttrain-auc:0.912011\teval-auc:0.911024\n",
      "Stopping. Best iteration:\n",
      "[100]\ttrain-auc:0.939393\teval-auc:0.939267\n",
      "\n",
      "Will train until eval error hasn't decreased in 200 rounds.\n",
      "[0]\ttrain-auc:0.909624\teval-auc:0.907829\n",
      "Stopping. Best iteration:\n",
      "[144]\ttrain-auc:0.939453\teval-auc:0.937643\n",
      "\n"
     ]
    }
   ],
   "source": [
    "#create stacked input\n",
    "X_stacked=np.column_stack([X,xgb_cv_pred,nn_cv_pred])\n",
    "\n",
    "#new params\n",
    "params = {'max_depth':2,\n",
    "         'eta':0.1,\n",
    "         'min_child_weight':1,\n",
    "         'colsample_bytree':1,\n",
    "         'subsample':0.86,\n",
    "         'silent':1,\n",
    "         'objective': \"binary:logistic\",\n",
    "         'eval_metric': 'auc',\n",
    "         'nthread':4}\n",
    "\n",
    "stacked_cv_pred=cv(xgb_fit_predict,params,X_stacked,y)"
   ]
  },
  {
   "cell_type": "markdown",
   "metadata": {},
   "source": [
    "### Load NetMHCpan predictions"
   ]
  },
  {
   "cell_type": "code",
   "execution_count": 8,
   "metadata": {
    "collapsed": true
   },
   "outputs": [],
   "source": [
    "def all_from_fname(fname):\n",
    "    \"\"\"Get allele from the filename\"\"\"\n",
    "    # a bit convoluted naming\n",
    "    return '_'.join(os.path.basename(fname).split('rnd.')[-1].split('.')[0].split('-')[:-1])\n",
    "\n",
    "def load_allele_table(fname,allele):\n",
    "    \"\"\"Load a result table and annotate with allele\"\"\"\n",
    "    #note they are .xls but csv files...\n",
    "    tmp_table=pd.read_csv(fname,sep='\\t')\n",
    "    tmp_table['mhc']=allele.replace('_','-')\n",
    "    tmp_table['peptide_length']=[len(x) for x in tmp_table.sequence]\n",
    "    tmp_table['label']=(tmp_table.meas <= np.log10(500)).astype('int')\n",
    "    return tmp_table\n",
    "\n",
    "def load_all_tables(path):\n",
    "    \"\"\"Load all tables in directory and concat them into one big table\"\"\"\n",
    "    return pd.concat([load_allele_table(f,all_from_fname(f)) for f in glob.glob(path)])"
   ]
  },
  {
   "cell_type": "code",
   "execution_count": 9,
   "metadata": {
    "collapsed": true
   },
   "outputs": [],
   "source": [
    "X,y,data=load_data()"
   ]
  },
  {
   "cell_type": "code",
   "execution_count": 10,
   "metadata": {
    "collapsed": true
   },
   "outputs": [],
   "source": [
    "#load cv tables\n",
    "netmhc_cv_res=load_all_tables('benchmark_mhci_reliability/predictions/cv_rnd/netmhcpan/*')"
   ]
  },
  {
   "cell_type": "markdown",
   "metadata": {},
   "source": [
    "### Evaluate all models"
   ]
  },
  {
   "cell_type": "code",
   "execution_count": 11,
   "metadata": {
    "collapsed": false,
    "scrolled": true
   },
   "outputs": [
    {
     "name": "stdout",
     "output_type": "stream",
     "text": [
      "NN AUC: 0.917271252174\n",
      "XGB AUC: 0.93548495676\n",
      "Ensemble AUC: 0.937725587032\n",
      "\n",
      "NetMHCpan AUC: 0.937599369962\n"
     ]
    }
   ],
   "source": [
    "data['nn_pred']=nn_cv_pred\n",
    "data['xgb_pred']=xgb_cv_pred\n",
    "data['stacked_pred']=stacked_cv_pred\n",
    "data['label']=y\n",
    "\n",
    "#the netmhc predictions is only a subset of all data (3k missing)\n",
    "# so only use the subset here\n",
    "data=data.merge(netmhc_cv_res[['sequence','mhc']],on=['sequence','mhc'])\n",
    "\n",
    "print \"NN AUC:\",roc_auc_score(data.label,data.nn_pred)\n",
    "print \"XGB AUC:\",roc_auc_score(data.label,data.xgb_pred)\n",
    "print \"Ensemble AUC:\",roc_auc_score(data.label,data.stacked_pred)\n",
    "print\n",
    "print \"NetMHCpan AUC:\", roc_auc_score(netmhc_cv_res.label,-netmhc_cv_res.pred)"
   ]
  },
  {
   "cell_type": "markdown",
   "metadata": {},
   "source": [
    "----\n",
    "\n",
    "### Aggregate results by alleles"
   ]
  },
  {
   "cell_type": "code",
   "execution_count": 12,
   "metadata": {
    "collapsed": true
   },
   "outputs": [],
   "source": [
    "\"\"\"\n",
    "A bit convoluted way to aggregate in pandas dataframes on multiple columns with different column names,\n",
    "but now it will be okay. I will look into this later maybe.\n",
    "\"\"\"\n",
    "\n",
    "def agg_auc_nn(group):\n",
    "    return agg_auc(group,'nn_pred')\n",
    "\n",
    "def agg_auc_xgb(group):\n",
    "    return agg_auc(group,'xgb_pred')\n",
    "\n",
    "def agg_auc_stacked(group):\n",
    "    return agg_auc(group,'stacked_pred')\n",
    "\n",
    "def agg_auc_netmhc(group):\n",
    "    y = group['label'].values\n",
    "    pred = -group['pred'].values\n",
    "    \n",
    "    if len(np.unique(y))==1:\n",
    "        return 1\n",
    "    else:\n",
    "        return roc_auc_score(y,pred)\n",
    "\n",
    "def agg_auc(group,col):\n",
    "    y = group['label'].values\n",
    "    pred = group[col].values\n",
    "    \n",
    "    if len(np.unique(y))==1:\n",
    "        return 1\n",
    "    else:\n",
    "        return roc_auc_score(y,pred)"
   ]
  },
  {
   "cell_type": "code",
   "execution_count": 13,
   "metadata": {
    "collapsed": false
   },
   "outputs": [],
   "source": [
    "## aggregate\n",
    "grouped=data.groupby('mhc',as_index=False)\n",
    "\n",
    "all_auc_df=grouped.agg(agg_auc_nn)[['mhc']]\n",
    "all_auc_df['counts']=grouped['mhc'].size().values\n",
    "all_auc_df['nn_auc']=grouped.agg(agg_auc_nn)[['cv']]\n",
    "all_auc_df['xgb_auc']=grouped.agg(agg_auc_xgb)[['cv']]\n",
    "all_auc_df['stacked_auc']=grouped.agg(agg_auc_stacked)[['cv']]\n",
    "\n",
    "netmhc_cv_res['netmhc_auc']=0\n",
    "netmhc_auc=netmhc_cv_res.groupby('mhc',as_index=False).agg(agg_auc_netmhc)[['mhc','netmhc_auc']]\n",
    "\n",
    "#merge results to one dataframe\n",
    "all_auc=netmhc_auc.merge(all_auc_df,on='mhc')"
   ]
  },
  {
   "cell_type": "code",
   "execution_count": 14,
   "metadata": {
    "collapsed": false,
    "scrolled": false
   },
   "outputs": [
    {
     "name": "stderr",
     "output_type": "stream",
     "text": [
      "/home/ribli/tools/anaconda2/lib/python2.7/site-packages/matplotlib/__init__.py:892: UserWarning: axes.color_cycle is deprecated and replaced with axes.prop_cycle; please use the latter.\n",
      "  warnings.warn(self.msg_depr % (key, alt_key))\n"
     ]
    },
    {
     "data": {
      "text/plain": [
       "<matplotlib.text.Text at 0x7fe5e7840190>"
      ]
     },
     "execution_count": 14,
     "metadata": {},
     "output_type": "execute_result"
    },
    {
     "data": {
      "image/png": "[encoded data removed]",
      "text/plain": [
       "<matplotlib.figure.Figure at 0x7fe599608e50>"
      ]
     },
     "metadata": {},
     "output_type": "display_data"
    }
   ],
   "source": [
    "fig=plt.figure(figsize=(9,64))\n",
    "tmp=pd.melt(all_auc, id_vars=['mhc','counts'])\n",
    "sns.barplot(data=tmp,x='value',y='mhc',hue='variable')\n",
    "plt.xlim(xmax=1.3)\n",
    "plt.ylabel('HLA allele')\n",
    "plt.xlabel('AUC score')"
   ]
  },
  {
   "cell_type": "code",
   "execution_count": 15,
   "metadata": {
    "collapsed": false
   },
   "outputs": [
    {
     "data": {
      "text/html": [
       "<div>\n",
       "<table border=\"1\" class=\"dataframe\">\n",
       "  <thead>\n",
       "    <tr style=\"text-align: right;\">\n",
       "      <th></th>\n",
       "      <th>mhc</th>\n",
       "      <th>netmhc_auc</th>\n",
       "      <th>counts</th>\n",
       "      <th>nn_auc</th>\n",
       "      <th>xgb_auc</th>\n",
       "      <th>stacked_auc</th>\n",
       "    </tr>\n",
       "  </thead>\n",
       "  <tbody>\n",
       "    <tr>\n",
       "      <th>48</th>\n",
       "      <td>HLA-B-3801</td>\n",
       "      <td>0.984962</td>\n",
       "      <td>136</td>\n",
       "      <td>0.110276</td>\n",
       "      <td>0.162907</td>\n",
       "      <td>0.418546</td>\n",
       "    </tr>\n",
       "  </tbody>\n",
       "</table>\n",
       "</div>"
      ],
      "text/plain": [
       "           mhc  netmhc_auc  counts    nn_auc   xgb_auc  stacked_auc\n",
       "48  HLA-B-3801    0.984962     136  0.110276  0.162907     0.418546"
      ]
     },
     "execution_count": 15,
     "metadata": {},
     "output_type": "execute_result"
    }
   ],
   "source": [
    "# there is one allele when my models have completely failed, but mhcpan is very good\n",
    "all_auc[all_auc.mhc=='HLA-B-3801']"
   ]
  },
  {
   "cell_type": "markdown",
   "metadata": {},
   "source": [
    "----\n",
    "\n",
    "\n",
    "### Aggregate results by peptide length"
   ]
  },
  {
   "cell_type": "code",
   "execution_count": 16,
   "metadata": {
    "collapsed": false
   },
   "outputs": [],
   "source": [
    "grouped=data.groupby('peptide_length',as_index=False)\n",
    "\n",
    "len_auc_df=grouped.agg(agg_auc_nn)[['peptide_length']]\n",
    "len_auc_df['counts']=grouped['peptide_length'].size().values\n",
    "len_auc_df['nn_auc']=grouped.agg(agg_auc_nn)[['cv']]\n",
    "len_auc_df['xgb_auc']=grouped.agg(agg_auc_xgb)[['cv']]\n",
    "len_auc_df['stacked_auc']=grouped.agg(agg_auc_stacked)[['cv']]\n",
    "\n",
    "\n",
    "netmhc_auc=netmhc_cv_res.groupby('peptide_length',as_index=False).agg(agg_auc_netmhc)[['peptide_length','netmhc_auc']]\n",
    "\n",
    "#merge results to one dataframe\n",
    "len_auc=netmhc_auc.merge(len_auc_df,on='peptide_length')"
   ]
  },
  {
   "cell_type": "code",
   "execution_count": 17,
   "metadata": {
    "collapsed": false
   },
   "outputs": [
    {
     "data": {
      "text/html": [
       "<div>\n",
       "<table border=\"1\" class=\"dataframe\">\n",
       "  <thead>\n",
       "    <tr style=\"text-align: right;\">\n",
       "      <th></th>\n",
       "      <th>peptide_length</th>\n",
       "      <th>netmhc_auc</th>\n",
       "      <th>counts</th>\n",
       "      <th>nn_auc</th>\n",
       "      <th>xgb_auc</th>\n",
       "      <th>stacked_auc</th>\n",
       "    </tr>\n",
       "  </thead>\n",
       "  <tbody>\n",
       "    <tr>\n",
       "      <th>0</th>\n",
       "      <td>8</td>\n",
       "      <td>0.891307</td>\n",
       "      <td>4943</td>\n",
       "      <td>0.873410</td>\n",
       "      <td>0.911115</td>\n",
       "      <td>0.907464</td>\n",
       "    </tr>\n",
       "    <tr>\n",
       "      <th>1</th>\n",
       "      <td>9</td>\n",
       "      <td>0.951734</td>\n",
       "      <td>99700</td>\n",
       "      <td>0.932997</td>\n",
       "      <td>0.947366</td>\n",
       "      <td>0.949261</td>\n",
       "    </tr>\n",
       "    <tr>\n",
       "      <th>2</th>\n",
       "      <td>10</td>\n",
       "      <td>0.891497</td>\n",
       "      <td>26954</td>\n",
       "      <td>0.864858</td>\n",
       "      <td>0.896965</td>\n",
       "      <td>0.898019</td>\n",
       "    </tr>\n",
       "    <tr>\n",
       "      <th>3</th>\n",
       "      <td>11</td>\n",
       "      <td>0.873929</td>\n",
       "      <td>2950</td>\n",
       "      <td>0.843987</td>\n",
       "      <td>0.877112</td>\n",
       "      <td>0.874304</td>\n",
       "    </tr>\n",
       "    <tr>\n",
       "      <th>4</th>\n",
       "      <td>12</td>\n",
       "      <td>0.709414</td>\n",
       "      <td>90</td>\n",
       "      <td>0.656783</td>\n",
       "      <td>0.821349</td>\n",
       "      <td>0.802817</td>\n",
       "    </tr>\n",
       "  </tbody>\n",
       "</table>\n",
       "</div>"
      ],
      "text/plain": [
       "   peptide_length  netmhc_auc  counts    nn_auc   xgb_auc  stacked_auc\n",
       "0               8    0.891307    4943  0.873410  0.911115     0.907464\n",
       "1               9    0.951734   99700  0.932997  0.947366     0.949261\n",
       "2              10    0.891497   26954  0.864858  0.896965     0.898019\n",
       "3              11    0.873929    2950  0.843987  0.877112     0.874304\n",
       "4              12    0.709414      90  0.656783  0.821349     0.802817"
      ]
     },
     "execution_count": 17,
     "metadata": {},
     "output_type": "execute_result"
    }
   ],
   "source": [
    "len_auc"
   ]
  },
  {
   "cell_type": "code",
   "execution_count": 18,
   "metadata": {
    "collapsed": false
   },
   "outputs": [
    {
     "data": {
      "text/plain": [
       "<matplotlib.text.Text at 0x7fe58dbee410>"
      ]
     },
     "execution_count": 18,
     "metadata": {},
     "output_type": "execute_result"
    },
    {
     "data": {
      "image/png": "[encoded data removed]",
      "text/plain": [
       "<matplotlib.figure.Figure at 0x7fe58e6e8a10>"
      ]
     },
     "metadata": {},
     "output_type": "display_data"
    }
   ],
   "source": [
    "fig=plt.figure(figsize=(12,6))\n",
    "temp=pd.melt(len_auc,id_vars=['peptide_length','counts'])\n",
    "sns.barplot(data=temp,x='peptide_length',y='value',hue='variable')\n",
    "plt.ylim(0.5,1)\n",
    "plt.ylabel('AUC')\n",
    "plt.xlabel('peptide length')"
   ]
  }
 ],
 "metadata": {
  "kernelspec": {
   "display_name": "Python 2",
   "language": "python",
   "name": "python2"
  },
  "language_info": {
   "codemirror_mode": {
    "name": "ipython",
    "version": 2
   },
   "file_extension": ".py",
   "mimetype": "text/x-python",
   "name": "python",
   "nbconvert_exporter": "python",
   "pygments_lexer": "ipython2",
   "version": "2.7.12"
  }
 },
 "nbformat": 4,
 "nbformat_minor": 0
}
