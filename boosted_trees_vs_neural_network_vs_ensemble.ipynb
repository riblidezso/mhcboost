{
 "cells": [
  {
   "cell_type": "markdown",
   "metadata": {},
   "source": [
    "# Comparing the performance of Neural networks and Gradient boosted trees  , and a stacked ensemble of both in MHC class I binding prediction\n",
    "\n",
    "\n",
    "---\n",
    "### Background\n",
    "\n",
    "The prediction of MHC peptide binding is an important method in immunology. Data driven methods give best performance for this task because of complexity of the MHC molecules and the binding process. The most successful machine learning models were Neural networks in this area.  I have seen articles describing SVM models, but nobody has tried gradient boosted trees (as far as I know).\n",
    "\n",
    "\n",
    "In the last years the vast majority of Data science competitions were won with a framework called Gradient Boosted Trees. These models very frequently outperform neural networks in gereal machine learning tasks. \n",
    "\n",
    "These facts gave me the idea to compare the perfomance of  Neural networks  and Gradient boosted trees and in MHC class I peptide binding prediction.\n",
    "\n",
    "Also Neural networks and Gradient boosted trees are very different models, therefore ensembling them can give a really big boost to performance. So I tried to ensemble these models.\n",
    "\n",
    "\n",
    "----\n",
    "### Data\n",
    "\n",
    "#### Source\n",
    "I have downloaded MHC class I peptide binding data which has been used in this benchmark article ( http://www.ncbi.nlm.nih.gov/pubmed/25017736)  from the IEDB website.\n",
    "\n",
    "\n",
    "#### Encoding \n",
    "\n",
    "Input data is very simply coded as the folowing:\n",
    "- zero padded sequences to the longest peptide length\n",
    "- amino acids are encoded in a one hot scheme\n",
    "- species are encoded in a one hot scheme\n",
    "- HLA types are encoded in a one-hot scheme\n",
    "- HLA loci are encoded in a one-hot scheme\n",
    "- HLA serotypes are encoded in a one-hot scheme\n",
    "- peptide lengths are included\n",
    "\n",
    "#### Target \n",
    "\n",
    "I predicted binary binding labels based on the IC > 500nM threshold.\n",
    "\n",
    "\n",
    "---\n",
    "\n",
    "### Models\n",
    "\n",
    "#### Neural network\n",
    "\n",
    "I used a neural network architecture similar to the one used in NetMHCpan.\n",
    "- 1 hidden layer\n",
    "- 60 units in the hidden layer\n",
    "\n",
    "I used the Keras software library. http://keras.io\n",
    "\n",
    "\n",
    "#### Gradient boosted trees\n",
    "Some resources about the model:\n",
    "- http://xgboost.readthedocs.org/en/latest/model.html\n",
    "- http://homes.cs.washington.edu/~tqchen/pdf/BoostedTree.pdf\n",
    "    \n",
    "I used the XGBoost software library. http://xgboost.readthedocs.org/en/latest/\n",
    "\n",
    "\n",
    "#### Ensembling\n",
    "\n",
    "\n",
    "\n",
    "I used a stacking approach for ensembling. I used original features, and probabilities predicted by base models as input for the meta estimator. The same folds are used in both step to prevent label leakage.\n",
    "\n",
    "Original article about stacking.\n",
    "- http://www.sciencedirect.com/science/article/pii/S0893608005800231\n",
    "\n",
    "\n",
    "\n",
    "\n",
    "---\n",
    "\n",
    "### Methods\n",
    "\n",
    "\n",
    "I made 5-fold cross validation evaluations, with AUC for all the measurements. All models can use early stopping on validation data so 3:1:1 scheme was used in each fold: 3 subsets for training 1 for validation and 1 for only prediction.\n",
    "\n",
    "\n",
    "\n",
    "--- \n",
    "\n",
    "### Conclusions\n",
    "\n",
    "\n",
    "Gradient boosted trees significantly outperform neural networks in this task. The ensemble of neural networks and gradient boosted trees gives significant improvement over the base models. NetMHCPan outperforms my simple models.\n",
    "\n",
    "\n",
    "\n",
    "Method | 5 fold CV\n",
    "--- | --- \n",
    "NN | 0.9169\n",
    "Gradient boosted trees | 0.9307\n",
    "Ensemble of Gradient boosted trees + NN | 0.9361\n",
    "NetMHCpan | **0.9376**\n",
    "\n",
    "\n",
    "The ensemble has better results than NetMHCpan on peptide length 8,10,12, but please note that these NetMHCpan results from the article were obtained with the L-mer approximation, not the newest representation on peptids of different length.\n",
    "\n",
    "---\n",
    "\n",
    "\n",
    "### Future Work\n",
    "\n",
    "#### Training on similar data than NetMHCpan\n",
    "\n",
    "My models perform worse slitghly than NetMHCpan which is considered to be the state of the art model in MHC class I prediction. \n",
    "\n",
    "But NetMHCpan uses sophsticated encoding of the MHC molecules, a sophisticated way for predicting different length peptides, it adds random not binding data to inputs, and it is an ensemble of models, which were trained on different representations. \n",
    "\n",
    "**I think that Gradient Boosted trees trained on the data used for NetMHCpan training, and using ensembling could significanlty improve the current state of the art.**\n",
    "\n",
    "\n",
    "\n",
    "----\n",
    "#### Notes\n",
    "\n",
    "- To run this notebook you need to \n",
    "    - download the dataset\n",
    "    - export the MHC_DATA variable\n",
    "    - and have keras,theno,xgboost,sklearn,pandas,numpy installed.\n",
    "    \n",
    "    \n",
    "- This notebook can be run as it is. Just click run all. \n",
    "    - It takes some time but on a stronger computer it should be less than 30 minutes.\n",
    "\n",
    "\n",
    "----\n",
    "\n",
    "\n",
    "This notebook was created by Dezso Ribli"
   ]
  },
  {
   "cell_type": "markdown",
   "metadata": {},
   "source": [
    "### Load modules"
   ]
  },
  {
   "cell_type": "code",
   "execution_count": 1,
   "metadata": {
    "collapsed": false
   },
   "outputs": [
    {
     "name": "stderr",
     "output_type": "stream",
     "text": [
      "Using Theano backend.\n"
     ]
    }
   ],
   "source": [
    "import numpy as np\n",
    "import pandas as pd\n",
    "from sklearn.preprocessing import LabelBinarizer\n",
    "from sklearn.cross_validation import KFold\n",
    "from sklearn.cross_validation import train_test_split\n",
    "import xgboost as xgb\n",
    "from keras.callbacks import ModelCheckpoint,EarlyStopping\n",
    "from keras.models import Sequential\n",
    "from keras.layers import Dense\n",
    "from sklearn.metrics import roc_auc_score\n",
    "import glob\n",
    "import matplotlib.pyplot as plt\n",
    "import seaborn as sns\n",
    "%matplotlib inline\n",
    "\n",
    "#go to working dir\n",
    "import os\n",
    "os.chdir(os.environ['MHC_DIR'])"
   ]
  },
  {
   "cell_type": "markdown",
   "metadata": {},
   "source": [
    "### Data Loader functions"
   ]
  },
  {
   "cell_type": "code",
   "execution_count": 2,
   "metadata": {
    "collapsed": true
   },
   "outputs": [],
   "source": [
    "def load_data():\n",
    "    \"\"\"Load train/blind test data as in the benchmark.\"\"\"\n",
    "    \n",
    "    #load the cross validation data\n",
    "    dataf='benchmark_mhci_reliability/binding/bd2009.1/bdata.2009.mhci.public.1.txt'\n",
    "    data=pd.read_csv(dataf,sep='\\t')\n",
    "     \n",
    "    #encode hla,species,amino acids,in a one hot scheme\n",
    "    X_hla=one_hot_encode(data.mhc.values,data.mhc.values)\n",
    "    X_hla_loci=encode_hla_loci(data.mhc.values,data.mhc.values)\n",
    "    X_hla_sero=encode_hla_sero(data.mhc.values,data.mhc.values)\n",
    "    X_species=one_hot_encode(data.species.values,data.species.values)\n",
    "    X_seq=encode_seq(data.sequence.values,data.sequence.values)\n",
    "    \n",
    "    #stack columns\n",
    "    X=np.column_stack([X_species,\n",
    "                       X_hla,\n",
    "                       X_hla_loci,\n",
    "                       X_hla_sero,\n",
    "                       X_seq,\n",
    "                       data.peptide_length.values])\n",
    "    \n",
    "    #make binding class labels\n",
    "    y=np.ones(len(data.meas))\n",
    "    y[data.meas.values>=500]=0\n",
    "\n",
    "    #permute arrays as they are ordered!!!\n",
    "    rng=np.random.RandomState(42)\n",
    "    perm=rng.permutation(len(X))\n",
    "    X,y,data=X[perm],y[perm],data.iloc[perm,:]\n",
    "    \n",
    "    return X,y,data\n",
    "\n",
    "\n",
    "def one_hot_encode(x_all,x_in):\n",
    "    \"\"\"One hot encode categorical variable.\"\"\"\n",
    "    lb = LabelBinarizer()\n",
    "    lb.fit(x_all)\n",
    "    x_out=lb.transform( x_in )\n",
    "    return x_out\n",
    "\n",
    "\n",
    "def encode_seq(x_all,x_in):\n",
    "    \"\"\"Encode string amino acid sequences to numbers.\"\"\"\n",
    "    #zero pad peptids to equal length\n",
    "    maxlen=np.max(map(len,x_all))\n",
    "    x_temp_all=np.array([list(x.zfill(maxlen)) for x in x_all])\n",
    "    x_temp_in=np.array([list(x.zfill(maxlen)) for x in x_in])\n",
    "    \n",
    "    lb = LabelBinarizer()\n",
    "    lb.fit(x_temp_all.flatten())\n",
    "    x_out=np.column_stack([lb.transform(x_temp_in[:,i]) for i in range(maxlen)])\n",
    "\n",
    "    return x_out\n",
    "\n",
    "\n",
    "def encode_hla_loci(x_all,x_in):\n",
    "    \"\"\"Encode string HLA loci to numbers.\"\"\"\n",
    "    #get 1st subtype\n",
    "    new_x_all=[x.split('-')[1][0] for x in x_all]\n",
    "    new_x_in=[x.split('-')[1][0] for x in x_in]\n",
    "    \n",
    "    return one_hot_encode(new_x_all,new_x_in)\n",
    "\n",
    "\n",
    "def get_serotype(hla_type):\n",
    "    \"\"\"Parse serotype from hla type.\"\"\"\n",
    "    if len(hla_type.split('-'))<3:\n",
    "        return '0'\n",
    "    else:\n",
    "        return hla_type.split('-')[2][:2]\n",
    "\n",
    "    \n",
    "def encode_hla_sero(x_all,x_in):\n",
    "    \"\"\"Encode string HLA serotype to numbers.\"\"\"\n",
    "    #get 1st subtype\n",
    "    new_x_all=[get_serotype(x) for x in x_all]\n",
    "    new_x_in=[get_serotype(x) for x in x_in]\n",
    "    \n",
    "    return one_hot_encode(new_x_all,new_x_in)"
   ]
  },
  {
   "cell_type": "markdown",
   "metadata": {},
   "source": [
    "----\n",
    "\n",
    "\n",
    "### Cross validation scheme for both models\n"
   ]
  },
  {
   "cell_type": "code",
   "execution_count": 3,
   "metadata": {
    "collapsed": true
   },
   "outputs": [],
   "source": [
    "def cv(fitter,model_spec,X,y,n_folds=5):\n",
    "    \"\"\"Evaluate XGB model with cross validation.\"\"\"\n",
    "    #result\n",
    "    y_pred=np.zeros(len(y))\n",
    "    #loop folds\n",
    "    for train_index,test_index in KFold(len(X),n_folds=n_folds):\n",
    "        #train and predict\n",
    "        y_pred[test_index]=fitter(model_spec,X[train_index],y[train_index],X[test_index])\n",
    "    return y_pred\n",
    "\n",
    "\n",
    "def keras_fit_predict(get_model,X_train,y_train,X_test,\n",
    "                      validation_split=0.1,patience=1,nb_epoch=100,**kwargs):\n",
    "    \"\"\"Fit model on train test set with early stopping.\"\"\"\n",
    "    #get model\n",
    "    model=get_model(X_train.shape[1])\n",
    "    \n",
    "    #callbacks\n",
    "    best_model=ModelCheckpoint('best_model',save_best_only=True,verbose=2)\n",
    "    early_stop=EarlyStopping(patience=patience,verbose=2)\n",
    "    \n",
    "    #train it\n",
    "    model.fit(X_train,y_train,nb_epoch = nb_epoch,validation_split=validation_split,\n",
    "              callbacks=[best_model,early_stop],verbose=2,**kwargs)\n",
    "    \n",
    "    #load best model and predict\n",
    "    model.load_weights('best_model')\n",
    "    y_pred_test=model.predict(X_test).ravel()\n",
    "    \n",
    "    return y_pred_test\n",
    "\n",
    "def xgb_fit_predict(params,X_train,y_train,X_test,num_boost_round=5000,verbose_eval=500,\n",
    "                    early_stopping_rounds=200,validation_size=0.1):\n",
    "    \"\"\"Fit model on train test set with early stopping.\"\"\"\n",
    "    #split validation data for early stopping\n",
    "    X_train, X_valid, y_train, y_valid = train_test_split(X_train, y_train, test_size=validation_size)\n",
    "    \n",
    "    #convert to data format for xgb\n",
    "    dtrain = xgb.DMatrix( X_train, label=y_train)\n",
    "    dvalid = xgb.DMatrix( X_valid, label=y_valid)\n",
    "    dtest = xgb.DMatrix( X_test )\n",
    "    \n",
    "    #define printed evaluations\n",
    "    evallist  = [(dtrain,'train'),(dvalid,'eval')]\n",
    "\n",
    "    #lets train\n",
    "    bst = xgb.train(params,dtrain,evals=evallist,\n",
    "                    num_boost_round=num_boost_round,\n",
    "                    early_stopping_rounds=early_stopping_rounds,\n",
    "                    verbose_eval=verbose_eval)\n",
    "    \n",
    "    #make predictions\n",
    "    y_pred_test=bst.predict(dtest)\n",
    "    \n",
    "    return y_pred_test"
   ]
  },
  {
   "cell_type": "markdown",
   "metadata": {},
   "source": [
    "### Load data"
   ]
  },
  {
   "cell_type": "code",
   "execution_count": 4,
   "metadata": {
    "collapsed": false
   },
   "outputs": [],
   "source": [
    "X,y,data=load_data()"
   ]
  },
  {
   "cell_type": "markdown",
   "metadata": {},
   "source": [
    "### Train NN in a CV scheme"
   ]
  },
  {
   "cell_type": "code",
   "execution_count": 6,
   "metadata": {
    "collapsed": false,
    "scrolled": true
   },
   "outputs": [
    {
     "name": "stdout",
     "output_type": "stream",
     "text": [
      "Train on 99110 samples, validate on 11013 samples\n",
      "Epoch 1/100\n",
      "Epoch 00000: val_loss improved from inf to 0.39607, saving model to best_model\n",
      "3s - loss: 0.4648 - val_loss: 0.3961\n",
      "Epoch 2/100\n",
      "Epoch 00001: val_loss improved from 0.39607 to 0.34514, saving model to best_model\n",
      "4s - loss: 0.3698 - val_loss: 0.3451\n",
      "Epoch 3/100\n",
      "Epoch 00002: val_loss improved from 0.34514 to 0.32874, saving model to best_model\n",
      "4s - loss: 0.3304 - val_loss: 0.3287\n",
      "Epoch 4/100\n",
      "Epoch 00003: val_loss improved from 0.32874 to 0.31714, saving model to best_model\n",
      "4s - loss: 0.3084 - val_loss: 0.3171\n",
      "Epoch 5/100\n",
      "Epoch 00004: val_loss did not improve\n",
      "4s - loss: 0.2931 - val_loss: 0.3179\n",
      "Epoch 6/100\n",
      "Epoch 00005: val_loss improved from 0.31714 to 0.31598, saving model to best_model\n",
      "4s - loss: 0.2826 - val_loss: 0.3160\n",
      "Epoch 7/100\n",
      "Epoch 00006: val_loss did not improve\n",
      "5s - loss: 0.2728 - val_loss: 0.3191\n",
      "Epoch 8/100\n",
      "Epoch 00007: val_loss improved from 0.31598 to 0.31128, saving model to best_model\n",
      "5s - loss: 0.2658 - val_loss: 0.3113\n",
      "Epoch 9/100\n",
      "Epoch 00008: val_loss did not improve\n",
      "5s - loss: 0.2591 - val_loss: 0.3143\n",
      "Epoch 10/100\n",
      "Epoch 00009: val_loss did not improve\n",
      "Epoch 00009: early stopping\n",
      "5s - loss: 0.2536 - val_loss: 0.3168\n",
      "Train on 99110 samples, validate on 11013 samples\n",
      "Epoch 1/100\n",
      "Epoch 00000: val_loss improved from inf to 0.38777, saving model to best_model\n",
      "4s - loss: 0.4609 - val_loss: 0.3878\n",
      "Epoch 2/100\n",
      "Epoch 00001: val_loss improved from 0.38777 to 0.34264, saving model to best_model\n",
      "4s - loss: 0.3657 - val_loss: 0.3426\n",
      "Epoch 3/100\n",
      "Epoch 00002: val_loss improved from 0.34264 to 0.32493, saving model to best_model\n",
      "4s - loss: 0.3278 - val_loss: 0.3249\n",
      "Epoch 4/100\n",
      "Epoch 00003: val_loss improved from 0.32493 to 0.32214, saving model to best_model\n",
      "4s - loss: 0.3055 - val_loss: 0.3221\n",
      "Epoch 5/100\n",
      "Epoch 00004: val_loss improved from 0.32214 to 0.31739, saving model to best_model\n",
      "4s - loss: 0.2903 - val_loss: 0.3174\n",
      "Epoch 6/100\n",
      "Epoch 00005: val_loss improved from 0.31739 to 0.30626, saving model to best_model\n",
      "5s - loss: 0.2796 - val_loss: 0.3063\n",
      "Epoch 7/100\n",
      "Epoch 00006: val_loss did not improve\n",
      "5s - loss: 0.2702 - val_loss: 0.3139\n",
      "Epoch 8/100\n",
      "Epoch 00007: val_loss did not improve\n",
      "Epoch 00007: early stopping\n",
      "5s - loss: 0.2634 - val_loss: 0.3131\n",
      "Train on 99110 samples, validate on 11013 samples\n",
      "Epoch 1/100\n",
      "Epoch 00000: val_loss improved from inf to 0.40027, saving model to best_model\n",
      "3s - loss: 0.4645 - val_loss: 0.4003\n",
      "Epoch 2/100\n",
      "Epoch 00001: val_loss improved from 0.40027 to 0.35387, saving model to best_model\n",
      "4s - loss: 0.3709 - val_loss: 0.3539\n",
      "Epoch 3/100\n",
      "Epoch 00002: val_loss improved from 0.35387 to 0.32946, saving model to best_model\n",
      "4s - loss: 0.3304 - val_loss: 0.3295\n",
      "Epoch 4/100\n",
      "Epoch 00003: val_loss improved from 0.32946 to 0.31826, saving model to best_model\n",
      "4s - loss: 0.3088 - val_loss: 0.3183\n",
      "Epoch 5/100\n",
      "Epoch 00004: val_loss improved from 0.31826 to 0.31256, saving model to best_model\n",
      "4s - loss: 0.2942 - val_loss: 0.3126\n",
      "Epoch 6/100\n",
      "Epoch 00005: val_loss did not improve\n",
      "4s - loss: 0.2839 - val_loss: 0.3161\n",
      "Epoch 7/100\n",
      "Epoch 00006: val_loss improved from 0.31256 to 0.31050, saving model to best_model\n",
      "4s - loss: 0.2763 - val_loss: 0.3105\n",
      "Epoch 8/100\n",
      "Epoch 00007: val_loss improved from 0.31050 to 0.30973, saving model to best_model\n",
      "4s - loss: 0.2695 - val_loss: 0.3097\n",
      "Epoch 9/100\n",
      "Epoch 00008: val_loss did not improve\n",
      "4s - loss: 0.2642 - val_loss: 0.3214\n",
      "Epoch 10/100\n",
      "Epoch 00009: val_loss did not improve\n",
      "Epoch 00009: early stopping\n",
      "4s - loss: 0.2593 - val_loss: 0.3238\n",
      "Train on 99110 samples, validate on 11013 samples\n",
      "Epoch 1/100\n",
      "Epoch 00000: val_loss improved from inf to 0.38702, saving model to best_model\n",
      "3s - loss: 0.4570 - val_loss: 0.3870\n",
      "Epoch 2/100\n",
      "Epoch 00001: val_loss improved from 0.38702 to 0.34378, saving model to best_model\n",
      "4s - loss: 0.3620 - val_loss: 0.3438\n",
      "Epoch 3/100\n",
      "Epoch 00002: val_loss improved from 0.34378 to 0.32738, saving model to best_model\n",
      "4s - loss: 0.3238 - val_loss: 0.3274\n",
      "Epoch 4/100\n",
      "Epoch 00003: val_loss improved from 0.32738 to 0.31879, saving model to best_model\n",
      "4s - loss: 0.3010 - val_loss: 0.3188\n",
      "Epoch 5/100\n",
      "Epoch 00004: val_loss improved from 0.31879 to 0.31247, saving model to best_model\n",
      "4s - loss: 0.2855 - val_loss: 0.3125\n",
      "Epoch 6/100\n",
      "Epoch 00005: val_loss did not improve\n",
      "4s - loss: 0.2741 - val_loss: 0.3161\n",
      "Epoch 7/100\n",
      "Epoch 00006: val_loss did not improve\n",
      "Epoch 00006: early stopping\n",
      "4s - loss: 0.2653 - val_loss: 0.3231\n",
      "Train on 99111 samples, validate on 11013 samples\n",
      "Epoch 1/100\n",
      "Epoch 00000: val_loss improved from inf to 0.39885, saving model to best_model\n",
      "3s - loss: 0.4628 - val_loss: 0.3988\n",
      "Epoch 2/100\n",
      "Epoch 00001: val_loss improved from 0.39885 to 0.36948, saving model to best_model\n",
      "4s - loss: 0.3683 - val_loss: 0.3695\n",
      "Epoch 3/100\n",
      "Epoch 00002: val_loss improved from 0.36948 to 0.33251, saving model to best_model\n",
      "4s - loss: 0.3294 - val_loss: 0.3325\n",
      "Epoch 4/100\n",
      "Epoch 00003: val_loss improved from 0.33251 to 0.32651, saving model to best_model\n",
      "4s - loss: 0.3080 - val_loss: 0.3265\n",
      "Epoch 5/100\n",
      "Epoch 00004: val_loss improved from 0.32651 to 0.31917, saving model to best_model\n",
      "4s - loss: 0.2924 - val_loss: 0.3192\n",
      "Epoch 6/100\n",
      "Epoch 00005: val_loss improved from 0.31917 to 0.31741, saving model to best_model\n",
      "4s - loss: 0.2814 - val_loss: 0.3174\n",
      "Epoch 7/100\n",
      "Epoch 00006: val_loss improved from 0.31741 to 0.31328, saving model to best_model\n",
      "4s - loss: 0.2718 - val_loss: 0.3133\n",
      "Epoch 8/100\n",
      "Epoch 00007: val_loss did not improve\n",
      "4s - loss: 0.2639 - val_loss: 0.3139\n",
      "Epoch 9/100\n",
      "Epoch 00008: val_loss did not improve\n",
      "Epoch 00008: early stopping\n",
      "4s - loss: 0.2579 - val_loss: 0.3268\n"
     ]
    }
   ],
   "source": [
    "#create a very simple NN model\n",
    "def get_model(input_dim,n_dense=60):\n",
    "    \"\"\"Creates Keras model.\"\"\"\n",
    "    model = Sequential()\n",
    "    model.add(Dense(n_dense, input_dim=input_dim,activation='relu'))\n",
    "    model.add(Dense(1,activation='sigmoid'))\n",
    "    model.compile(loss='binary_crossentropy', optimizer='adam')\n",
    "    return model\n",
    "\n",
    "nn_cv_pred=cv(keras_fit_predict,get_model,X,y)"
   ]
  },
  {
   "cell_type": "markdown",
   "metadata": {},
   "source": [
    "### Train gradient boosted trees in a CV scheme"
   ]
  },
  {
   "cell_type": "code",
   "execution_count": 7,
   "metadata": {
    "collapsed": false,
    "scrolled": false
   },
   "outputs": [
    {
     "name": "stderr",
     "output_type": "stream",
     "text": [
      "Will train until eval error hasn't decreased in 200 rounds.\n",
      "[0]\ttrain-auc:0.863171\teval-auc:0.804785\n",
      "[500]\ttrain-auc:0.999788\teval-auc:0.926554\n",
      "[1000]\ttrain-auc:0.999997\teval-auc:0.928410\n",
      "Stopping. Best iteration:\n",
      "[1157]\ttrain-auc:0.999999\teval-auc:0.928702\n",
      "\n",
      "Will train until eval error hasn't decreased in 200 rounds.\n",
      "[0]\ttrain-auc:0.859694\teval-auc:0.804840\n",
      "[500]\ttrain-auc:0.999760\teval-auc:0.927637\n",
      "[1000]\ttrain-auc:0.999996\teval-auc:0.929198\n",
      "[1500]\ttrain-auc:1.000000\teval-auc:0.929965\n",
      "[2000]\ttrain-auc:1.000000\teval-auc:0.930620\n",
      "[2500]\ttrain-auc:1.000000\teval-auc:0.930831\n",
      "Stopping. Best iteration:\n",
      "[2552]\ttrain-auc:1.000000\teval-auc:0.930874\n",
      "\n",
      "Will train until eval error hasn't decreased in 200 rounds.\n",
      "[0]\ttrain-auc:0.865155\teval-auc:0.813204\n",
      "[500]\ttrain-auc:0.999813\teval-auc:0.929347\n",
      "[1000]\ttrain-auc:0.999997\teval-auc:0.931320\n",
      "[1500]\ttrain-auc:1.000000\teval-auc:0.932121\n",
      "[2000]\ttrain-auc:1.000000\teval-auc:0.932388\n",
      "Stopping. Best iteration:\n",
      "[2277]\ttrain-auc:1.000000\teval-auc:0.932596\n",
      "\n",
      "Will train until eval error hasn't decreased in 200 rounds.\n",
      "[0]\ttrain-auc:0.855307\teval-auc:0.810713\n",
      "[500]\ttrain-auc:0.999773\teval-auc:0.930770\n",
      "Stopping. Best iteration:\n",
      "[650]\ttrain-auc:0.999945\teval-auc:0.931265\n",
      "\n",
      "Will train until eval error hasn't decreased in 200 rounds.\n",
      "[0]\ttrain-auc:0.864441\teval-auc:0.816248\n",
      "[500]\ttrain-auc:0.999809\teval-auc:0.931818\n",
      "[1000]\ttrain-auc:0.999998\teval-auc:0.932887\n",
      "Stopping. Best iteration:\n",
      "[1182]\ttrain-auc:1.000000\teval-auc:0.933088\n",
      "\n"
     ]
    }
   ],
   "source": [
    "#model params\n",
    "params = {'max_depth':20,\n",
    "         'eta':0.1,\n",
    "         'min_child_weight':1,\n",
    "         'colsample_bytree':1,\n",
    "         'subsample':1,\n",
    "         'silent':1,\n",
    "         'objective': \"binary:logistic\",\n",
    "         'eval_metric': 'auc',\n",
    "         'nthread':4}\n",
    "\n",
    "xgb_cv_pred=cv(xgb_fit_predict,params,X,y)"
   ]
  },
  {
   "cell_type": "markdown",
   "metadata": {},
   "source": [
    "### Create a stacked ensemble of my NN and boosted tree models"
   ]
  },
  {
   "cell_type": "code",
   "execution_count": 8,
   "metadata": {
    "collapsed": false,
    "scrolled": true
   },
   "outputs": [
    {
     "name": "stderr",
     "output_type": "stream",
     "text": [
      "Will train until eval error hasn't decreased in 200 rounds.\n",
      "[0]\ttrain-auc:0.904583\teval-auc:0.909182\n",
      "[500]\ttrain-auc:0.938570\teval-auc:0.937247\n",
      "Stopping. Best iteration:\n",
      "[351]\ttrain-auc:0.938026\teval-auc:0.937280\n",
      "\n",
      "Will train until eval error hasn't decreased in 200 rounds.\n",
      "[0]\ttrain-auc:0.903586\teval-auc:0.900045\n",
      "[500]\ttrain-auc:0.938660\teval-auc:0.935086\n",
      "Stopping. Best iteration:\n",
      "[488]\ttrain-auc:0.938617\teval-auc:0.935116\n",
      "\n",
      "Will train until eval error hasn't decreased in 200 rounds.\n",
      "[0]\ttrain-auc:0.904613\teval-auc:0.906982\n",
      "Stopping. Best iteration:\n",
      "[95]\ttrain-auc:0.936481\teval-auc:0.939098\n",
      "\n",
      "Will train until eval error hasn't decreased in 200 rounds.\n",
      "[0]\ttrain-auc:0.906612\teval-auc:0.901920\n",
      "Stopping. Best iteration:\n",
      "[101]\ttrain-auc:0.938352\teval-auc:0.932871\n",
      "\n",
      "Will train until eval error hasn't decreased in 200 rounds.\n",
      "[0]\ttrain-auc:0.904097\teval-auc:0.905514\n",
      "Stopping. Best iteration:\n",
      "[73]\ttrain-auc:0.936748\teval-auc:0.937394\n",
      "\n"
     ]
    }
   ],
   "source": [
    "#create stacked input\n",
    "X_stacked=np.column_stack([X,xgb_cv_pred,nn_cv_pred])\n",
    "\n",
    "#new params\n",
    "params = {'max_depth':2,\n",
    "         'eta':0.1,\n",
    "         'min_child_weight':1,\n",
    "         'colsample_bytree':1,\n",
    "         'subsample':1,\n",
    "         'silent':1,\n",
    "         'objective': \"binary:logistic\",\n",
    "         'eval_metric': 'auc',\n",
    "         'nthread':8}\n",
    "\n",
    "stacked_cv_pred=cv(xgb_fit_predict,params,X_stacked,y)"
   ]
  },
  {
   "cell_type": "markdown",
   "metadata": {},
   "source": [
    "### Load NetMHCpan predictions"
   ]
  },
  {
   "cell_type": "code",
   "execution_count": 20,
   "metadata": {
    "collapsed": true
   },
   "outputs": [],
   "source": [
    "def all_from_fname(fname):\n",
    "    \"\"\"Get allele from the filename\"\"\"\n",
    "    # a bit convoluted naming\n",
    "    return '_'.join(os.path.basename(fname).split('rnd.')[-1].split('.')[0].split('-')[:-1])\n",
    "\n",
    "def load_allele_table(fname,allele):\n",
    "    \"\"\"Load a result table and annotate with allele\"\"\"\n",
    "    #note they are .xls but csv files...\n",
    "    tmp_table=pd.read_csv(fname,sep='\\t')\n",
    "    tmp_table['mhc']=allele.replace('_','-')\n",
    "    tmp_table['peptide_length']=[len(x) for x in tmp_table.sequence]\n",
    "    tmp_table['label']=(tmp_table.meas <= np.log10(500)).astype('int')\n",
    "    return tmp_table\n",
    "\n",
    "def load_all_tables(path):\n",
    "    \"\"\"Load all tables in directory and concat them into one big table\"\"\"\n",
    "    return pd.concat([load_allele_table(f,all_from_fname(f)) for f in glob.glob(path)])"
   ]
  },
  {
   "cell_type": "code",
   "execution_count": 26,
   "metadata": {
    "collapsed": true
   },
   "outputs": [],
   "source": [
    "X,y,data=load_data()"
   ]
  },
  {
   "cell_type": "code",
   "execution_count": 23,
   "metadata": {
    "collapsed": true
   },
   "outputs": [],
   "source": [
    "#load cv tables\n",
    "netmhc_cv_res=load_all_tables('benchmark_mhci_reliability/predictions/cv_rnd/netmhcpan/*')"
   ]
  },
  {
   "cell_type": "markdown",
   "metadata": {},
   "source": [
    "### Evaluate all models"
   ]
  },
  {
   "cell_type": "code",
   "execution_count": 27,
   "metadata": {
    "collapsed": false
   },
   "outputs": [
    {
     "name": "stdout",
     "output_type": "stream",
     "text": [
      "NN AUC: 0.916893194225\n",
      "XGB AUC: 0.930656324048\n",
      "Ensemble AUC: 0.936060008658\n",
      "\n",
      "NetMHCpan AUC: 0.937599369962\n"
     ]
    }
   ],
   "source": [
    "data['nn_pred']=nn_cv_pred\n",
    "data['xgb_pred']=xgb_cv_pred\n",
    "data['stacked_pred']=stacked_cv_pred\n",
    "data['label']=y\n",
    "\n",
    "#the netmhc predictions is only a subset of all data (3k missing)\n",
    "# so only use the subset here\n",
    "data=data.merge(netmhc_cv_res[['sequence','mhc']],on=['sequence','mhc'])\n",
    "\n",
    "print \"NN AUC:\",roc_auc_score(data.label,data.nn_pred)\n",
    "print \"XGB AUC:\",roc_auc_score(data.label,data.xgb_pred)\n",
    "print \"Ensemble AUC:\",roc_auc_score(data.label,data.stacked_pred)\n",
    "print\n",
    "print \"NetMHCpan AUC:\", roc_auc_score(netmhc_cv_res.label,-netmhc_cv_res.pred)"
   ]
  },
  {
   "cell_type": "markdown",
   "metadata": {},
   "source": [
    "----\n",
    "\n",
    "### Aggregate results by alleles"
   ]
  },
  {
   "cell_type": "code",
   "execution_count": 28,
   "metadata": {
    "collapsed": true
   },
   "outputs": [],
   "source": [
    "\"\"\"\n",
    "A bit convoluted way to aggregate in pandas dataframes on multiple columns with different column names,\n",
    "but now it will be okay. I will look into this later maybe.\n",
    "\"\"\"\n",
    "\n",
    "def agg_auc_nn(group):\n",
    "    return agg_auc(group,'nn_pred')\n",
    "\n",
    "def agg_auc_xgb(group):\n",
    "    return agg_auc(group,'xgb_pred')\n",
    "\n",
    "def agg_auc_stacked(group):\n",
    "    return agg_auc(group,'stacked_pred')\n",
    "\n",
    "def agg_auc_netmhc(group):\n",
    "    y = group['label'].values\n",
    "    pred = -group['pred'].values\n",
    "    \n",
    "    if len(np.unique(y))==1:\n",
    "        return 1\n",
    "    else:\n",
    "        return roc_auc_score(y,pred)\n",
    "\n",
    "def agg_auc(group,col):\n",
    "    y = group['label'].values\n",
    "    pred = group[col].values\n",
    "    \n",
    "    if len(np.unique(y))==1:\n",
    "        return 1\n",
    "    else:\n",
    "        return roc_auc_score(y,pred)"
   ]
  },
  {
   "cell_type": "code",
   "execution_count": 29,
   "metadata": {
    "collapsed": false
   },
   "outputs": [],
   "source": [
    "## aggregate\n",
    "grouped=data.groupby('mhc',as_index=False)\n",
    "\n",
    "all_auc_df=grouped.agg(agg_auc_nn)[['mhc']]\n",
    "all_auc_df['counts']=grouped['mhc'].size().values\n",
    "all_auc_df['nn_auc']=grouped.agg(agg_auc_nn)[['cv']]\n",
    "all_auc_df['xgb_auc']=grouped.agg(agg_auc_xgb)[['cv']]\n",
    "all_auc_df['stacked_auc']=grouped.agg(agg_auc_stacked)[['cv']]\n",
    "\n",
    "netmhc_cv_res['netmhc_auc']=0\n",
    "netmhc_auc=netmhc_cv_res.groupby('mhc',as_index=False).agg(agg_auc_netmhc)[['mhc','netmhc_auc']]\n",
    "\n",
    "#merge results to one dataframe\n",
    "all_auc=netmhc_auc.merge(all_auc_df,on='mhc')"
   ]
  },
  {
   "cell_type": "code",
   "execution_count": 72,
   "metadata": {
    "collapsed": false,
    "scrolled": false
   },
   "outputs": [
    {
     "data": {
      "text/plain": [
       "<matplotlib.text.Text at 0x7f83934b2790>"
      ]
     },
     "execution_count": 72,
     "metadata": {},
     "output_type": "execute_result"
    },
    {
     "data": {
      "image/png": "[encoded data removed]",
      "text/plain": [
       "<matplotlib.figure.Figure at 0x7f839852d390>"
      ]
     },
     "metadata": {},
     "output_type": "display_data"
    }
   ],
   "source": [
    "fig=plt.figure(figsize=(9,64))\n",
    "tmp=pd.melt(all_auc, id_vars=['mhc','counts'])\n",
    "sns.barplot(data=tmp,x='value',y='mhc',hue='variable')\n",
    "plt.xlim(xmax=1.3)\n",
    "plt.ylabel('HLA allele')\n",
    "plt.xlabel('AUC score')"
   ]
  },
  {
   "cell_type": "code",
   "execution_count": 80,
   "metadata": {
    "collapsed": false
   },
   "outputs": [
    {
     "data": {
      "text/html": [
       "<div>\n",
       "<table border=\"1\" class=\"dataframe\">\n",
       "  <thead>\n",
       "    <tr style=\"text-align: right;\">\n",
       "      <th></th>\n",
       "      <th>mhc</th>\n",
       "      <th>netmhc_auc</th>\n",
       "      <th>counts</th>\n",
       "      <th>nn_auc</th>\n",
       "      <th>xgb_auc</th>\n",
       "      <th>stacked_auc</th>\n",
       "    </tr>\n",
       "  </thead>\n",
       "  <tbody>\n",
       "    <tr>\n",
       "      <th>48</th>\n",
       "      <td>HLA-B-3801</td>\n",
       "      <td>0.984962</td>\n",
       "      <td>136</td>\n",
       "      <td>0.085213</td>\n",
       "      <td>0.298246</td>\n",
       "      <td>0.070175</td>\n",
       "    </tr>\n",
       "  </tbody>\n",
       "</table>\n",
       "</div>"
      ],
      "text/plain": [
       "           mhc  netmhc_auc  counts    nn_auc   xgb_auc  stacked_auc\n",
       "48  HLA-B-3801    0.984962     136  0.085213  0.298246     0.070175"
      ]
     },
     "execution_count": 80,
     "metadata": {},
     "output_type": "execute_result"
    }
   ],
   "source": [
    "# there is one allele when my models have completely failed, but mhcpan is very good\n",
    "all_auc[all_auc.mhc=='HLA-B-3801']"
   ]
  },
  {
   "cell_type": "markdown",
   "metadata": {},
   "source": [
    "----\n",
    "\n",
    "\n",
    "### Aggregate results by peptide length"
   ]
  },
  {
   "cell_type": "code",
   "execution_count": 36,
   "metadata": {
    "collapsed": false
   },
   "outputs": [],
   "source": [
    "grouped=data.groupby('peptide_length',as_index=False)\n",
    "\n",
    "len_auc_df=grouped.agg(agg_auc_nn)[['peptide_length']]\n",
    "len_auc_df['counts']=grouped['peptide_length'].size().values\n",
    "len_auc_df['nn_auc']=grouped.agg(agg_auc_nn)[['cv']]\n",
    "len_auc_df['xgb_auc']=grouped.agg(agg_auc_xgb)[['cv']]\n",
    "len_auc_df['stacked_auc']=grouped.agg(agg_auc_stacked)[['cv']]\n",
    "\n",
    "\n",
    "netmhc_auc=netmhc_cv_res.groupby('peptide_length',as_index=False).agg(agg_auc_netmhc)[['peptide_length','netmhc_auc']]\n",
    "\n",
    "#merge results to one dataframe\n",
    "len_auc=netmhc_auc.merge(len_auc_df,on='peptide_length')"
   ]
  },
  {
   "cell_type": "code",
   "execution_count": 37,
   "metadata": {
    "collapsed": false
   },
   "outputs": [
    {
     "data": {
      "text/html": [
       "<div>\n",
       "<table border=\"1\" class=\"dataframe\">\n",
       "  <thead>\n",
       "    <tr style=\"text-align: right;\">\n",
       "      <th></th>\n",
       "      <th>peptide_length</th>\n",
       "      <th>netmhc_auc</th>\n",
       "      <th>counts</th>\n",
       "      <th>nn_auc</th>\n",
       "      <th>xgb_auc</th>\n",
       "      <th>stacked_auc</th>\n",
       "    </tr>\n",
       "  </thead>\n",
       "  <tbody>\n",
       "    <tr>\n",
       "      <th>0</th>\n",
       "      <td>8</td>\n",
       "      <td>0.891307</td>\n",
       "      <td>4943</td>\n",
       "      <td>0.881197</td>\n",
       "      <td>0.905514</td>\n",
       "      <td>0.906166</td>\n",
       "    </tr>\n",
       "    <tr>\n",
       "      <th>1</th>\n",
       "      <td>9</td>\n",
       "      <td>0.951734</td>\n",
       "      <td>99700</td>\n",
       "      <td>0.932491</td>\n",
       "      <td>0.942428</td>\n",
       "      <td>0.947414</td>\n",
       "    </tr>\n",
       "    <tr>\n",
       "      <th>2</th>\n",
       "      <td>10</td>\n",
       "      <td>0.891497</td>\n",
       "      <td>26954</td>\n",
       "      <td>0.863587</td>\n",
       "      <td>0.892801</td>\n",
       "      <td>0.897429</td>\n",
       "    </tr>\n",
       "    <tr>\n",
       "      <th>3</th>\n",
       "      <td>11</td>\n",
       "      <td>0.873929</td>\n",
       "      <td>2950</td>\n",
       "      <td>0.840687</td>\n",
       "      <td>0.872275</td>\n",
       "      <td>0.872340</td>\n",
       "    </tr>\n",
       "    <tr>\n",
       "      <th>4</th>\n",
       "      <td>12</td>\n",
       "      <td>0.709414</td>\n",
       "      <td>90</td>\n",
       "      <td>0.670126</td>\n",
       "      <td>0.740549</td>\n",
       "      <td>0.730170</td>\n",
       "    </tr>\n",
       "  </tbody>\n",
       "</table>\n",
       "</div>"
      ],
      "text/plain": [
       "   peptide_length  netmhc_auc  counts    nn_auc   xgb_auc  stacked_auc\n",
       "0               8    0.891307    4943  0.881197  0.905514     0.906166\n",
       "1               9    0.951734   99700  0.932491  0.942428     0.947414\n",
       "2              10    0.891497   26954  0.863587  0.892801     0.897429\n",
       "3              11    0.873929    2950  0.840687  0.872275     0.872340\n",
       "4              12    0.709414      90  0.670126  0.740549     0.730170"
      ]
     },
     "execution_count": 37,
     "metadata": {},
     "output_type": "execute_result"
    }
   ],
   "source": [
    "len_auc"
   ]
  },
  {
   "cell_type": "code",
   "execution_count": 79,
   "metadata": {
    "collapsed": false
   },
   "outputs": [
    {
     "data": {
      "text/plain": [
       "<matplotlib.text.Text at 0x7f83913e1450>"
      ]
     },
     "execution_count": 79,
     "metadata": {},
     "output_type": "execute_result"
    },
    {
     "data": {
      "image/png": "[encoded data removed]",
      "text/plain": [
       "<matplotlib.figure.Figure at 0x7f83915a8a90>"
      ]
     },
     "metadata": {},
     "output_type": "display_data"
    }
   ],
   "source": [
    "fig=plt.figure(figsize=(12,6))\n",
    "temp=pd.melt(len_auc,id_vars=['peptide_length','counts'])\n",
    "sns.barplot(data=temp,x='peptide_length',y='value',hue='variable')\n",
    "plt.ylim(0.5,1)\n",
    "plt.ylabel('AUC')\n",
    "plt.xlabel('peptide length')"
   ]
  }
 ],
 "metadata": {
  "kernelspec": {
   "display_name": "Python 2",
   "language": "python",
   "name": "python2"
  },
  "language_info": {
   "codemirror_mode": {
    "name": "ipython",
    "version": 2
   },
   "file_extension": ".py",
   "mimetype": "text/x-python",
   "name": "python",
   "nbconvert_exporter": "python",
   "pygments_lexer": "ipython2",
   "version": "2.7.12"
  }
 },
 "nbformat": 4,
 "nbformat_minor": 0
}
