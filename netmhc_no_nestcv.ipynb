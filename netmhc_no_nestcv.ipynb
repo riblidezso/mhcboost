{
 "cells": [
  {
   "cell_type": "markdown",
   "metadata": {},
   "source": [
    "# Comparing the performance of Neural networks and Gradient boosted trees  , and a stacked ensemble of both in MHC class I binding prediction\n",
    "\n",
    "\n",
    "---\n",
    "### Background\n",
    "\n",
    "The prediction of MHC peptide binding is an important problem in immunology. Data driven methods give best performance for this task because of complexity of the MHC molecules and the binding process. The most successful machine learning models are Artificial Neural Networks in this area.  I have seen articles describing SVM models, but nobody has tried gradient boosted trees (as far as I know).\n",
    "\n",
    "\n",
    "In the last years a lot of Data Science competitions were won with a framework called Gradient Boosted Trees, especially and implementtion called XGBoost. These models very frequently outperform neural networks in general machine learning tasks. \n",
    "\n",
    "These facts gave me the idea to compare the perfomance of  Neural networks  and Gradient boosted trees and in MHC class I peptide binding prediction.\n",
    "\n",
    "Neural networks and Gradient boosted trees are very different models, therefore ensembling them can give another boost to performance.\n",
    "\n",
    "\n",
    "----\n",
    "### Data\n",
    "\n",
    "#### Source\n",
    "I have downloaded MHC class I peptide binding data which has been used in this benchmark article ( http://www.ncbi.nlm.nih.gov/pubmed/25017736)  from the IEDB website.\n",
    "\n",
    "\n",
    "#### Encoding \n",
    "\n",
    "Input data is very simply coded as the folowing:\n",
    "- zero padded sequences to the longest peptide length\n",
    "    - state of the art models use more sophisticated prediction on different length peptides, but for demonstration purpose I didn't want to recreate those.\n",
    "- amino acids are encoded in a one hot scheme, or Blosum encoding\n",
    "- original peptide lengths are included\n",
    "\n",
    "#### Target \n",
    "\n",
    "I predict IC50 binding data transformed as the following (from netmhc articles):\n",
    "\n",
    "$y = 1 - \\log_{10}(IC50)/ \\log_{10}(50000)$\n",
    "\n",
    "\n",
    "---\n",
    "\n",
    "### Models\n",
    "\n",
    "#### Neural network\n",
    "\n",
    "I use a neural network architecture similar to the one used in NetMHC.\n",
    "- 1 hidden layer\n",
    "- 5 units in the hidden layer\n",
    "- tanh activations for hidden layer, sigmoid for the final layer, these are only guesses I have found no description of activation in NetMHC arrticles.\n",
    "\n",
    "I use the Keras library. http://keras.io\n",
    "\n",
    "\n",
    "#### Gradient boosted trees\n",
    "Some resources about the model:\n",
    "- http://xgboost.readthedocs.org/en/latest/model.html\n",
    "- http://homes.cs.washington.edu/~tqchen/pdf/BoostedTree.pdf\n",
    "    \n",
    "I used the XGBoost software library. http://xgboost.readthedocs.org/en/latest/\n",
    "\n",
    "\n",
    "#### Ensembling\n",
    "\n",
    "I simply used the mean of different predictions, as described in several NetMHC articles.\n",
    "\n",
    "---\n",
    "\n",
    "### Methods\n",
    "\n",
    "\n",
    "I have done nested 5-fold cross validation evaluations. All models use early stopping on validation data. Validation data is a random10% subset of the 4 folds of traning data.\n",
    "\n",
    "The folds used were defined in the benchmark article as the group similarity (cv_gs) folds.\n",
    "\n",
    "\n",
    "\n",
    "--- \n",
    "\n",
    "### Conclusions\n",
    "\n",
    "\n",
    "The Gradient Boosted Trees outperforms Neural Networks. The ensemble of these 2 models adds a further improvement.\n",
    "\n",
    "Note that my NN ensemble perform significantly worse than NetMHC. It can be because of the treatment of different peptide lengths, or other differences between the my ensemble and NetMHC. I'm not sure about this.\n",
    "\n",
    "\n",
    "---\n",
    "\n",
    "\n",
    "### Future Work\n",
    "\n",
    "#### Adding Gradient Boosted trees to the NetMHC ensemble\n",
    "\n",
    "I think adding Gradient Boosted trees to the NetMHC ensemble could further imporove its peforance as demonstrated in the notebook.\n",
    "\n",
    "\n",
    "#### Further ideas for improvement:\n",
    "\n",
    "- Hypterparameter optimization for xgb\n",
    "- Sophisticated handling of different length peptides, see literature.\n",
    "- Different NN architectures for alleles with different number of training data available.\n",
    "- Get the MHC pseudosequence data and repeat the comparison with netmhcpan.\n",
    "- (More realistic random peptides.)\n",
    "\n",
    "\n",
    "\n",
    "\n",
    "----\n",
    "#### Notes\n",
    "\n",
    "- To run this notebook you need to \n",
    "    - download the dataset\n",
    "    - and have keras,theno,xgboost,sklearn,pandas,numpy installed\n",
    "    - see the docker image for a ready enviroment\n",
    "    \n",
    "    \n",
    "    \n",
    "- This notebook can be run as it is. Just click run all. \n",
    "    - It takes some time but on a stronger computer it should be less than 30 minutes.\n",
    "    \n",
    "- It takes several hours to run this notebook!\n",
    "\n",
    "\n",
    "----\n",
    "\n",
    "\n",
    "This notebook was created by Dezso Ribli"
   ]
  },
  {
   "cell_type": "markdown",
   "metadata": {},
   "source": [
    "### Load modules"
   ]
  },
  {
   "cell_type": "code",
   "execution_count": 1,
   "metadata": {
    "collapsed": false
   },
   "outputs": [
    {
     "name": "stderr",
     "output_type": "stream",
     "text": [
      "Using Theano backend.\n"
     ]
    }
   ],
   "source": [
    "import numpy as np\n",
    "import pandas as pd\n",
    "from sklearn.preprocessing import LabelBinarizer\n",
    "from sklearn.cross_validation import KFold\n",
    "from sklearn.cross_validation import train_test_split\n",
    "import xgboost as xgb\n",
    "from keras.callbacks import ModelCheckpoint,EarlyStopping\n",
    "from keras.models import Sequential\n",
    "from keras.layers import Dense\n",
    "from sklearn.metrics import roc_auc_score\n",
    "import glob\n",
    "import matplotlib.pyplot as plt\n",
    "import seaborn as sns\n",
    "%matplotlib inline\n",
    "\n",
    "#go to working dir\n",
    "import os"
   ]
  },
  {
   "cell_type": "markdown",
   "metadata": {},
   "source": [
    "### Data Loader functions"
   ]
  },
  {
   "cell_type": "code",
   "execution_count": 2,
   "metadata": {
    "collapsed": false
   },
   "outputs": [],
   "source": [
    "def load_data(blosum=False):\n",
    "    \"\"\"Load train/blind test data as in the benchmark.\"\"\"\n",
    "    #load the cross validation data\n",
    "    dataf='input/benchmark_mhci_reliability/binding/bd2009.1/bdata.2009.mhci.public.1.cv_gs.txt'\n",
    "    data=pd.read_csv(dataf,sep='\\t')\n",
    "    \n",
    "    #select only with length 8-12, anyway only those will be evauated\n",
    "    data=data[(data.peptide_length >=8) & (data.peptide_length <12)]\n",
    "     \n",
    "    #encode amino acids\n",
    "    X_seq=encode_seq(data.sequence.values,data.sequence.values,blosum)\n",
    "    \n",
    "    #stack columns\n",
    "    X=np.column_stack([X_seq,data.peptide_length.values])\n",
    "    \n",
    "    #make target variable\n",
    "    y = 1 - np.log10(data.meas)/np.log10(50000)\n",
    "    data['meas_tf']= y\n",
    "    \n",
    "    #make a label target in the dataframe for binding\n",
    "    label=np.ones(len(data.meas))\n",
    "    label[data.meas.values>=500]=0\n",
    "    data['label']=label\n",
    "\n",
    "    #permute arrays\n",
    "    rng=np.random.RandomState(42)\n",
    "    perm=rng.permutation(len(X))\n",
    "    X,y,data=X[perm],y[perm],data.iloc[perm,:].reset_index(drop=True)\n",
    "    \n",
    "    return X,y,data\n",
    "\n",
    "\n",
    "def encode_seq(x_all,x_in,blosum):\n",
    "    \"\"\"Encode string amino acid sequences to numbers.\"\"\"\n",
    "    if blosum:\n",
    "        return encode_seq_blosum(x_all,x_in)\n",
    "    else:\n",
    "        return encode_seq_one_hot(x_all,x_in)\n",
    "\n",
    "def encode_seq_one_hot(x_all,x_in):\n",
    "    \"\"\"Encode string amino acid sequences to numbers with one hot encoding.\"\"\"\n",
    "    #zero pad peptids to equal length\n",
    "    x_temp_all=np.array([list(x.zfill(11)) for x in x_all])\n",
    "    x_temp_in=np.array([list(x.zfill(11)) for x in x_in])\n",
    "    \n",
    "    lb = LabelBinarizer()\n",
    "    lb.fit(x_temp_all.flatten())\n",
    "    x_out=np.column_stack([lb.transform(x_temp_in[:,i]) for i in range(11)])\n",
    "\n",
    "    return x_out\n",
    "\n",
    "def encode_seq_blosum(x_all,x_in):\n",
    "    \"\"\"Encode string amino acid sequences to numbers with blosum encoding.\"\"\"\n",
    "    #zero pad peptids to equal length\n",
    "    maxlen=np.max(map(len,x_all))\n",
    "    x_temp_all=np.array([list(x.zfill(11)) for x in x_all])\n",
    "    x_temp_in=np.array([list(x.zfill(11)) for x in x_in])\n",
    "\n",
    "    blosum62 = pd.read_csv('input/BLOSUM62.txt',header=None,skiprows=7,delim_whitespace=True,index_col=0)\n",
    "    blosum_dict=blosum62.transpose().to_dict(orient='list')\n",
    "    blosum_dict['0']=blosum_dict['*']\n",
    "    \n",
    "    #transform\n",
    "    x_out=np.column_stack([[blosum_dict[x_temp_in[i,j]] for i in xrange(len(x_in)) ] for j in range(11)])\n",
    "\n",
    "    return x_out\n",
    "\n",
    "\n",
    "\n",
    "\"\"\"For netmhc results:\"\"\"\n",
    "\n",
    "def load_all_tables(path):\n",
    "    \"\"\"Load all tables in directory and concat them into one big table\"\"\"\n",
    "    return pd.concat([load_allele_table(f,all_from_fname(f)) for f in glob.glob(path)])\n",
    "\n",
    "def load_allele_table(fname,allele):\n",
    "    \"\"\"Load a result table and annotate with allele\"\"\"\n",
    "    #note they are .xls but csv files...\n",
    "    tmp_table=pd.read_csv(fname,sep='\\t')\n",
    "    tmp_table['mhc']=allele.replace('_','-')\n",
    "    tmp_table['peptide_length']=[len(x) for x in tmp_table.sequence]\n",
    "    tmp_table['label']=(tmp_table.meas <= np.log10(500)).astype('int')\n",
    "    tmp_table['pred_tf']=1-tmp_table.pred.values/np.log10(50000)\n",
    "    return tmp_table\n",
    "\n",
    "\n",
    "def all_from_fname(fname):\n",
    "    \"\"\"Get allele from the filename\"\"\"\n",
    "    # a bit convoluted naming\n",
    "    return '_'.join(os.path.basename(fname).split('cv_gs.')[-1].split('.')[0].split('-')[:-1])"
   ]
  },
  {
   "cell_type": "markdown",
   "metadata": {},
   "source": [
    "### Functions for adding random peptides to training data"
   ]
  },
  {
   "cell_type": "code",
   "execution_count": 3,
   "metadata": {
    "collapsed": false
   },
   "outputs": [],
   "source": [
    "def create_all_random_peptides(x_in):\n",
    "    #create random peptides\n",
    "    random_peptides,lengs=[],[]\n",
    "    for i in xrange(8,12):\n",
    "        for j in xrange(25):\n",
    "            random_peptides.append(create_random_peptide(i))\n",
    "            lengs.append(i)\n",
    "\n",
    "    #encode amino acids\n",
    "    if x_in.size==232:\n",
    "        X_seq=encode_seq(random_peptides,random_peptides,blosum=False)\n",
    "    else:\n",
    "        X_seq=encode_seq(random_peptides,random_peptides,blosum=True)\n",
    "    \n",
    "    #stack columns\n",
    "    X=np.column_stack([X_seq,lengs])\n",
    "    \n",
    "    #return a binding too\n",
    "    y= 0.1 *np.random.random(len(random_peptides))\n",
    "        \n",
    "    return X,y\n",
    "\n",
    "def create_random_peptide(leng):\n",
    "    aa=['A', 'C', 'D', 'E', 'F', 'G', 'H', 'I', 'K', 'L', 'M', 'N', 'P','Q', 'R', 'S', 'T', 'V', 'W', 'Y']\n",
    "    return ''.join(np.random.choice(aa) for _ in range(leng))"
   ]
  },
  {
   "cell_type": "markdown",
   "metadata": {},
   "source": [
    "----\n",
    "\n",
    "\n",
    "### Cross validation scheme for both models\n"
   ]
  },
  {
   "cell_type": "code",
   "execution_count": 4,
   "metadata": {
    "collapsed": true
   },
   "outputs": [],
   "source": [
    "def cv_gs(fitter,model_spec,X,y,data,add_random_peptides=True,**kwargs):\n",
    "    \"\"\"Evaluate XGB model with cross validation.\"\"\"\n",
    "    #result\n",
    "    y_pred=np.zeros(len(y))\n",
    "    #loop folds\n",
    "    for i in xrange(5):\n",
    "        #select folds\n",
    "        test_idx=data.cv.values==i\n",
    "        train_idx=~( test_idx)\n",
    "        \n",
    "        if add_random_peptides:\n",
    "            #add random peptides\n",
    "            rx,ry=create_all_random_peptides(X[0])\n",
    "            X_train=np.concatenate([X[train_idx],rx])\n",
    "            y_train=np.concatenate([y[train_idx],ry])\n",
    "\n",
    "            #permute arrays\n",
    "            rng=np.random.RandomState(42)\n",
    "            perm=rng.permutation(len(X_train))\n",
    "            X_train,y_train=X_train[perm],y_train[perm]\n",
    "        else:\n",
    "            X_train,y_train=X[train_idx],y[train_idx]\n",
    "        \n",
    "        #train and predict\n",
    "        y_pred[test_idx]=fitter(model_spec,\n",
    "                                  X_train,y_train,\n",
    "                                  X[test_idx],**kwargs)\n",
    "    return y_pred\n",
    "\n",
    "\n",
    "def nn_fit(get_model,X_train,y_train,X_test,\n",
    "                      patience=10,nb_epoch=100,**kwargs):\n",
    "    \"\"\"Fit model on train test set with early stopping.\"\"\"\n",
    "    #get model\n",
    "    model=get_model(X_train.shape[1])\n",
    "    \n",
    "    #callbacks\n",
    "    best_model=ModelCheckpoint('best_model',save_best_only=True,verbose=0)\n",
    "    early_stop=EarlyStopping(patience=patience,verbose=0)\n",
    "    \n",
    "    #train it\n",
    "    model.fit(X_train,y_train,nb_epoch = nb_epoch,validation_split=0.1,\n",
    "              callbacks=[best_model,early_stop],verbose=0,**kwargs)\n",
    "    \n",
    "    #load best model and predict\n",
    "    model.load_weights('best_model')\n",
    "    y_pred_test=model.predict(X_test).ravel()\n",
    "    \n",
    "    return y_pred_test\n",
    "\n",
    "def xgb_fit(params,X_train,y_train,X_test,\n",
    "                    num_boost_round=20000,verbose_eval=False,\n",
    "                    early_stopping_rounds=1000,validation_size=0.1):\n",
    "    \"\"\"Fit model on train test set with early stopping.\"\"\"\n",
    "    #set seed to get randomized results\n",
    "    params['seed']=np.random.randint(low=0,high=1000)\n",
    "    \n",
    "    #split validation data for early stopping\n",
    "    X_train, X_valid, y_train, y_valid = train_test_split(X_train, y_train, test_size=validation_size)\n",
    "    \n",
    "    #convert to data format for xgb\n",
    "    dtrain = xgb.DMatrix( X_train, label=y_train)\n",
    "    dvalid = xgb.DMatrix( X_valid, label=y_valid)\n",
    "    dtest = xgb.DMatrix( X_test )\n",
    "    \n",
    "    #define printed evaluations\n",
    "    evallist  = [(dtrain,'train'),(dvalid,'eval')]\n",
    "\n",
    "    #lets train\n",
    "    bst = xgb.train(params,dtrain,evals=evallist,\n",
    "                    num_boost_round=num_boost_round,\n",
    "                    early_stopping_rounds=early_stopping_rounds,\n",
    "                    verbose_eval=verbose_eval)\n",
    "    \n",
    "    #make predictions\n",
    "    y_pred_test=bst.predict(dtest)\n",
    "    \n",
    "    return y_pred_test"
   ]
  },
  {
   "cell_type": "markdown",
   "metadata": {},
   "source": [
    "### Funcions to train ensemble models"
   ]
  },
  {
   "cell_type": "code",
   "execution_count": 5,
   "metadata": {
    "collapsed": false
   },
   "outputs": [],
   "source": [
    "def mean_ensemble(X,X_blosum,y,data,fitter,model,n_sparse=10,n_blosum=10):\n",
    "    \"\"\"Train an ensemble of models, make prediction using mean.\"\"\"\n",
    "    #train sparse models\n",
    "    cv_preds_sparse=[cv_gs(fitter,model,X,y,data) for i in xrange(n_sparse) ]\n",
    "\n",
    "    #train blosum models\n",
    "    cv_preds_bls=[cv_gs(fitter,model,X_blosum,y,data) for i in xrange(n_blosum)]\n",
    "        \n",
    "    #create final prediction from the mean of predictions\n",
    "    final_preds=np.array(cv_preds_sparse+cv_preds_bls).mean(axis=0)\n",
    "    \n",
    "    return final_preds"
   ]
  },
  {
   "cell_type": "markdown",
   "metadata": {},
   "source": [
    "### Define the details of single models"
   ]
  },
  {
   "cell_type": "code",
   "execution_count": 6,
   "metadata": {
    "collapsed": true
   },
   "outputs": [],
   "source": [
    "def mhc_net(input_dim,n_dense=5):\n",
    "    \"\"\"\n",
    "    Create a Keras model similar to netmhc networks.\n",
    "    \n",
    "    Activations were selected after some trials. I dont know what netmhc uses.\n",
    "    \"\"\"\n",
    "    \n",
    "    model = Sequential()\n",
    "    model.add(Dense(n_dense, input_dim=input_dim,activation='tanh'))\n",
    "    model.add(Dense(1,activation='sigmoid'))\n",
    "    model.compile(loss='mean_squared_error', optimizer='adam')\n",
    "    return model\n",
    "\n",
    "\n",
    "#xgboost model params\n",
    "xgb_params = {'max_depth':5,\n",
    "         'eta':0.005,\n",
    "         'min_child_weight':10,\n",
    "         'colsample_bytree':0.7,\n",
    "         'subsample':0.8,\n",
    "         'silent':1,\n",
    "         'objective': \"reg:linear\",\n",
    "         'eval_metric': 'rmse',\n",
    "         'nthread':4}"
   ]
  },
  {
   "cell_type": "markdown",
   "metadata": {},
   "source": [
    "### Load data"
   ]
  },
  {
   "cell_type": "code",
   "execution_count": 7,
   "metadata": {
    "collapsed": false
   },
   "outputs": [],
   "source": [
    "X,y,data=load_data()\n",
    "X_bls,y,data=load_data(blosum=True)\n",
    "netmhc_cv_res=load_all_tables('input/benchmark_mhci_reliability/predictions/cv_gs/netmhc/*')"
   ]
  },
  {
   "cell_type": "markdown",
   "metadata": {},
   "source": [
    "### Function to select one allele"
   ]
  },
  {
   "cell_type": "code",
   "execution_count": 8,
   "metadata": {
    "collapsed": false
   },
   "outputs": [],
   "source": [
    "def select_allele(allele,X,X_bls,y,data,netmhc_cv_res):\n",
    "    \"\"\"Return data from only one allele\"\"\"\n",
    "    #index\n",
    "    all_idx=(data.mhc==allele).values\n",
    "    #X\n",
    "    X_tmp=X[all_idx]\n",
    "    X_tmp_bls=X_bls[all_idx]\n",
    "    #y\n",
    "    y_tmp=y[all_idx]\n",
    "    #additional data\n",
    "    data_tmp=data[all_idx]\n",
    "    #netmhc preds\n",
    "    netmhc_tmp=netmhc_cv_res[all_idx]\n",
    "    return all_idx,X_tmp,X_tmp_bls,y_tmp,data_tmp,netmhc_tmp"
   ]
  },
  {
   "cell_type": "markdown",
   "metadata": {},
   "source": [
    "### Predict all alleles\n",
    "- This takes long long time"
   ]
  },
  {
   "cell_type": "code",
   "execution_count": 9,
   "metadata": {
    "collapsed": false
   },
   "outputs": [
    {
     "name": "stdout",
     "output_type": "stream",
     "text": [
      "H-2-Db H-2-Dd H-2-Kb H-2-Kd H-2-Kk H-2-Ld HLA-A-0101 HLA-A-0201 HLA-A-0202 HLA-A-0203 HLA-A-0206 HLA-A-0211 HLA-A-0212 HLA-A-0216 HLA-A-0219 HLA-A-0250 HLA-A-0301 HLA-A-1101 HLA-A-2301 HLA-A-2402 HLA-A-2403 HLA-A-2501 HLA-A-2601 HLA-A-2602 HLA-A-2603 HLA-A-2902 HLA-A-3001 HLA-A-3002 HLA-A-3101 HLA-A-3201 HLA-A-3301 HLA-A-6801 HLA-A-6802 HLA-A-6901 HLA-A-8001 HLA-B-0702 HLA-B-0801 HLA-B-0802 HLA-B-0803 HLA-B-1501 HLA-B-1502 HLA-B-1503 HLA-B-1509 HLA-B-1517 HLA-B-1801 HLA-B-2703 HLA-B-2705 HLA-B-3501 HLA-B-3801 HLA-B-3901 HLA-B-4001 HLA-B-4002 HLA-B-4402 HLA-B-4403 HLA-B-4501 HLA-B-4601 HLA-B-4801 HLA-B-5101 HLA-B-5301 HLA-B-5401 HLA-B-5701 HLA-B-5801 HLA-B-7301 Mamu-A-01 Mamu-A-02 Mamu-A-11 Mamu-A-2201 Mamu-B-01 Mamu-B-03 Mamu-B-08 Mamu-B-17 Patr-A-0101 Patr-A-0301 Patr-A-0401 Patr-A-0701 Patr-A-0901 Patr-B-0101 Patr-B-1301 Patr-B-2401\n"
     ]
    }
   ],
   "source": [
    "res_data=pd.DataFrame(data,copy=True)\n",
    "for allele in np.unique(data.mhc.values):\n",
    "    #select allele\n",
    "    all_idx,X_tmp,X_tmp_bls,y_tmp,data_tmp,netmhc_tmp=select_allele(allele,X,X_bls,y,data,netmhc_cv_res)\n",
    "\n",
    "    #nn ensemble\n",
    "    nn_pred=mean_ensemble(X_tmp,X_tmp_bls,y_tmp,data_tmp,nn_fit,mhc_net,n_sparse=10,n_blosum=10)\n",
    "    #xgb ensemble\n",
    "    xgb_pred=mean_ensemble(X_tmp,X_tmp_bls,y_tmp,data_tmp,xgb_fit,xgb_params,n_sparse=1,n_blosum=1)\n",
    "    #nn+xgb\n",
    "    nn_xgb_pred=np.array(np.concatenate([[nn_pred],[xgb_pred]])).mean(axis=0)\n",
    "    \n",
    "    #save preds\n",
    "    res_data.loc[all_idx,'nn']=nn_pred\n",
    "    res_data.loc[all_idx,'xgb']=xgb_pred\n",
    "    res_data.loc[all_idx,'nn_xgb']=nn_xgb_pred\n",
    "    \n",
    "    print allele,"
   ]
  },
  {
   "cell_type": "code",
   "execution_count": 15,
   "metadata": {
    "collapsed": true
   },
   "outputs": [],
   "source": [
    "res_data.to_csv('all_specific_training_results_no_nestcv.csv',index=False)"
   ]
  },
  {
   "cell_type": "markdown",
   "metadata": {},
   "source": [
    "## Results"
   ]
  },
  {
   "cell_type": "code",
   "execution_count": 11,
   "metadata": {
    "collapsed": true
   },
   "outputs": [],
   "source": [
    "\"\"\"\n",
    "A bit convoluted way to aggregate in pandas dataframes on multiple columns with different column names,\n",
    "but now it will be okay. I will look into this later maybe.\n",
    "\"\"\"\n",
    "\n",
    "def agg_auc_nn(group):\n",
    "    return agg_auc(group,'nn')\n",
    "\n",
    "def agg_auc_xgb(group):\n",
    "    return agg_auc(group,'xgb')\n",
    "\n",
    "def agg_auc_nn_xgb(group):\n",
    "    return agg_auc(group,'nn_xgb')\n",
    "\n",
    "def agg_auc_netmhc(group):\n",
    "    return agg_auc(group,'pred_tf')\n",
    "\n",
    "def agg_auc_netmhc_xgb(group):\n",
    "    return agg_auc(group,'netmhc_xgb')\n",
    "\n",
    "\n",
    "def agg_auc(group,col):\n",
    "    y = group['label_x'].values\n",
    "    pred = group[col].values\n",
    "    \n",
    "    if len(np.unique(y))==1:\n",
    "        return 1\n",
    "    else:\n",
    "        return roc_auc_score(y,pred)"
   ]
  },
  {
   "cell_type": "code",
   "execution_count": 12,
   "metadata": {
    "collapsed": false
   },
   "outputs": [],
   "source": [
    "# merge with netmhc res\n",
    "all_res=res_data.merge(netmhc_cv_res,on=['mhc','sequence'])\n",
    "\n",
    "#add a netmhc xgb ensemble\n",
    "all_res['netmhc_xgb']=0.5*(all_res.pred_tf+all_res.xgb)\n",
    "\n",
    "## aggregate\n",
    "grouped=all_res.groupby('mhc',as_index=False)\n",
    "\n",
    "#get auc\n",
    "all_auc_df=grouped.agg(agg_auc_nn)[['mhc']]\n",
    "all_auc_df['counts']=grouped['mhc'].size().values\n",
    "all_auc_df['nn']=grouped.agg(agg_auc_nn)[['cv']]\n",
    "all_auc_df['xgb']=grouped.agg(agg_auc_xgb)[['cv']]\n",
    "all_auc_df['nn_xgb']=grouped.agg(agg_auc_nn_xgb)[['cv']]\n",
    "all_auc_df['netmhc']=grouped.agg(agg_auc_netmhc)[['cv']]\n",
    "all_auc_df['netmhc_xgb']=grouped.agg(agg_auc_netmhc_xgb)[['cv']]"
   ]
  },
  {
   "cell_type": "markdown",
   "metadata": {},
   "source": [
    "### Averaged results"
   ]
  },
  {
   "cell_type": "code",
   "execution_count": 13,
   "metadata": {
    "collapsed": false
   },
   "outputs": [
    {
     "name": "stdout",
     "output_type": "stream",
     "text": [
      "NetMHC AUC: 0.904293891309\n",
      "my nn mean AUC: 0.897869533861\n",
      "my xgb mean AUC: 0.907416522918\n",
      "my nn+xgb mean AUC: 0.910406232264\n",
      "NetMHC + xgb mean AUC: 0.914596805599\n"
     ]
    }
   ],
   "source": [
    "print \"NetMHC AUC:\", all_auc_df['netmhc'].mean()\n",
    "print \"my nn mean AUC:\", all_auc_df['nn'].mean()\n",
    "print \"my xgb mean AUC:\", all_auc_df['xgb'].mean()\n",
    "print \"my nn+xgb mean AUC:\", all_auc_df['nn_xgb'].mean()\n",
    "print \"NetMHC + xgb mean AUC:\", all_auc_df['netmhc_xgb'].mean()"
   ]
  },
  {
   "cell_type": "markdown",
   "metadata": {},
   "source": [
    "### Ensemble outperformed netmhc when the number of measurements were small"
   ]
  },
  {
   "cell_type": "code",
   "execution_count": 18,
   "metadata": {
    "collapsed": false
   },
   "outputs": [
    {
     "data": {
      "image/png": "[encoded data removed]",
      "text/plain": [
       "<matplotlib.figure.Figure at 0x7f8f68e6ac90>"
      ]
     },
     "metadata": {},
     "output_type": "display_data"
    }
   ],
   "source": [
    "plt.plot(all_auc_df['counts'],all_auc_df['netmhc_xgb']-all_auc_df['netmhc'],'o')\n",
    "plt.axhline(0,c='g')\n",
    "plt.xlabel('number of measurements')\n",
    "plt.ylabel(' netmc & xgb AUC - netmhc AUC')\n",
    "_=plt.xlim(100,1000)"
   ]
  }
 ],
 "metadata": {
  "anaconda-cloud": {},
  "kernelspec": {
   "display_name": "Python [default]",
   "language": "python",
   "name": "python2"
  },
  "language_info": {
   "codemirror_mode": {
    "name": "ipython",
    "version": 2
   },
   "file_extension": ".py",
   "mimetype": "text/x-python",
   "name": "python",
   "nbconvert_exporter": "python",
   "pygments_lexer": "ipython2",
   "version": "2.7.12"
  }
 },
 "nbformat": 4,
 "nbformat_minor": 0
}
